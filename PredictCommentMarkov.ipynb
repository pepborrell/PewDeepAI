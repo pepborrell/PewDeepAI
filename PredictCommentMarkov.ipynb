{
  "nbformat": 4,
  "nbformat_minor": 0,
  "metadata": {
    "colab": {
      "name": "PredictCommentMarkov.ipynb",
      "provenance": [],
      "collapsed_sections": [],
      "machine_shape": "hm",
      "include_colab_link": true
    },
    "kernelspec": {
      "name": "python3",
      "display_name": "Python 3"
    },
    "accelerator": "GPU"
  },
  "cells": [
    {
      "cell_type": "markdown",
      "metadata": {
        "id": "view-in-github",
        "colab_type": "text"
      },
      "source": [
        "<a href=\"https://colab.research.google.com/github/pepborrell/LauzHack2019/blob/master/PredictCommentMarkov.ipynb\" target=\"_parent\"><img src=\"https://colab.research.google.com/assets/colab-badge.svg\" alt=\"Open In Colab\"/></a>"
      ]
    },
    {
      "cell_type": "code",
      "metadata": {
        "id": "LV84pOuMR2CW",
        "colab_type": "code",
        "outputId": "f0e984b6-781f-4010-b784-c4d70e3f3b6a",
        "colab": {
          "base_uri": "https://localhost:8080/",
          "height": 63
        }
      },
      "source": [
        "import pandas as pd\n",
        "import numpy as np\n",
        "import tensorflow as tf\n",
        "import tensorflow.keras\n",
        "from tensorflow.keras.models import Model\n",
        "from tensorflow.keras.layers import Input, Dense, LSTM, Embedding, Dropout, Add, Concatenate, TimeDistributed\n",
        "import tensorflow.keras.preprocessing.image as image\n",
        "import tensorflow.keras.preprocessing.sequence as sequence\n",
        "from tensorflow.keras.applications.vgg16 import preprocess_input\n",
        "from tensorflow.keras.applications import VGG16\n",
        "from tensorflow.keras.utils import to_categorical\n",
        "#from tensorflow.keras.applications.inception_v3 import preprocess_input, InceptionV3"
      ],
      "execution_count": 2,
      "outputs": [
        {
          "output_type": "display_data",
          "data": {
            "text/html": [
              "<p style=\"color: red;\">\n",
              "The default version of TensorFlow in Colab will soon switch to TensorFlow 2.x.<br>\n",
              "We recommend you <a href=\"https://www.tensorflow.org/guide/migrate\" target=\"_blank\">upgrade</a> now \n",
              "or ensure your notebook will continue to use TensorFlow 1.x via the <code>%tensorflow_version 1.x</code> magic:\n",
              "<a href=\"https://colab.research.google.com/notebooks/tensorflow_version.ipynb\" target=\"_blank\">more info</a>.</p>\n"
            ],
            "text/plain": [
              "<IPython.core.display.HTML object>"
            ]
          },
          "metadata": {
            "tags": []
          }
        }
      ]
    },
    {
      "cell_type": "markdown",
      "metadata": {
        "id": "KDaww52qT6oN",
        "colab_type": "text"
      },
      "source": [
        "# Predicting the comment\n",
        "From an image, we want to predict a comment."
      ]
    },
    {
      "cell_type": "markdown",
      "metadata": {
        "id": "DyR__rQjURk-",
        "colab_type": "text"
      },
      "source": [
        "## Loading the data"
      ]
    },
    {
      "cell_type": "code",
      "metadata": {
        "id": "JkBH_CrCTvpx",
        "colab_type": "code",
        "outputId": "c259a6bb-cc38-4b8e-8501-8877fb3ecb3a",
        "colab": {
          "base_uri": "https://localhost:8080/",
          "height": 204
        }
      },
      "source": [
        "#url = 'https://pastebin.com/raw/SjMqw5Wx'\n",
        "# url = 'https://pastebin.com/raw/Kbr3apyg'\n",
        "# url = 'https://pastebin.com/raw/r2E7KsWP'\n",
        "url = 'https://pastebin.com/raw/LDU9XZpU'\n",
        "df = pd.read_csv(url)\n",
        "\n",
        "df.head()"
      ],
      "execution_count": 0,
      "outputs": [
        {
          "output_type": "execute_result",
          "data": {
            "text/html": [
              "<div>\n",
              "<style scoped>\n",
              "    .dataframe tbody tr th:only-of-type {\n",
              "        vertical-align: middle;\n",
              "    }\n",
              "\n",
              "    .dataframe tbody tr th {\n",
              "        vertical-align: top;\n",
              "    }\n",
              "\n",
              "    .dataframe thead th {\n",
              "        text-align: right;\n",
              "    }\n",
              "</style>\n",
              "<table border=\"1\" class=\"dataframe\">\n",
              "  <thead>\n",
              "    <tr style=\"text-align: right;\">\n",
              "      <th></th>\n",
              "      <th>id</th>\n",
              "      <th>postid</th>\n",
              "      <th>url</th>\n",
              "      <th>upvotes</th>\n",
              "      <th>top comment</th>\n",
              "    </tr>\n",
              "  </thead>\n",
              "  <tbody>\n",
              "    <tr>\n",
              "      <th>0</th>\n",
              "      <td>0</td>\n",
              "      <td>dpoppg</td>\n",
              "      <td>https://i.redd.it/v91swki75wv31.jpg</td>\n",
              "      <td>125639</td>\n",
              "      <td>['Ah\\\\ yes\\\\ the\\\\ I\\\\̓\\\\̉\\\\̓\\\\̆\\\\͗\\\\̭\\\\͇\\\\͙\\\\...</td>\n",
              "    </tr>\n",
              "    <tr>\n",
              "      <th>1</th>\n",
              "      <td>1</td>\n",
              "      <td>dikhsj</td>\n",
              "      <td>https://i.redd.it/osr5o5ox5us31.jpg</td>\n",
              "      <td>105442</td>\n",
              "      <td>['As\\\\ an\\\\ Italian\\\\,\\\\ I\\\\ 100\\\\%\\\\ relate',...</td>\n",
              "    </tr>\n",
              "    <tr>\n",
              "      <th>2</th>\n",
              "      <td>2</td>\n",
              "      <td>ds0ttz</td>\n",
              "      <td>https://i.redd.it/p9a9mskj0ww31.jpg</td>\n",
              "      <td>65</td>\n",
              "      <td>['That\\\\'s\\\\ my\\\\ master\\\\ plan', 'OP\\\\ really...</td>\n",
              "    </tr>\n",
              "    <tr>\n",
              "      <th>3</th>\n",
              "      <td>3</td>\n",
              "      <td>dgcuf8</td>\n",
              "      <td>https://i.redd.it/flsim843wvr31.jpg</td>\n",
              "      <td>138513</td>\n",
              "      <td>['What\\\\'s\\\\ the\\\\ difference\\\\ between\\\\ 1\\\\ ...</td>\n",
              "    </tr>\n",
              "    <tr>\n",
              "      <th>4</th>\n",
              "      <td>4</td>\n",
              "      <td>dplvla</td>\n",
              "      <td>https://i.redd.it/4j8thq1lyuv31.jpg</td>\n",
              "      <td>35836</td>\n",
              "      <td>['F', '\\\\⠀\\\\⠀\\\\⢀\\\\⡤\\\\⢶\\\\⣶\\\\⣶\\\\⡄\\\\⠀\\\\⠀\\\\⠀\\\\⠀\\\\⠀...</td>\n",
              "    </tr>\n",
              "  </tbody>\n",
              "</table>\n",
              "</div>"
            ],
            "text/plain": [
              "   id  postid  ... upvotes                                        top comment\n",
              "0   0  dpoppg  ...  125639  ['Ah\\\\ yes\\\\ the\\\\ I\\\\̓\\\\̉\\\\̓\\\\̆\\\\͗\\\\̭\\\\͇\\\\͙\\\\...\n",
              "1   1  dikhsj  ...  105442  ['As\\\\ an\\\\ Italian\\\\,\\\\ I\\\\ 100\\\\%\\\\ relate',...\n",
              "2   2  ds0ttz  ...      65  ['That\\\\'s\\\\ my\\\\ master\\\\ plan', 'OP\\\\ really...\n",
              "3   3  dgcuf8  ...  138513  ['What\\\\'s\\\\ the\\\\ difference\\\\ between\\\\ 1\\\\ ...\n",
              "4   4  dplvla  ...   35836  ['F', '\\\\⠀\\\\⠀\\\\⢀\\\\⡤\\\\⢶\\\\⣶\\\\⣶\\\\⡄\\\\⠀\\\\⠀\\\\⠀\\\\⠀\\\\⠀...\n",
              "\n",
              "[5 rows x 5 columns]"
            ]
          },
          "metadata": {
            "tags": []
          },
          "execution_count": 3
        }
      ]
    },
    {
      "cell_type": "markdown",
      "metadata": {
        "id": "2m0ApnJMqwe9",
        "colab_type": "text"
      },
      "source": [
        "## Text cleaning and preprocessing\n"
      ]
    },
    {
      "cell_type": "code",
      "metadata": {
        "id": "J8Hdph0Nq2eN",
        "colab_type": "code",
        "outputId": "b685319d-d781-41c1-bbe0-f55b746b2582",
        "colab": {
          "base_uri": "https://localhost:8080/",
          "height": 51
        }
      },
      "source": [
        "import string\n",
        "import nltk\n",
        "nltk.download('stopwords')\n",
        "from nltk.corpus import stopwords\n",
        "st_words = set(stopwords.words('english'))\n",
        "\n",
        "def cleanWords(text):\n",
        "    # prepare translation table for removing punctuation\n",
        "    table = str.maketrans('', '', string.punctuation)\n",
        "    # Convert to lowercase\n",
        "    text = [word.lower() for word in text]\n",
        "    # remove punctuation from each token\n",
        "    text = [word.translate(table) for word in text]\n",
        "    # remove hanging 's' and 'a'\n",
        "    text = [word for word in text if len(word)>1 or word in ['i', 'u']]\n",
        "    # remove tokens with numbers in them\n",
        "    text = [word for word in text if not word.isnumeric()]\n",
        "    # remove stopwords\n",
        "    # text = [word for word in text if not word in st_words]\n",
        "    # remove forbidden words\n",
        "    forbidden_words = []\n",
        "    text = [word for word in text if word not in forbidden_words]\n",
        "    return text\n",
        "\n",
        "def cleanComment(text):\n",
        "    text = text.split(' ')\n",
        "    text = cleanWords(text)\n",
        "    return text\n",
        "\n",
        "def addStartEndSeq(words):\n",
        "    return ['startseq'] + words + ['endseq']"
      ],
      "execution_count": 7,
      "outputs": [
        {
          "output_type": "stream",
          "text": [
            "[nltk_data] Downloading package stopwords to /root/nltk_data...\n",
            "[nltk_data]   Unzipping corpora/stopwords.zip.\n"
          ],
          "name": "stdout"
        }
      ]
    },
    {
      "cell_type": "code",
      "metadata": {
        "id": "WTZLKf8SuPUT",
        "colab_type": "code",
        "colab": {}
      },
      "source": [
        "df['clean_comment'] = df.apply(lambda x : cleanComment(x['top comment']), axis=1)\n",
        "\n",
        "df['clean_comment'] = df.apply(lambda x : addStartEndSeq(x['clean_comment']), axis=1)\n",
        "\n",
        "max_comment_length = max(len(x) for x in df['clean_comment'])\n",
        "max_comment_length = 30\n",
        "\n",
        "df_copy = df\n",
        "df = df[df['clean_comment'].apply(lambda x : len(x) >= 3)]\n",
        "df = df[df['clean_comment'].apply(lambda x : len(x) <= max_comment_length)]\n",
        "\n",
        "all_text = []\n",
        "for text in df['clean_comment']:\n",
        "    all_text += text\n",
        "\n",
        "from collections import Counter\n",
        "counter = Counter(all_text)\n",
        "word_freq = list(counter.items())\n",
        "word_freq.sort(key = (lambda x : -x[1]))\n",
        "word_freq = ['PAD'] + word_freq\n",
        "\n",
        "# To check where are word frequencies change\n",
        "# for idx, elem in enumerate(word_freq):\n",
        "#     if elem[1] == 2:\n",
        "#         print(idx)\n",
        "#         break"
      ],
      "execution_count": 0,
      "outputs": []
    },
    {
      "cell_type": "code",
      "metadata": {
        "id": "5WwJZ76kmGzd",
        "colab_type": "code",
        "outputId": "cc8e7a1c-0d7a-4bb0-ec71-1e8e2d4ae21c",
        "colab": {
          "base_uri": "https://localhost:8080/",
          "height": 316
        }
      },
      "source": [
        "import matplotlib.pyplot as plt\n",
        "sizes = [len(x) for x in df['clean_comment']]\n",
        "plt.hist(sizes, range=(0,35))"
      ],
      "execution_count": 0,
      "outputs": [
        {
          "output_type": "execute_result",
          "data": {
            "text/plain": [
              "(array([ 0., 13., 40., 45., 56., 39., 47., 33., 23.,  0.]),\n",
              " array([ 0. ,  3.5,  7. , 10.5, 14. , 17.5, 21. , 24.5, 28. , 31.5, 35. ]),\n",
              " <a list of 10 Patch objects>)"
            ]
          },
          "metadata": {
            "tags": []
          },
          "execution_count": 6
        },
        {
          "output_type": "display_data",
          "data": {
            "image/png": "[encoded data removed]",
            "text/plain": [
              "<Figure size 432x288 with 1 Axes>"
            ]
          },
          "metadata": {
            "tags": []
          }
        }
      ]
    },
    {
      "cell_type": "code",
      "metadata": {
        "id": "d67cDjKV0e8Q",
        "colab_type": "code",
        "outputId": "ff1c9223-3450-49c3-ff60-662d8de76a77",
        "colab": {
          "base_uri": "https://localhost:8080/",
          "height": 54
        }
      },
      "source": [
        "print(word_freq)"
      ],
      "execution_count": 0,
      "outputs": [
        {
          "output_type": "stream",
          "text": [
            "['PAD', ('startseq', 296), ('endseq', 296), ('the', 157), ('i', 144), ('you', 92), ('is', 87), ('to', 63), ('it', 59), ('this', 55), ('that', 55), ('of', 48), ('and', 42), ('no', 42), ('what', 36), ('not', 36), ('in', 36), ('just', 34), ('was', 30), ('my', 29), ('for', 29), ('me', 27), ('but', 27), ('on', 27), ('im', 26), ('are', 26), ('be', 26), ('ok', 23), ('its', 23), ('so', 21), ('like', 20), ('dont', 20), ('can', 19), ('how', 19), ('at', 17), ('here', 17), ('boomer', 17), ('we', 17), ('yes', 16), ('have', 16), ('your', 16), ('know', 16), ('only', 16), ('who', 15), ('all', 15), ('or', 15), ('thats', 14), ('one', 14), ('good', 14), ('too', 14), ('nice', 14), ('he', 14), ('oh', 14), ('an', 13), ('i’m', 13), ('if', 13), ('with', 13), ('now', 12), ('yeah', 12), ('do', 12), ('will', 12), ('from', 11), ('then', 11), ('meme', 11), ('thanks', 11), ('because', 11), ('see', 11), ('right', 11), ('it’s', 11), ('fuck', 11), ('got', 10), ('about', 10), ('happy', 10), ('day', 10), ('joe', 10), ('even', 10), ('would', 10), ('funny', 10), ('well', 9), ('did', 9), ('when', 9), ('them', 9), ('gay', 9), ('why', 9), ('youre', 9), ('shit', 9), ('has', 9), ('they', 9), ('where', 9), ('think', 9), ('big', 9), ('really', 8), ('mods', 8), ('cool', 8), ('way', 8), ('wrong', 8), ('man', 8), ('cake', 8), ('lmao', 8), ('could', 8), ('lol', 8), ('get', 8), ('post', 8), ('out', 8), ('as', 7), ('off', 7), ('there', 7), ('mean', 7), ('more', 7), ('dank', 7), ('that’s', 7), ('said', 7), ('been', 7), ('bruh', 7), ('had', 7), ('up', 7), ('ive', 7), ('never', 6), ('say', 6), ('fortnite', 6), ('before', 6), ('thank', 6), ('great', 6), ('him', 6), ('fucking', 6), ('same', 6), ('by', 6), ('new', 6), ('reddit', 6), ('don’t', 6), ('cant', 6), ('minecraft', 6), ('u', 6), ('comment', 6), ('time', 6), ('damn', 6), ('days', 6), ('joke', 6), ('whats', 5), ('sorry', 5), ('upvotes', 5), ('seen', 5), ('much', 5), ('come', 5), ('our', 5), ('though', 5), ('yea', 5), ('she', 5), ('need', 5), ('thought', 5), ('infected', 5), ('those', 5), ('were', 5), ('over', 5), ('go', 5), ('back', 5), ('memes', 5), ('nah', 5), ('remember', 5), ('getting', 5), ('his', 5), ('trees', 5), ('some', 5), ('hate', 5), ('you’re', 5), ('guy', 5), ('am', 5), ('someone', 5), ('actually', 5), ('school', 5), ('upvote', 5), ('ah', 4), ('happened', 4), ('gang', 4), ('sure', 4), ('little', 4), ('bad', 4), ('tell', 4), ('people', 4), ('can’t', 4), ('other', 4), ('change', 4), ('question', 4), ('hot', 4), ('wait', 4), ('point', 4), ('every', 4), ('sounds', 4), ('agree', 4), ('went', 4), ('didn’t', 4), ('submission', 4), ('featured', 4), ('rmodsgay', 4), ('find', 4), ('die', 4), ('better', 4), ('being', 4), ('single', 4), ('does', 4), ('years', 4), ('want', 4), ('still', 4), ('real', 4), ('haha', 4), ('god', 4), ('stop', 4), ('aren’t', 4), ('came', 4), ('boomers', 4), ('top', 4), ('look', 4), ('please', 4), ('bro', 4), ('ari', 4), ('make', 4), ('says', 4), ('again', 4), ('hell', 4), ('started', 4), ('kind', 4), ('difference', 3), ('also', 3), ('number', 3), ('while', 3), ('should', 3), ('laugh', 3), ('apple', 3), ('best', 3), ('very', 3), ('saw', 3), ('app', 3), ('nope', 3), ('wasn’t', 3), ('course', 3), ('reference', 3), ('dad', 3), ('store', 3), ('everyone', 3), ('he’s', 3), ('opinion', 3), ('part', 3), ('nobody', 3), ('probably', 3), ('always', 3), ('problem', 3), ('later', 3), ('words', 3), ('saying', 3), ('proud', 3), ('confused', 3), ('comments', 3), ('coming', 3), ('love', 3), ('legit', 3), ('android', 3), ('tbh', 3), ('guys', 3), ('trash', 3), ('give', 3), ('link', 3), ('template', 3), ('put', 3), ('first', 3), ('november', 3), ('help', 3), ('idea', 3), ('mama', 3), ('generation', 3), ('work', 3), ('yet', 3), ('dumb', 3), ('exactly', 3), ('boy', 3), ('true', 3), ('week', 3), ('ur', 3), ('stereotypes', 3), ('spelled', 3), ('dude', 3), ('wtf', 3), ('high', 3), ('posted', 3), ('gen', 3), ('late', 3), ('two', 3), ('girl', 3), ('fix', 3), ('maybe', 3), ('made', 3), ('down', 3), ('america', 3), ('cube', 3), ('relate', 2), ('mom', 2), ('plan', 2), ('op', 2), ('hong', 2), ('kong', 2), ('update', 2), ('ti', 2), ('crime', 2), ('guess', 2), ('earth', 2), ('looks', 2), ('imagine', 2), ('making', 2), ('things', 2), ('kid', 2), ('english', 2), ('both', 2), ('hey', 2), ('video', 2), ('epic', 2), ('bitch', 2), ('sneaky', 2), ('idk', 2), ('das', 2), ('failed', 2), ('delete', 2), ('donated', 2), ('job', 2), ('money', 2), ('btw', 2), ('their', 2), ('low', 2), ('zoomer', 2), ('already', 2), ('organ', 2), ('doesnt', 2), ('meant', 2), ('whole', 2), ('xd', 2), ('her', 2), ('throat', 2), ('nae', 2), ('swiggity', 2), ('swooty', 2), ('comin', 2), ('bootay', 2), ('ladies', 2), ('extra', 2), ('area', 2), ('year', 2), ('except', 2), ('since', 2), ('script', 2), ('under', 2), ('keanu', 2), ('infection', 2), ('fake', 2), ('picture', 2), ('yuri', 2), ('image', 2), ('hope', 2), ('land', 2), ('many', 2), ('around', 2), ('after', 2), ('edgy', 2), ('shame', 2), ('lot', 2), ('non', 2), ('congrats', 2), ('these', 2), ('weeks', 2), ('black', 2), ('blue', 2), ('deserve', 2), ('ligma', 2), ('looked', 2), ('milk', 2), ('phone', 2), ('few', 2), ('cringe', 2), ('worth', 2), ('russian', 2), ('nioce', 2), ('place', 2), ('woman', 2), ('left', 2), ('episode', 2), ('together', 2), ('quality', 2), ('dark', 2), ('theme', 2), ('thighs', 2), ('bought', 2), ('try', 2), ('silver', 2), ('silly', 2), ('heard', 2), ('law', 2), ('crying', 2), ('upvoted', 2), ('song', 2), ('life', 2), ('playing', 2), ('gamers', 2), ('gonna', 2), ('instead', 2), ('died', 2), ('works', 2), ('yare', 2), ('anime', 2), ('irl', 2), ('agreed', 2), ('europe', 2), ('white', 2), ('youve', 2), ('weak', 2), ('least', 2), ('months', 2), ('longest', 2), ('moment', 2), ('ever', 2), ('what’s', 2), ('away', 2), ('fit', 2), ('everything', 2), ('otherwise', 2), ('stands', 2), ('game', 2), ('difficult', 2), ('society', 2), ('pizza', 2), ('else', 2), ('chrome', 2), ('anyone', 2), ('female', 2), ('forgot', 2), ('noticed', 2), ('us', 2), ('didnt', 2), ('let', 2), ('use', 2), ('hail', 2), ('cries', 2), ('page', 2), ('either', 2), ('telling', 2), ('leave', 2), ('lost', 2), ('bois', 2), ('bring', 2), ('amazing', 2), ('scene', 2), ('audible', 2), ('noo', 2), ('sort', 2), ('joking', 2), ('touch', 2), ('ya', 2), ('okay', 2), ('losing', 2), ('adults', 2), ('enjoy', 2), ('thx', 2), ('ago', 2), ('desperately', 2), ('needed', 2), ('isnt', 2), ('kinda', 2), ('poster', 2), ('requiem', 2), ('tragic', 2), ('supposed', 2), ('almost', 2), ('most', 2), ('tho', 2), ('wow', 2), ('animals', 2), ('talking', 2), ('millennial', 2), ('line', 2), ('understand', 2), ('pp', 2), ('into', 2), ('dick', 2), ('actual', 2), ('without', 2), ('gave', 2), ('shut', 2), ('retarded', 2), ('realize', 2), ('live', 2), ('children', 2), ('times', 2), ('original', 2), ('reply', 2), ('name', 2), ('jake', 2), ('ik', 2), ('debatable', 2), ('repost', 2), ('mee', 2), ('screw', 2), ('done', 2), ('email', 2), ('happens', 2), ('won', 2), ('close', 2), ('sexy', 2), ('lovers', 2), ('į̶̴̭͇͙̘̤̗̹̣̞̙̝͖̗̮̮͓̗͙̝͔̓̉̓̆͗̀̀͘͜͠͝͠͠͡n̴͛̔ͨ͊̌ͯ̔̏̈̊͌̌͢͏̵́́͜͝f̵̨̛͈̠̤͑̈́̐̎̀̽̅͑̒̋̅ͬ͐̂̍̍̏̈́̎ͪ̕͜͡͞͞ę̵̷̸̡͓͇̮̥̠̬̣̲͔̜̩̼͚̩̲͎̱̭̜̉̌ͣ̔̑͊͊ͨͣ̌̅ͩ̅́́͟͞c̵̸̲̙͇̖͒̆ͯ̒̋̒͢͟͜͞t̵̸̢̧̩͍͍̮̹̘̼͇ͨ͂̑̌͌̎̆͛̓͒̉ͦ͘͝͞͏̵̴̡̀͞͏ḭ̵̢̧̣̦̱̦͕̟̣̝̟ͤ̅͝͠ơ̵̸̶̶̸̢̡͉̖̘̝͍̝͔͍͔̖ͦ̐ͭ͛ͨ͋̎ͪ̃͋́̀̕͟͜͞͝n̵̸̵̸̡̧̢̳͓̬͎̮̻̬͓̫̭̦̞̬̮̠͓̭̓̎́̀̀͟͜͢͡͞ͅͅͅ', 1), ('į̵̙̜̗̻͙̘̟́̓͠n̴̞͎̗̯͚̄̈́́͐̎̒́͌̋̔͑̈̒ͅf̵̗̳̩͉͎̭̼̜̒̀͘é̸̢̡̝̬̦͉͔̬̥͈͚͎̼̮̠̊͐̄̾̆͗̈́͌̇̆̈́̾̕c̴̳͖̱̖̺͈̉͑̄̆͑͝͝t̶̛̹̳͍̓͐̆͑͐̏̀̈́̀͗̔̆', 1), ('italian', 1), ('inclusive', 1), ('hugs', 1), ('language', 1), ('mx', 1), ('motx', 1), ('alpinx', 1), ('derrapantx', 1), ('master', 1), ('pissed', 1), ('broke', 1), ('site', 1), ('between', 1), ('free', 1), ('related', 1), ('deng', 1), ('xiaoping', 1), ('⠀⠀⢀⡤⢶⣶⣶⡄⠀⠀⠀⠀⠀⠀⠀⠀⠀⠀⠀', 1), ('nn⠀⠀⢀⣠⣤⣤⣤⣿⣧⣀⣀⣀⣀⣀⣀⣀⣀⣤⡄⠀', 1), ('nn⢠⣾⡟⠋⠁⠀⠀⣸⠇⠈⣿⣿⡟⠉⠉⠉⠙⠻⣿⡀', 1), ('nn⢺⣿⡀⠀⠀⢀⡴⠋⠀⠀⣿⣿⡇⠀⠀⠀⠀⠀⠙⠇', 1), ('nn⠈⠛⠿⠶⠚⠋⣀⣤⣤⣤⣿⣿⣇⣀⣀⣴⡆⠀⠀⠀', 1), ('nn⠀⠀⠀⠀⠠⡞⠋⠀⠀⠀⣿⣿⡏⠉⠛⠻⣿⡀⠀⠀', 1), ('nn⠀⠀⠀⠀⠀⠀⠀⠀⠀⠀⣿⣿⡇⠀⠀⠀⠈⠁⠀⠀', 1), ('nn⠀⠀⣠⣶⣶⣶⣶⡄⠀⠀⣿⣿⡇⠀⠀⠀⠀⠀⠀⠀', 1), ('nn⠀⢰⣿⠟⠉⠙⢿⡟⠀⠀⣿⣿⡇⠀⠀⠀⠀⠀⠀⠀nn', 1), ('⠀⢸⡟⠀⠀⠀⠘⠀⠀⠀⣿⣿⠃⠀⠀⠀⠀⠀⠀⠀nn', 1), ('⠀⠈⢿⡄⠀⠀⠀⠀⠀⣼⣿⠏⠀⠀⠀⠀⠀⠀⠀⠀', 1), ('nn⠀⠀⠀⠙⠷⠶⠶⠶⠿⠟⠉⠀⠀⠀⠀⠀⠀⠀⠀⠀', 1), ('esrever', 1), ('dna', 1), ('pilf', 1), ('nwod', 1), ('gniht', 1), ('ym', 1), ('tup', 1), ('we’re', 1), ('partners', 1), ('billionaire', 1), ('sex', 1), ('minekrafet', 1), ('good11111', 1), ('emojis', 1), ('header', 1), ('person', 1), ('doesn’t', 1), ('exist', 1), ('inhales', 1), ('yuritarded', 1), ('processors', 1), ('market', 1), ('alrighty', 1), ('hmu', 1), ('4inch', 1), ('mcspagette', 1), ('louis', 1), ('vuitton', 1), ('smart', 1), ('fridge', 1), ('confirm', 1), ('plzzz', 1), ('rapper', 1), ('named', 1), ('rich', 1), ('brian', 1), ('learned', 1), ('foreign', 1), ('service', 1), ('institute', 1), ('ifunny', 1), ('stream', 1), ('company', 1), ('monopoly', 1), ('controlling', 1), ('games', 1), ('comp', 1), ('bamboozling', 1), ('trap', 1), ('soldier', 1), ('hehehehennhello', 1), ('umakedecisionnni', 1), ('expected', 1), ('jah', 1), ('hardbass', 1), ('bier', 1), ('fucl', 1), ('fffffuuuuuu', 1), ('another', 1), ('refuses', 1), ('infeccccc', 1), ('stonks', 1), ('hand', 1), ('elon', 1), ('musk', 1), ('yay', 1), ('wealth', 1), ('høñk', 1), ('reached', 1), ('opened', 1), ('parallel', 1), ('hells', 1), ('empire', 1), ('theater', 1), ('chain', 1), ('dropped', 1), ('lackluster', 1), ('support', 1), ('traffic', 1), ('aroena', 1), ('gōøb', 1), ('ea', 1), ('ogre', 1), ('boome4', 1), ('pulled', 1), ('ñíçé', 1), ('“coco', 1), ('donor', 1), ('animal', 1), ('knowledge', 1), ('humans', 1), ('korean', 1), ('australian', 1), ('wuss', 1), ('world', 1), ('papercut', 1), ('bamba', 1), ('molto', 1), ('grande', 1), ('cazzo', 1), ('gentlemen', 1), ('sobbingnni', 1), ('understood', 1), ('during', 1), ('nnn', 1), ('curvy', 1), ('pieces', 1), ('driftwood', 1), ('enough', 1), ('wdym', 1), ('taking', 1), ('partial', 1), ('differential', 1), ('equations', 1), ('minutes', 1), ('hed', 1), ('fornnyears', 1), ('dollars', 1), ('green', 1), ('goblin', 1), ('jacked', 1), ('next', 1), ('rounds', 1), ('sing', 1), ('songs', 1), ('others', 1), ('fan', 1), ('japan', 1), ('drugies', 1), ('reeeeee', 1), ('loves', 1), ('dying', 1), ('lua', 1), ('“neutral”', 1), ('nnelif', 1), ('“different”nn', 1), ('print“ok', 1), ('boomer”nnelif', 1), ('“good”nn', 1), ('print“meme”', 1), ('guerilla', 1), ('begone', 1), ('cat', 1), ('infect', 1), ('class', 1), ('hear', 1), ('david', 1), ('hume', 1), ('outconsume', 1), ('drink', 1), ('table', 1), ('ems', 1), ('disrespectful', 1), ('pickaxe', 1), ('swinging', 1), ('reeves', 1), ('oke', 1), ('arent', 1), ('commento', 1), ('woke', 1), ('yeetus', 1), ('fetus', 1), ('cara', 1), ('de', 1), ('gato', 1), ('gozaimasu', 1), ('shat', 1), ('ni', 1), ('hao', 1), ('shes', 1), ('dating', 1), ('content', 1), ('finger', 1), ('confirmed', 1), ('running', 1), ('spin', 1), ('jumping', 1), ('stuff', 1), ('mario', 1), ('deep', 1), ('decent', 1), ('solved', 1), ('tarded', 1), ('removing', 1), ('scum', 1), ('humanity', 1), ('choke', 1), ('mod', 1), ('cock', 1), ('unser', 1), ('bitte', 1), ('awards', 1), ('emes', 1), ('goes', 1), ('comes', 1), ('colonization', 1), ('achieved', 1), ('thomas', 1), ('tank', 1), ('engine', 1), ('british', 1), ('accent', 1), ('wash', 1), ('fine', 1), ('theyre', 1), ('interpreted', 1), ('differently', 1), ('whose', 1), ('awesome', 1), ('there’s', 1), ('sneak', 1), ('illusion', 1), ('oohh', 1), ('whatd', 1), ('donnwhat', 1), ('dyou', 1), ('sticking', 1), ('channel', 1), ('livin', 1), ('bout', 1), ('kamikaze', 1), ('alcoholic', 1), ('cause', 1), ('mr', 1), ('beastwait', 1), ('illegal', 1), ('tronks', 1), ('weeb', 1), ('geez', 1), ('sequitur', 1), ('old', 1), ('hometown', 1), ('tumblr', 1), ('ignorant', 1), ('piece', 1), ('shiti', 1), ('heading', 1), ('belong', 1), ('case', 1), ('balls', 1), ('score', 1), ('wasnt', 1), ('erratic', 1), ('child', 1), ('arrows', 1), ('goodnnothers', 1), ('beta', 1), ('select', 1), ('boi', 1), ('heheheh', 1), ('69k', 1), ('barack', 1), ('obama', 1), ('excuse', 1), ('obanomosanacatinaca', 1), ('paddle', 1), ('net', 1), ('ball', 1), ('1billion', 1), ('bil', 1), ('amoeba', 1), ('suck', 1), ('papa', 1), ('escaping', 1), ('chhhuuuu', 1), ('meddle', 1), ('elections', 1), ('russians', 1), ('stinky', 1), ('commie', 1), ('police', 1), ('skeletons', 1), ('spooooooooky', 1), ('cakeday', 1), ('fourtyfourth', 1), ('skipped', 1), ('car', 1), ('sry', 1), ('watching', 1), ('ahh', 1), ('juice', 1), ('happen', 1), ('mix', 1), ('elements', 1), ('ma', 1), ('gusta', 1), ('id', 1), ('award', 1), ('any', 1), ('coins', 1), ('bait', 1), ('xi', 1), ('jin', 1), ('pooh', 1), ('intense', 1), ('relentless', 1), ('groupthink', 1), ('troublesome', 1), ('thawed', 1), ('itd', 1), ('thingy', 1), ('using', 1), ('light', 1), ('face', 1), ('internal', 1), ('salutes', 1), ('snake', 1), ('ima', 1), ('feed', 1), ('‘it’s', 1), ('triple', 1), ('as’', 1), ('cheese', 1), ('10k', 1), ('realizing', 1), ('goose', 1), ('felt', 1), ('yaaaas', 1), ('tanks', 1), ('underrated', 1), ('kill', 1), ('heavy', 1), ('nobodynngod', 1), ('that´s', 1), ('alot', 1), ('damage', 1), ('bett', 1), ('equivalent', 1), ('exchange', 1), ('fear', 1), ('tomorrow', 1), ('i’ll', 1), ('above', 1), ('today', 1), ('weve', 1), ('latest', 1), ('pepperidge', 1), ('farm', 1), ('remembers', 1), ('clearly', 1), ('depression', 1), ('period', 1), ('um', 1), ('footprint', 1), ('size', 1), ('portugal', 1), ('water', 1), ('wet', 1), ('holy', 1), ('crap', 1), ('mustve', 1), ('quickly', 1), ('interested', 1), ('rpgs', 1), ('terarria', 1), ('slingshot', 1), ('intensifies', 1), ('joker', 1), ('mains', 1), ('upvoting', 1), ('int', 1), ('macolovia', 1), ('starts', 1), ('il', 1), ('vento', 1), ('doro', 1), ('roasting', 1), ('wheelchair', 1), ('shoots', 1), ('fingernail', 1), ('nutted', 1), ('start', 1), ('ddd', 1), ('early', 1), ('hes', 1), ('shaped', 1), ('discs', 1), ('earphones', 1), ('incanal', 1), ('nvm', 1), ('daughter', 1), ('sugma', 1), ('silent', 1), ('missing', 1), ('aint', 1), ('honest', 1), ('daze', 1), ('plot', 1), ('twists', 1), ('stress', 1), ('mattcap', 1), ('noiçe', 1), ('yo', 1), ('airpods', 1), ('wheres', 1), ('lie', 1), ('spook', 1), ('boys', 1), ('tarted', 1), ('honey', 1), ('storm', 1), ('“don’t', 1), ('move', 1), ('bro”', 1), ('remeber', 1), ('queen', 1), ('background', 1), ('huzzah', 1), ('unable', 1), ('proved', 1), ('doot', 1), ('incoming', 1), ('england', 1), ('thread', 1), ('pilgrimage', 1), ('pray', 1), ('thee', 1), ('king', 1), ('crimson', 1), ('photoshop', 1), ('cc', 1), ('users', 1), ('crackeeeeeeers', 1), ('arrivederci', 1), ('unzips', 1), ('dicknnari', 1), ('אוקיי', 1), ('גם', 1), ('לך', 1), ('woah', 1), ('infectedu0001f9e0', 1), ('litteraly', 1), ('austin', 1), ('biggest', 1), ('uno', 1), ('reverse', 1), ('i’ve', 1), ('show', 1), ('yours', 1), ('power', 1), ('slapping', 1), ('bags', 1), ('scout', 1), ('sad', 1), ('nwa', 1), ('literally', 1), ('vb', 1), ('battle', 1), ('bone', 1), ('fabled', 1), ('subreddit', 1), ('fortold', 1), ('missed', 1), ('button', 1), ('hehehehe', 1), ('boycotting', 1), ('blizzard', 1), ('ben', 1), ('keine', 1), ('schwäche', 1), ('zeigen', 1), ('wondered', 1), ('holding', 1), ('stfu', 1), ('aww', 1), ('ending', 1), ('wanted', 1), ('figure', 1), ('atnncheers', 1), ('shitting', 1), ('actor', 1), ('director', 1), ('expressing', 1), ('quiet', 1), ('panzerkampfwagon', 1), ('saving', 1), ('spending', 1), ('luxury', 1), ('cleaning', 1), ('house', 1), ('inspect', 1), ('tool', 1), ('donating', 1), ('believe', 1), ('edit', 1), ('source', 1), ('code', 1), ('likes', 1), ('lambominoes', 1), ('past', 1), ('2nd', 1), ('grade', 1), ('cry', 1), ('able', 1), ('project', 1), ('friend', 1), ('r34', 1), ('homie', 1), ('hidden', 1), ('finland', 1), ('fish', 1), ('fins', 1), ('hahaahah', 1), ('numbernnnstfu', 1), ('ios', 1), ('dumbo', 1), ('mobile', 1), ('website', 1), ('google', 1), ('autocap', 1), ('patrick', 1), ('sooo', 1), ('hk', 1), ('tradition', 1), ('fair', 1), ('wii', 1), ('golden', 1), ('brudda', 1), ('grammatically', 1), ('correct', 1), ('emperor', 1), ('manknd', 1), ('absolute', 1), ('fuckn', 1), ('john', 1), ('wick', 1), ('situation', 1), ('gb', 1), ('max', 1), ('pro', 1), ('kai', 1), ('satan', 1), ('sliiiide', 1), ('turn', 1), ('three', 1), ('hundred', 1), ('ninety', 1), ('fourrrr', 1), ('trillion', 1), ('twice', 1), ('turkish', 1), ('liras', 1), ('dongs', 1), ('waiter', 1), ('speak', 1), ('take', 1), ('ton', 1), ('racist', 1), ('baguette', 1), ('scared', 1), ('prostate', 1), ('cancer', 1), ('upon', 1), ('cursed', 1), ('clingy', 1), ('full', 1), ('beard', 1), ('anymore', 1), ('disrespected', 1), ('pulls', 1), ('ak47nnthis', 1), ('decide', 1), ('shot', 1), ('sentence', 1), ('second', 1), ('nut', 1), ('291k', 1), ('movies', 1), ('sucks', 1), ('acting', 1), ('laughs', 1), ('arthur', 1), ('let’s', 1), ('midget', 1), ('rightfully', 1), ('hilarious', 1), ('china', 1), ('numbah', 1), ('four', 1), ('jojos', 1), ('dat', 1), ('worst', 1), ('winter', 1), ('russia', 1), ('omg', 1), ('finlandnand', 1), ('atleetik', 1), ('ruikul', 1), ('kange', 1), ('sinep', 1), ('urho', 1), ('kekkonen', 1), ('gary', 1), ('dead', 1), ('dump', 1), ('outback', 1), ('wildlife', 1), ('ns', 1), ('travesty', 1), ('culture', 1), ('sigh', 1), ('flair', 1), ('checks', 1), ('worked', 1), ('recently', 1), ('aids', 1), ('zombie', 1), ('hands', 1), ('memer', 1), ('nnani', 1), ('makin', 1), ('front', 1), ('mostly', 1), ('wha', 1), ('rubbing', 1), ('settings', 1), ('worldcrusher312', 1), ('haven’t', 1), ('happening', 1), ('granted', 1), ('spooky', 1), ('faster', 1), ('subscriber', 1), ('cuck', 1), ('informing', 1), ('mid', 1), ('1960s', 1), ('70s', 1), ('40s', 1), ('60s', 1), ('fs', 1), ('chat', 1), ('grown', 1), ('men', 1), ('ninja’s', 1), ('cousin', 1), ('mccully', 1), ('culkined', 1), ('hcd', 1), ('count', 1), ('shrek', 1), ('torn', 1), ('needs', 1), ('sequel', 1), ('updates', 1), ('fragment', 1), ('copy', 1), ('pasted', 1), ('gratias', 1), ('livid', 1), ('hit', 1), ('soul', 1), ('toys', 1), ('nnand', 1), ('they’re', 1), ('somebody', 1), ('used', 1), ('ahhhh', 1), ('sehr', 1), ('gut', 1), ('ich', 1), ('liebeeeeeee', 1), ('neuine', 1), ('bali', 1), ('check', 1), ('suicidal', 1), ('surprise', 1), ('wats', 1), ('lowering', 1), ('humor', 1), ('poop', 1), ('butts', 1), ('bday', 1), ('facepalm', 1), ('mate', 1), ('11th', 1), ('september', 1), ('driver', 1), ('looser', 1), ('isle', 1), ('rhodes', 1), ('idrk', 1), ('visited', 1), ('greece', 1), ('spring', 1), ('vaccinations', 1), ('steps', 1), ('she’s', 1), ('arse', 1), ('ngl', 1), ('🗿😳🗿', 1), ('disagree', 1), ('mathematicians', 1), ('defining', 1), ('designation', 1), ('something', 1), ('concept', 1), ('ayayayaya', 1), ('friends', 1), ('door', 1), ('hinge', 1), ('ss', 1), ('hi', 1), ('flustered', 1), ('played', 1), ('loser', 1), ('wondering', 1), ('newton', 1), ('leeroy', 1), ('jenkins', 1), ('references', 1), ('ph', 1), ('purged', 1), ('giorno', 1), ('giovanna', 1), ('dream', 1), ('kono', 1), ('ga', 1), ('da', 1), ('goddamn', 1), ('nearly', 1), ('100k', 1), ('motw', 1), ('guaranteed', 1), ('yah', 1), ('finish', 1), ('punchline', 1), ('dolan', 1), ('digging', 1), ('grave', 1), ('talk', 1), ('masterpiece', 1), ('movie', 1), ('lmaoo', 1), ('austrian', 1), ('cyborg', 1), ('hunting', 1), ('universal', 1), ('issues', 1), ('nicki', 1), ('minaj', 1), ('cardi', 1), ('trashy', 1), ('ugly', 1), ('crushed', 1), ('shoe', 1), ('patient', 1), ('cured', 1), ('basic', 1), ('hygiene', 1), ('medicine', 1), ('death', 1), ('nowadays', 1), ('edge', 1), ('toilet', 1), ('seat', 1), ('warm', 1), ('neptune', 1), ('afraid', 1), ('lack', 1), ('photons', 1), ('gorl', 1), ('hav', 1), ('depreshion', 1), ('gamer', 1), ('depreshon', 1), ('hsook', 1), ('credit', 1), ('nwell', 1), ('eat', 1), ('technically', 1), ('secondary', 1), ('education', 1), ('rivals', 1), ('thinking', 1), ('shitty', 1), ('moments', 1), ('web', 1), ('conjecture', 1), ('intend', 1), ('audibal', 1), ('aural', 1), ('optical', 1), ('hawkeye', 1), ('arrow', 1), ('cinnamon', 1), ('pansexual', 1), ('alexandria', 1), ('red', 1), ('goto', 1), ('turning', 1), ('gentleman', 1), ('fell', 1), ('shall', 1), ('pay', 1), ('sins', 1), ('last', 1), ('correctly', 1), ('fetish', 1), ('deviantart', 1), ('fudged', 1), ('shape', 1), ('form', 1), ('charlie', 1), ('seph', 1), ('stalin', 1), ('gf', 1), ('season', 1), ('statement', 1), ('political', 1), ('correctness', 1), ('killed', 1), ('called', 1), ('facts', 1), ('“prostitution”', 1), ('summoned', 1), ('dragon', 1), ('san', 1), ('andreas', 1), ('modpack', 1), ('knowing', 1), ('shivers', 1), ('redditors', 1), ('depending', 1), ('sacrifice', 1), ('salute', 1), ('head', 1), ('arm', 1), ('pathetic', 1), ('shrexas', 1), ('mňam', 1), ('píči', 1), ('kids', 1), ('nobel', 1), ('prize', 1), ('cardio', 1), ('blongs', 1), ('whos', 1), ('long', 1), ('level', 1), ('cunning', 1), ('baldrick', 1), ('arguing', 1), ('muffin', 1), ('uprizezepir', 1), ('shid', 1), ('backup', 1), ('noooooo', 1), ('rejected', 1), ('rise', 1), ('gayke', 1), ('jojo', 1), ('cropped', 1), ('halo', 1), ('articlepost', 1), ('jusr', 1), ('cactuses', 1), ('differnt', 1), ('plants', 1), ('pic', 1), ('zayne', 1), ('oops', 1), ('anyways', 1), ('blasting', 1), ('flex', 1), ('tape', 1), ('1000000000000000000000000000000000000000000000000000000000000000000000000000000000000000000000000000000000000000000000000000000000000000000000000000000000000000000000000000000000000000000000000000000000000000000000000000000000000000000000000000000000000000000000000000000000000000000000000000000000000000000000000000000000000000000000000000000000000000000000000000000000000000000000000000000000000000000000000000000000000000000000000000000000000000000000000000000000000000000000000000000000000000000000000000000000000000000000000000000000000000000000000000000000000000000000000000000000000000000000000000000000000000000000000000000000000000000000000000000000000000000000000000000000000000000000000000000000000000000000000000000000000000000000000000000000000000000000000000000000000000000000000000000000000000000000000000000000000000000000000000000000000000000000000000000000000000000000000000000000000000000000000000000000000000000000000000000000000000000000000000000000000000000000000000000000000000000000000000000000000000000000000000000000000000000000000000000000000000000000000000000000000000000000000000000000000000000000000000000000000000000000000000000000000000000000000000000000000000000000000000000000000000000000000000000000000000000000000000000000000000000000000000000000000000000000000000000000000000000000000000000000000000000000000000000000000000000000000000000000000000000000000000000000000000000000000000000000000000000000000000000000000000000000000000000000000000000000000000000000000000000000000000000000000000000000000000000000000000000000000000000000000000000000000000000000000000000000000000000000000000000000000000000000000000000000000000000000000000000000000000000000000000000000000000000000000000000000000000000000000000000000000000000000000000000000000000000000000000000000000000000000000000000000000000000000000000000000000000000000000000000000000000000000000000000000000000000000000000000000000000000000000000000000000000000000000000000000000000000000000000000000000000000000000000000000000000000000000000000000000000000000000000000000000000000000000000000000000000000000000000000000000000000000000000000000000000000000000000000000x', 1), ('brupvote', 1), ('mindset', 1), ('took', 1), ('dare', 1), ('listing', 1), ('shroomer', 1), ('whoops', 1), ('ops', 1), ('forgive', 1), ('poser', 1), ('feeling', 1), ('upussyslayer', 1), ('feel', 1), ('potential', 1), ('earlier', 1), ('hen', 1), ('chicken', 1), ('mcdonald’s', 1), ('yesterday', 1), ('catching', 1), ('feelings', 1), ('u0001f970u0001f970u0001f970u0001f970❤️❤️💗', 1), ('headphone', 1), ('jack', 1), ('sell', 1), ('normal', 1), ('earbuds', 1), ('buy', 1), ('historians', 1), ('allow', 1), ('introduce', 1), ('ourselves', 1), ('monkey', 1), ('math', 1), ('teacher', 1), ('brought', 1), ('fractions', 1), ('criminal', 1), ('sweden', 1), ('erika', 1), ('distance', 1), ('removed', 1), ('throw', 1), ('sub', 1), ('broooooo', 1), ('yaaaaay', 1), ('legs', 1), ('behind', 1), ('scenes', 1), ('voice', 1), ('actors', 1), ('couple', 1), ('ðąńk', 1), ('lmfao', 1), ('french', 1), ('counter', 1), ('forces', 1), ('symbol', 1), ('capital', 1), ('wallace', 1), ('feminist', 1), ('incel', 1), ('forgotten', 1), ('grandchildren', 1), ('ye', 1), ('dumbass', 1), ('shinzouuuu', 1), ('sauce', 1), ('isn’t', 1), ('attack', 1), ('titan', 1), ('mum', 1), ('shite', 1), ('play', 1), ('myself', 1), ('anyway', 1), ('heres', 1), ('raining', 1), ('blood', 1), ('terrible', 1), ('mind', 1), ('hippy', 1), ('lazy', 1), ('millenials', 1), ('rocks', 1), ('importantlynnis', 1), ('salty', 1), ('springs', 1), ('gotten', 1), ('incorrect', 1), ('calculation', 1), ('grow', 1), ('welcome', 1), ('hotel', 1), ('california', 1), ('nodankntntnt', 1), ('understandable', 1), ('glad', 1), ('reasonable', 1), ('internet', 1), ('response', 1), ('cunt', 1), ('yassss', 1), ('tongue', 1), ('urethra', 1), ('slither', 1), ('testicles', 1), ('sucked', 1), ('basically', 1), ('glorofied', 1), ('disapointment', 1), ('immeasurable', 1), ('ruined', 1), ('boomernnthat', 1), ('simple', 1), ('normie', 1), ('several', 1), ('smells', 1), ('wants', 1), ('word', 1), ('holllly', 1), ('shirt', 1), ('alone', 1), ('theres', 1), ('areas', 1), ('outside', 1), ('superior', 1), ('finds', 1), ('everytime', 1), ('arguement', 1), ('type', 1), ('send', 1), ('spell', 1), ('different', 1), ('state', 1), ('nso', 1), ('legend', 1), ('arise', 1), ('rough', 1), ('morning', 1), ('waterboard', 1), ('yourself', 1), ('lemme', 1), ('dm', 1), ('thicc', 1), ('af', 1), ('imma', 1), ('fap', 1), ('sexiest', 1), ('ogres', 1), ('spoiler', 1), ('ᚤᛖᛏ', 1), ('argument', 1), ('lead', 1), ('fight', 1), ('ight', 1), ('share', 1), ('crave', 1), ('pixels', 1), ('tom', 1), ('fuccing', 1), ('nonono', 1), ('infamous', 1), ('xcq', 1), ('anywhere', 1), ('nani', 1), ('studying', 1), ('jamming', 1), ('anal', 1), ('fisting', 1), ('براه', 1), ('مومنت', 1), ('המשימה', 1), ('נכשלה', 1), ('נתפוס', 1), ('אותם', 1), ('בפעם', 1), ('הבאה', 1), ('niggiology', 1), ('degree', 1), ('srry', 1), ('alternating', 1), ('capitals', 1), ('symbolizes', 1), ('anything', 1), ('gotta', 1), ('pillow', 1), ('girls', 1), ('commented', 1), ('break', 1), ('perfect', 1), ('333nnnn°○°', 1), ('run', 1), ('funnier', 1), ('than', 1), ('tiktoks', 1), ('burning', 1), ('feelis', 1), ('once', 1), ('stopping', 1), ('cares', 1), ('tonio', 1), ('trussardi', 1), ('lochescion', 1), ('vorrai', 1), ('dire', 1), ('‘co', 1), ('dio', 1), ('mi', 1), ('spiace', 1), ('si', 1), ('catalonian', 1), ('protesters', 1), ('write', 1), ('dijite', 1), ('tula', 1), ('brain', 1), ('often', 1), ('hhhhhhmmmmmmmmmmmmmm', 1), ('meet', 1), ('beastnnhappy', 1), ('viva', 1), ('la', 1), ('revolution', 1), ('irrelevant', 1), ('nowhere', 1), ('reason', 1), ('going', 1), ('aight', 1), ('putting', 1), ('therenfuck', 1), ('dancing', 1), ('term', 1), ('gym', 1), ('✿◠‿◠', 1), ('str', 1), ('automoderater', 1), ('antialiasing', 1), ('seys', 1), ('clid', 1), ('recovery', 1), ('nnಠಠ', 1), ('̵͇̿̿̿̿', 1), ('cute', 1), ('wannabe', 1), ('skeleton', 1), ('bromance', 1), ('dodgy', 1), ('virgin', 1), ('vs', 1), ('chad', 1), ('digdug', 1), ('lovely', 1), ('abomination', 1), ('uuwuwizard', 1), ('shisubekinedit', 1), ('kurzgesagt', 1), ('minecrafters', 1), ('urepostsleuthbot', 1), ('lose', 1), ('youll', 1), ('special', 1), ('task', 1), ('successfullynnedit', 1), ('luck', 1), ('definition', 1), ('gone', 1), ('reduced', 1), ('atoms', 1), ('summary', 1), ('absolutely', 1), ('super', 1), ('sound', 1), ('advice', 1)]\n"
          ],
          "name": "stdout"
        }
      ]
    },
    {
      "cell_type": "code",
      "metadata": {
        "id": "L-sLHfir6Dvo",
        "colab_type": "code",
        "colab": {}
      },
      "source": [
        "import requests\n",
        "response = requests.get('https://raw.githubusercontent.com/coblezc/drake-ebook/master/drake-lyrics.txt')\n",
        "all_text = cleanComment(response.text)"
      ],
      "execution_count": 0,
      "outputs": []
    },
    {
      "cell_type": "code",
      "metadata": {
        "id": "intKWMey7WIi",
        "colab_type": "code",
        "colab": {}
      },
      "source": [
        "all_text = \"Somebody once told me the world is gonna roll me I ain't the sharpest tool in the shed She was looking kind of dumb with her finger and her thumb In the shape of an L on her forehead Well, the years start coming and they don't stop coming Fed to the rules and I hit the ground running Didn't make sense not to live for fun Your brain gets smart but your head gets dumb So much to do, so much to see So what's wrong with taking the back streets? You'll never know if you don't go You'll never shine if you don't glow Hey, now, you're an All Star, get your game on, go play Hey, now, you're a Rock Star, get the show on, get paid And all that glitters is gold Only shooting stars break the mold It's a cool place and they say it gets colder You're bundled up now wait 'til you get older But the meteor men beg to differ Judging by the hole in the satellite picture The ice we skate is getting pretty thin The water's getting warm so you might as well swim My world's on fire. How about yours? That's the way I like it and I'll never get bored. [Chorus 2x] Somebody once asked could I spare some change for gas I need to get myself away from this place I said yep, what a concept I could use a little fuel myself And we could all use a little change Well, the years start coming and they don't stop coming Fed to the rules and I hit the ground running Didn't make sense not to live for fun Your brain gets smart but your head gets dumb So much to do so much to see So what's wrong with taking the back streets You'll never know if you don't go You'll never shine if you don't glow. [Chorus] And all that glitters is gold Only shooting stars break the mold\"\n",
        "\n",
        "all_text = cleanComment(all_text)"
      ],
      "execution_count": 0,
      "outputs": []
    },
    {
      "cell_type": "code",
      "metadata": {
        "id": "tozfHsGXjNZt",
        "colab_type": "code",
        "colab": {}
      },
      "source": [
        "import random\n",
        "\n",
        "def review_generator(first_word, all_text):\n",
        "    # text = ' '.join([i for i in text if not i.isdigit()]).replace(\"\\n\", \" \").split(' ')\n",
        "    \n",
        "    text = all_text\n",
        "\n",
        "    index = 1\n",
        "    chain = {}\n",
        "    text_size = 30\n",
        "    \n",
        "    for word in text[1:]:\n",
        "        key = text[index-1]\n",
        "        if key in chain:\n",
        "            chain[key].append(word)\n",
        "        else:\n",
        "            chain[key] = [word]\n",
        "        index += 1\n",
        "    \n",
        "    # word1 = random.choice(list(chain.keys()))\n",
        "    word1 = first_word\n",
        "    message = word1.capitalize()\n",
        "\n",
        "    while len(message.split(' ')) < text_size and message.split(' ')[-1] != 'endseq':\n",
        "        word2 = random.choice(chain[word1])\n",
        "        word1 = word2\n",
        "        message += ' ' + word2\n",
        "    return ' '.join(message.split()[:-1])"
      ],
      "execution_count": 0,
      "outputs": []
    },
    {
      "cell_type": "code",
      "metadata": {
        "id": "fi0edyNBkeY-",
        "colab_type": "code",
        "outputId": "95f1f86d-a727-43cb-d2bc-c40860570bd3",
        "colab": {
          "base_uri": "https://localhost:8080/",
          "height": 34
        }
      },
      "source": [
        "review_generator('gold', all_text)"
      ],
      "execution_count": 53,
      "outputs": [
        {
          "output_type": "execute_result",
          "data": {
            "text/plain": [
              "'Gold gettin hot beats still regina hall and no chorus we keep us nah ovo unruly one shot for the present and light up wait until the floor with some extra late at us two'"
            ]
          },
          "metadata": {
            "tags": []
          },
          "execution_count": 53
        }
      ]
    }
  ]
}