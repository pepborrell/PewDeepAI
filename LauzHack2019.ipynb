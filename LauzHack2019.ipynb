{
  "nbformat": 4,
  "nbformat_minor": 0,
  "metadata": {
    "colab": {
      "name": "LauzHack2019.ipynb",
      "provenance": [],
      "collapsed_sections": [],
      "include_colab_link": true
    },
    "kernelspec": {
      "name": "python3",
      "display_name": "Python 3"
    }
  },
  "cells": [
    {
      "cell_type": "markdown",
      "metadata": {
        "id": "view-in-github",
        "colab_type": "text"
      },
      "source": [
        "<a href=\"https://colab.research.google.com/github/pepborrell/LauzHack2019/blob/master/LauzHack2019.ipynb\" target=\"_parent\"><img src=\"https://colab.research.google.com/assets/colab-badge.svg\" alt=\"Open In Colab\"/></a>"
      ]
    },
    {
      "cell_type": "code",
      "metadata": {
        "id": "oHU_jSu3hnLs",
        "colab_type": "code",
        "colab": {}
      },
      "source": [
        "# Install client library\n",
        "# pip3 install --upgrade google-cloud-vision"
      ],
      "execution_count": 0,
      "outputs": []
    },
    {
      "cell_type": "code",
      "metadata": {
        "id": "NDLTsxXFA_UV",
        "colab_type": "code",
        "colab": {}
      },
      "source": [
        "# online batch image annotation - DOCS EXAMPLE\n",
        "# only retrieves information for one image\n",
        "def detect_labels_uri(uri):\n",
        "    \"\"\"Detects labels in the file located in Google Cloud Storage or on the\n",
        "    Web.\"\"\"\n",
        "    from google.cloud import vision\n",
        "    client = vision.ImageAnnotatorClient()\n",
        "    image = vision.types.Image()\n",
        "    image.source.image_uri = uri\n",
        "\n",
        "    response = client.label_detection(image=image)\n",
        "    labels = response.label_annotations\n",
        "    print('Labels:')\n",
        "\n",
        "    for label in labels:\n",
        "        print(label.description)"
      ],
      "execution_count": 0,
      "outputs": []
    },
    {
      "cell_type": "code",
      "metadata": {
        "id": "ElewUXNBm6ZZ",
        "colab_type": "code",
        "colab": {}
      },
      "source": [
        "# offline batch annotation - multiple images\n",
        "# max 2000 images\n",
        "# output: max 200 images per output file\n",
        "from google.cloud import vision\n",
        "from google.cloud.vision import enums\n",
        "\n",
        "def async_batch_annotate_images(input_image_uris, output_uri):\n",
        "  client = vision_v1.ImageAnnotatorClient()\n",
        "  requests = []\n",
        "\n",
        "  for img in input_image_uris:\n",
        "    source = {'image_uri': input_image_uri}\n",
        "    image = {'source': source}\n",
        "\n",
        "    type_ = enums.Feature.Type.LABEL_DETECTION\n",
        "    features_element = {'type': type_}\n",
        "    type_2 = enums.Feature.Type.TEXT_DETECTION\n",
        "    features_element_2 = {'type': type_2}\n",
        "    type_3 = enums.Feature.Type.WEB_DETECTION\n",
        "    features_element_3 = {'type': type_3}\n",
        "    features = [features_element, features_element_2, features_element_3]\n",
        "\n",
        "    requests_element = {'image': image, 'features': features}\n",
        "    requests.append(requests_element)\n",
        "  \n",
        "  gcs_destination = {'uri': output_uri}\n",
        "  \n",
        "  batch_size = 200\n",
        "  output_config = {'gcs_destionation': gcs_destination, 'batch_size': batch_size}\n",
        "  \n",
        "  operation = client.async_batch_annotate_images(requests, output_config)\n",
        "\n",
        "  print('Waiting for operation to complete...')\n",
        "  response = operation.result()\n",
        "\n",
        "  gcs_output_uri = response.output_config.gcs_destination.uri\n",
        "  print('Output written to GCS with prefix: {}'.format(gcs_output_uri))\n",
        "\n",
        "# open file with image uris\n",
        "# read uris as list\n",
        "# call async_batch_annotate_images(uri_list, \"custom_output_uri\")"
      ],
      "execution_count": 0,
      "outputs": []
    }
  ]
}