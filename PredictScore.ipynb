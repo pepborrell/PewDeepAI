{
  "nbformat": 4,
  "nbformat_minor": 0,
  "metadata": {
    "colab": {
      "name": "PredictScore.ipynb",
      "provenance": [],
      "collapsed_sections": [],
      "include_colab_link": true
    },
    "kernelspec": {
      "name": "python3",
      "display_name": "Python 3"
    }
  },
  "cells": [
    {
      "cell_type": "markdown",
      "metadata": {
        "id": "view-in-github",
        "colab_type": "text"
      },
      "source": [
        "<a href=\"https://colab.research.google.com/github/pepborrell/LauzHack2019/blob/master/PredictScore.ipynb\" target=\"_parent\"><img src=\"https://colab.research.google.com/assets/colab-badge.svg\" alt=\"Open In Colab\"/></a>"
      ]
    },
    {
      "cell_type": "code",
      "metadata": {
        "id": "bvBdPwW70JbW",
        "colab_type": "code",
        "colab": {}
      },
      "source": [
        "import pandas as pd\n",
        "\n",
        "import tensorflow as tf\n",
        "import tensorflow.keras\n",
        "from tensorflow.keras.models import Model\n",
        "from tensorflow.keras.layers import Input, Dense, Dropout"
      ],
      "execution_count": 0,
      "outputs": []
    },
    {
      "cell_type": "markdown",
      "metadata": {
        "id": "DyR__rQjURk-",
        "colab_type": "text"
      },
      "source": [
        "## Loading the data"
      ]
    },
    {
      "cell_type": "code",
      "metadata": {
        "id": "JkBH_CrCTvpx",
        "colab_type": "code",
        "outputId": "b24ad8cb-1719-48b2-85be-f734e0f56ca6",
        "colab": {
          "base_uri": "https://localhost:8080/",
          "height": 204
        }
      },
      "source": [
        "url = 'https://pastebin.com/raw/SjMqw5Wx'\n",
        "df = pd.read_csv(url)\n",
        "\n",
        "df.head()"
      ],
      "execution_count": 8,
      "outputs": [
        {
          "output_type": "execute_result",
          "data": {
            "text/html": [
              "<div>\n",
              "<style scoped>\n",
              "    .dataframe tbody tr th:only-of-type {\n",
              "        vertical-align: middle;\n",
              "    }\n",
              "\n",
              "    .dataframe tbody tr th {\n",
              "        vertical-align: top;\n",
              "    }\n",
              "\n",
              "    .dataframe thead th {\n",
              "        text-align: right;\n",
              "    }\n",
              "</style>\n",
              "<table border=\"1\" class=\"dataframe\">\n",
              "  <thead>\n",
              "    <tr style=\"text-align: right;\">\n",
              "      <th></th>\n",
              "      <th>id</th>\n",
              "      <th>postid</th>\n",
              "      <th>url</th>\n",
              "      <th>upvotes</th>\n",
              "    </tr>\n",
              "  </thead>\n",
              "  <tbody>\n",
              "    <tr>\n",
              "      <th>0</th>\n",
              "      <td>0</td>\n",
              "      <td>dpwday</td>\n",
              "      <td>https://i.redd.it/zhh7urcrtyv31.png</td>\n",
              "      <td>39</td>\n",
              "    </tr>\n",
              "    <tr>\n",
              "      <th>1</th>\n",
              "      <td>1</td>\n",
              "      <td>dpwdag</td>\n",
              "      <td>https://i.redd.it/lbanftpptyv31.jpg</td>\n",
              "      <td>1</td>\n",
              "    </tr>\n",
              "    <tr>\n",
              "      <th>2</th>\n",
              "      <td>2</td>\n",
              "      <td>dpwda9</td>\n",
              "      <td>https://i.redd.it/jpfds36rtyv31.jpg</td>\n",
              "      <td>21</td>\n",
              "    </tr>\n",
              "    <tr>\n",
              "      <th>3</th>\n",
              "      <td>3</td>\n",
              "      <td>dpwd9n</td>\n",
              "      <td>https://i.redd.it/hrcbzuvjtyv31.png</td>\n",
              "      <td>30</td>\n",
              "    </tr>\n",
              "    <tr>\n",
              "      <th>4</th>\n",
              "      <td>4</td>\n",
              "      <td>dpwd8h</td>\n",
              "      <td>https://i.redd.it/rb8pod5otyv31.png</td>\n",
              "      <td>31</td>\n",
              "    </tr>\n",
              "  </tbody>\n",
              "</table>\n",
              "</div>"
            ],
            "text/plain": [
              "   id  postid                                  url  upvotes\n",
              "0   0  dpwday  https://i.redd.it/zhh7urcrtyv31.png       39\n",
              "1   1  dpwdag  https://i.redd.it/lbanftpptyv31.jpg        1\n",
              "2   2  dpwda9  https://i.redd.it/jpfds36rtyv31.jpg       21\n",
              "3   3  dpwd9n  https://i.redd.it/hrcbzuvjtyv31.png       30\n",
              "4   4  dpwd8h  https://i.redd.it/rb8pod5otyv31.png       31"
            ]
          },
          "metadata": {
            "tags": []
          },
          "execution_count": 8
        }
      ]
    },
    {
      "cell_type": "markdown",
      "metadata": {
        "id": "Spnqdm221GA4",
        "colab_type": "text"
      },
      "source": [
        "## TODO:\n",
        "We need to give the url to the Google Cloud vision API. Then the information can be tokenised in the proper way and fed to the neural network.\n",
        "\n",
        "For the moment I will just build a model. When all information is gathered, we can test it."
      ]
    },
    {
      "cell_type": "code",
      "metadata": {
        "id": "kryzL83S4U2b",
        "colab_type": "code",
        "colab": {}
      },
      "source": [
        "#xdata = Will be given by the cloud API\n",
        "\n",
        "ydata = df['upvotes']"
      ],
      "execution_count": 0,
      "outputs": []
    },
    {
      "cell_type": "markdown",
      "metadata": {
        "id": "4vmd6FTr4Cwp",
        "colab_type": "text"
      },
      "source": [
        "## Definition of the network\n",
        "This is where the network is defined. The data is then used to train it."
      ]
    },
    {
      "cell_type": "code",
      "metadata": {
        "id": "nNkRb4JF09Ex",
        "colab_type": "code",
        "colab": {}
      },
      "source": [
        "input_size = 12345\n",
        "inputs = Input(shape=(input_size,))\n",
        "\n",
        "x = Dense(256, activation='relu')(inputs)\n",
        "x = Dense(256, activation='relu')(x)\n",
        "outputs = Dense(1, activation='linear')(x)\n",
        "\n",
        "model = Model(inputs=inputs, outputs=outputs)\n",
        "model.compile(optimizer='adam', loss='mse', metrics=['accuracy'])\n",
        "\n",
        "# model.fit(xdata, ydata, epochs=10)"
      ],
      "execution_count": 0,
      "outputs": []
    }
  ]
}