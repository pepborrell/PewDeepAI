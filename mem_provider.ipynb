{
  "nbformat": 4,
  "nbformat_minor": 0,
  "metadata": {
    "colab": {
      "name": "mem provider",
      "provenance": [],
      "collapsed_sections": []
    },
    "kernelspec": {
      "name": "python3",
      "display_name": "Python 3"
    }
  },
  "cells": [
    {
      "cell_type": "markdown",
      "metadata": {
        "id": "g9MbpqPsyk10",
        "colab_type": "text"
      },
      "source": [
        "Install dependencies"
      ]
    },
    {
      "cell_type": "code",
      "metadata": {
        "id": "LnaniUAfxXNu",
        "colab_type": "code",
        "outputId": "ff67887e-94b8-474c-c746-70176584fb5e",
        "colab": {
          "base_uri": "https://localhost:8080/",
          "height": 377
        }
      },
      "source": [
        "!pip install psaw praw"
      ],
      "execution_count": 1,
      "outputs": [
        {
          "output_type": "stream",
          "text": [
            "Collecting psaw\n",
            "  Downloading https://files.pythonhosted.org/packages/60/b7/6724defc12bdcc45470e2b1fc1b978367f3d183ec6c6baa2770a0b083fc7/psaw-0.0.7-py3-none-any.whl\n",
            "Collecting praw\n",
            "\u001b[?25l  Downloading https://files.pythonhosted.org/packages/f6/df/b42c0a3b86a43a62a46e5b2f07930230ac7719624800a2052218993fb767/praw-6.4.0-py2.py3-none-any.whl (126kB)\n",
            "\u001b[K     |████████████████████████████████| 133kB 7.4MB/s \n",
            "\u001b[?25hRequirement already satisfied: requests in /usr/local/lib/python3.6/dist-packages (from psaw) (2.21.0)\n",
            "Collecting update-checker>=0.16\n",
            "  Downloading https://files.pythonhosted.org/packages/17/c9/ab11855af164d03be0ff4fddd4c46a5bd44799a9ecc1770e01a669c21168/update_checker-0.16-py2.py3-none-any.whl\n",
            "Collecting prawcore<2.0,>=1.0.1\n",
            "  Downloading https://files.pythonhosted.org/packages/76/b5/ce6282dea45cba6f08a30e25d18e0f3d33277e2c9fcbda75644b8dc0089b/prawcore-1.0.1-py2.py3-none-any.whl\n",
            "Collecting websocket-client>=0.54.0\n",
            "\u001b[?25l  Downloading https://files.pythonhosted.org/packages/29/19/44753eab1fdb50770ac69605527e8859468f3c0fd7dc5a76dd9c4dbd7906/websocket_client-0.56.0-py2.py3-none-any.whl (200kB)\n",
            "\u001b[K     |████████████████████████████████| 204kB 36.1MB/s \n",
            "\u001b[?25hRequirement already satisfied: urllib3<1.25,>=1.21.1 in /usr/local/lib/python3.6/dist-packages (from requests->psaw) (1.24.3)\n",
            "Requirement already satisfied: idna<2.9,>=2.5 in /usr/local/lib/python3.6/dist-packages (from requests->psaw) (2.8)\n",
            "Requirement already satisfied: chardet<3.1.0,>=3.0.2 in /usr/local/lib/python3.6/dist-packages (from requests->psaw) (3.0.4)\n",
            "Requirement already satisfied: certifi>=2017.4.17 in /usr/local/lib/python3.6/dist-packages (from requests->psaw) (2019.9.11)\n",
            "Requirement already satisfied: six in /usr/local/lib/python3.6/dist-packages (from websocket-client>=0.54.0->praw) (1.12.0)\n",
            "Installing collected packages: psaw, update-checker, prawcore, websocket-client, praw\n",
            "Successfully installed praw-6.4.0 prawcore-1.0.1 psaw-0.0.7 update-checker-0.16 websocket-client-0.56.0\n"
          ],
          "name": "stdout"
        }
      ]
    },
    {
      "cell_type": "markdown",
      "metadata": {
        "id": "2pIv2CyOyrMg",
        "colab_type": "text"
      },
      "source": [
        "Import libs"
      ]
    },
    {
      "cell_type": "code",
      "metadata": {
        "id": "wG5mYGeCykd4",
        "colab_type": "code",
        "colab": {}
      },
      "source": [
        "import praw\n",
        "from psaw import PushshiftAPI\n",
        "import datetime as dt\n",
        "import requests\n",
        "import os\n",
        "\n",
        "\n",
        "r = praw.Reddit(client_id='SDJRMp4Xiak4Xg',client_secret='K7YpkeH6disgkdXDJ-GjoLlnTw0',user_agent='alexScriptv1')\n",
        "api = PushshiftAPI(r)"
      ],
      "execution_count": 0,
      "outputs": []
    },
    {
      "cell_type": "code",
      "metadata": {
        "id": "Fo_hVPjUPMls",
        "colab_type": "code",
        "colab": {}
      },
      "source": [
        "id = '6uey5x'\n",
        "c = api.search_comments(aggs = 'link_id',limit = 1,fields = 'body')"
      ],
      "execution_count": 0,
      "outputs": []
    },
    {
      "cell_type": "code",
      "metadata": {
        "id": "9D2bTWymQOd5",
        "colab_type": "code",
        "outputId": "31792812-a974-4d86-c635-04a74c355c60",
        "colab": {
          "base_uri": "https://localhost:8080/",
          "height": 51
        }
      },
      "source": [
        "id = '6uey5x'\n",
        "com = api.search_comments(limit = 1)\n",
        "for comm in com:\n",
        "  print(comm.body)\n",
        "  print(comm.link_id)"
      ],
      "execution_count": 3,
      "outputs": [
        {
          "output_type": "stream",
          "text": [
            "Take over bazinga i must.\n",
            "t3_dxed0r\n"
          ],
          "name": "stdout"
        }
      ]
    },
    {
      "cell_type": "code",
      "metadata": {
        "id": "pe1AaEpIzAb3",
        "colab_type": "code",
        "colab": {}
      },
      "source": [
        "max_posts = 10\n",
        "start_epoch=int(dt.datetime(2019, 10, 1).timestamp())\n",
        "end_epoch=int(dt.datetime(2019, 11, 1).timestamp())\n",
        "\n",
        "\n",
        "c = api.search_submissions(subreddit=\"dankmemes\",limit=max_posts,sort_type = \"score\",after=start_epoch,before=end_epoch, over_18=False, is_video=False)\n",
        "idmeme = 0\n",
        "valid_extensions = [\"png\", \"jpg\", \"jpeg\",\"webp\"]\n",
        "try: \n",
        "    os.mkdir(\"memes\") \n",
        "except OSError as error: \n",
        "    pass\n",
        "with open(f\"memes/memes2.csv\", 'w') as f:\n",
        "  f.write(\"id,postid,url,upvotes,top comment\\n\")\n",
        "  for post in c:\n",
        "    extension = post.url.split(\".\")[-1]\n",
        "    com = api.search_comments(link_id = 't3_'+post.id,limit = 1)\n",
        "    for comm in com:\n",
        "      if extension.lower() in valid_extensions:\n",
        "        f.write(f\"{idmeme},{post.id},{post.url},{post.score},\\\"{comm.body}\\\"\\n\")\n",
        "        idmeme += 1\n",
        "  \n"
      ],
      "execution_count": 0,
      "outputs": []
    },
    {
      "cell_type": "markdown",
      "metadata": {
        "id": "EDLbpjfKy_wK",
        "colab_type": "text"
      },
      "source": [
        ""
      ]
    },
    {
      "cell_type": "code",
      "metadata": {
        "id": "Kg8a_3Rl5sOW",
        "colab_type": "code",
        "colab": {}
      },
      "source": [
        "max_posts = 2000\n",
        "start_epoch=int(dt.datetime(2019, 10, 1).timestamp())\n",
        "end_epoch=int(dt.datetime(2019, 11, 16).timestamp())\n",
        "import re\n",
        "\n",
        "c = api.search_submissions(subreddit=\"dankmemes\",limit=max_posts,sort_type = \"num_comments\",after=start_epoch,before=end_epoch, over_18=False, is_video=False)\n",
        "idmeme = 0\n",
        "valid_extensions = [\"png\", \"jpg\", \"jpeg\",\"webp\"]\n",
        "try: \n",
        "    os.mkdir(\"memes\") \n",
        "except OSError as error: \n",
        "    pass\n",
        "with open(f\"memes/memes4.csv\", 'w') as f:\n",
        "  f.write(\"id,postid,url,upvotes,top comment\\n\")\n",
        "  for post in c:\n",
        "    extension = post.url.split(\".\")[-1]\n",
        "    com = api.search_comments(link_id = 't3_'+post.id,limit = 50)\n",
        "    if extension.lower() in valid_extensions:\n",
        "      cont = 0\n",
        "      cbody = []\n",
        "      for comm in com:\n",
        "        if cont < 3:\n",
        "          if ('removed' not in comm.body) and ('bot' not in comm.body) and ('deleted' not in comm.body):\n",
        "            cbody.append(re.escape(comm.body).replace(\"\\n\", \"\\\\n\").replace('\\\"', \"\\'\"))\n",
        "            cont += 1\n",
        "          continue\n",
        "        f.write(f\"{idmeme},{post.id},{post.url},{post.score},\\\"{cbody}\\\"\\n\")\n",
        "        idmeme += 1\n",
        "        print(idmeme)\n",
        "        break"
      ],
      "execution_count": 0,
      "outputs": []
    },
    {
      "cell_type": "markdown",
      "metadata": {
        "id": "_LnDYRgNqAKg",
        "colab_type": "text"
      },
      "source": [
        "Ara toca fer ML TT"
      ]
    },
    {
      "cell_type": "code",
      "metadata": {
        "id": "qZTxYUf1qCQD",
        "colab_type": "code",
        "colab": {}
      },
      "source": [
        "import csv\n",
        "with open(\"combined.csv\", 'r') as input, open('final.csv', 'w') as output:\n",
        "    reader = csv.reader(input, delimiter = ',')\n",
        "    writer = csv.writer(output, delimiter = ',')\n",
        "    all = []\n",
        "    row = next(reader)\n",
        "    row.insert(0, 'ID')\n",
        "    all.append(row)\n",
        "    for k, row in enumerate(reader):\n",
        "        all.append([str(k+1)] + row)\n",
        "    writer.writerows(all)"
      ],
      "execution_count": 0,
      "outputs": []
    },
    {
      "cell_type": "markdown",
      "metadata": {
        "id": "w-lEfnYKNONE",
        "colab_type": "text"
      },
      "source": [
        "#Mems url and upvotes adquisition"
      ]
    },
    {
      "cell_type": "code",
      "metadata": {
        "id": "nsikHUAYPj2j",
        "colab_type": "code",
        "colab": {}
      },
      "source": [
        "max_posts = 100000000\n",
        "start_epoch=int(dt.datetime(2019, 6, 1).timestamp())\n",
        "end_epoch=int(dt.datetime(2019, 11, 1).timestamp())\n",
        "import re\n",
        "\n",
        "c = api.search_submissions(subreddit=\"dankmemes\",limit=max_posts,after=start_epoch,before=end_epoch, over_18=False, is_video=False)\n",
        "idmeme = 0\n",
        "valid_extensions = [\"png\", \"jpg\", \"jpeg\",\"webp\"]\n",
        "try: \n",
        "    os.mkdir(\"memes\") \n",
        "except OSError as error: \n",
        "    pass\n",
        "with open(f\"memes/memes5.csv\", 'w') as f:\n",
        "  f.write(\"id,postid,url,upvotes\\n\")\n",
        "  for post in c:\n",
        "    extension = post.url.split(\".\")[-1]\n",
        "    if extension.lower() in valid_extensions:\n",
        "      if (post.score > 400) and (post.score < 800):\n",
        "        f.write(f\"{idmeme},{post.id},{post.url},{post.score}\\n\")\n",
        "        idmeme += 1\n",
        "        print(idmeme)"
      ],
      "execution_count": 0,
      "outputs": []
    },
    {
      "cell_type": "markdown",
      "metadata": {
        "id": "pM_FyRLuMiCJ",
        "colab_type": "text"
      },
      "source": [
        "#cvs refining"
      ]
    },
    {
      "cell_type": "code",
      "metadata": {
        "id": "HE4szrscR0JH",
        "colab_type": "code",
        "colab": {}
      },
      "source": [
        "import csv\n",
        "with open('memesf.csv', mode='w') as out:\n",
        "  with open('memes4.csv') as inp:\n",
        "    line_count = 0\n",
        "    for row in inp:\n",
        "        if line_count == 0:\n",
        "          out.write(row)\n",
        "          line_count += 1\n",
        "        else:\n",
        "          row = row.replace('\"',\"'\")\n",
        "          j = -1\n",
        "          ccount = 0\n",
        "          for ii in row:\n",
        "            if ii == \"[\" and ccount == 0:\n",
        "              ccount = 1\n",
        "              row = row[:j] + '\"'+row[j+1:]\n",
        "            if ii == \"]\":\n",
        "              row = row[:j+2] + '\"\\n'\n",
        "            j += 1\n",
        "          print(row)\n",
        "          out.write(row)\n",
        "          line_count += 1\n",
        "    print(f'Processed {line_count} lines.')"
      ],
      "execution_count": 0,
      "outputs": []
    }
  ]
}