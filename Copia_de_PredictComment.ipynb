{
  "nbformat": 4,
  "nbformat_minor": 0,
  "metadata": {
    "colab": {
      "name": "Copia de PredictComment.ipynb",
      "provenance": [],
      "collapsed_sections": [],
      "machine_shape": "hm",
      "include_colab_link": true
    },
    "kernelspec": {
      "name": "python3",
      "display_name": "Python 3"
    },
    "accelerator": "GPU"
  },
  "cells": [
    {
      "cell_type": "markdown",
      "metadata": {
        "id": "view-in-github",
        "colab_type": "text"
      },
      "source": [
        "<a href=\"https://colab.research.google.com/github/pepborrell/LauzHack2019/blob/master/Copia_de_PredictComment.ipynb\" target=\"_parent\"><img src=\"https://colab.research.google.com/assets/colab-badge.svg\" alt=\"Open In Colab\"/></a>"
      ]
    },
    {
      "cell_type": "code",
      "metadata": {
        "id": "LV84pOuMR2CW",
        "colab_type": "code",
        "colab": {
          "base_uri": "https://localhost:8080/",
          "height": 63
        },
        "outputId": "797729d2-cb24-4b05-ce19-a043bf84be19"
      },
      "source": [
        "import pandas as pd\n",
        "import numpy as np\n",
        "import tensorflow as tf\n",
        "import tensorflow.keras\n",
        "from tensorflow.keras.models import Model\n",
        "from tensorflow.keras.layers import Input, Dense, LSTM, Embedding, Dropout, Add, Concatenate, TimeDistributed\n",
        "import tensorflow.keras.preprocessing.image as image\n",
        "import tensorflow.keras.preprocessing.sequence as sequence\n",
        "from tensorflow.keras.applications.vgg16 import preprocess_input\n",
        "from tensorflow.keras.applications import VGG16\n",
        "from tensorflow.keras.utils import to_categorical\n",
        "#from tensorflow.keras.applications.inception_v3 import preprocess_input, InceptionV3"
      ],
      "execution_count": 1,
      "outputs": [
        {
          "output_type": "display_data",
          "data": {
            "text/html": [
              "<p style=\"color: red;\">\n",
              "The default version of TensorFlow in Colab will soon switch to TensorFlow 2.x.<br>\n",
              "We recommend you <a href=\"https://www.tensorflow.org/guide/migrate\" target=\"_blank\">upgrade</a> now \n",
              "or ensure your notebook will continue to use TensorFlow 1.x via the <code>%tensorflow_version 1.x</code> magic:\n",
              "<a href=\"https://colab.research.google.com/notebooks/tensorflow_version.ipynb\" target=\"_blank\">more info</a>.</p>\n"
            ],
            "text/plain": [
              "<IPython.core.display.HTML object>"
            ]
          },
          "metadata": {
            "tags": []
          }
        }
      ]
    },
    {
      "cell_type": "markdown",
      "metadata": {
        "id": "KDaww52qT6oN",
        "colab_type": "text"
      },
      "source": [
        "# Predicting the comment\n",
        "From an image, we want to predict a comment."
      ]
    },
    {
      "cell_type": "markdown",
      "metadata": {
        "id": "DyR__rQjURk-",
        "colab_type": "text"
      },
      "source": [
        "## Loading the data"
      ]
    },
    {
      "cell_type": "code",
      "metadata": {
        "id": "JkBH_CrCTvpx",
        "colab_type": "code",
        "outputId": "c30b8c09-9ee8-41ba-a766-b531ea2893dd",
        "colab": {
          "base_uri": "https://localhost:8080/",
          "height": 204
        }
      },
      "source": [
        "#url = 'https://pastebin.com/raw/SjMqw5Wx'\n",
        "# url = 'https://pastebin.com/raw/Kbr3apyg'\n",
        "# url = 'https://pastebin.com/raw/r2E7KsWP'\n",
        "url = 'https://pastebin.com/raw/LDU9XZpU'\n",
        "df = pd.read_csv(url)\n",
        "\n",
        "df.head()"
      ],
      "execution_count": 2,
      "outputs": [
        {
          "output_type": "execute_result",
          "data": {
            "text/html": [
              "<div>\n",
              "<style scoped>\n",
              "    .dataframe tbody tr th:only-of-type {\n",
              "        vertical-align: middle;\n",
              "    }\n",
              "\n",
              "    .dataframe tbody tr th {\n",
              "        vertical-align: top;\n",
              "    }\n",
              "\n",
              "    .dataframe thead th {\n",
              "        text-align: right;\n",
              "    }\n",
              "</style>\n",
              "<table border=\"1\" class=\"dataframe\">\n",
              "  <thead>\n",
              "    <tr style=\"text-align: right;\">\n",
              "      <th></th>\n",
              "      <th>id</th>\n",
              "      <th>postid</th>\n",
              "      <th>url</th>\n",
              "      <th>upvotes</th>\n",
              "      <th>top comment</th>\n",
              "    </tr>\n",
              "  </thead>\n",
              "  <tbody>\n",
              "    <tr>\n",
              "      <th>0</th>\n",
              "      <td>0</td>\n",
              "      <td>dpoppg</td>\n",
              "      <td>https://i.redd.it/v91swki75wv31.jpg</td>\n",
              "      <td>125639</td>\n",
              "      <td>['Ah\\\\ yes\\\\ the\\\\ I\\\\̓\\\\̉\\\\̓\\\\̆\\\\͗\\\\̭\\\\͇\\\\͙\\\\...</td>\n",
              "    </tr>\n",
              "    <tr>\n",
              "      <th>1</th>\n",
              "      <td>1</td>\n",
              "      <td>dikhsj</td>\n",
              "      <td>https://i.redd.it/osr5o5ox5us31.jpg</td>\n",
              "      <td>105442</td>\n",
              "      <td>['As\\\\ an\\\\ Italian\\\\,\\\\ I\\\\ 100\\\\%\\\\ relate',...</td>\n",
              "    </tr>\n",
              "    <tr>\n",
              "      <th>2</th>\n",
              "      <td>2</td>\n",
              "      <td>ds0ttz</td>\n",
              "      <td>https://i.redd.it/p9a9mskj0ww31.jpg</td>\n",
              "      <td>65</td>\n",
              "      <td>['That\\\\'s\\\\ my\\\\ master\\\\ plan', 'OP\\\\ really...</td>\n",
              "    </tr>\n",
              "    <tr>\n",
              "      <th>3</th>\n",
              "      <td>3</td>\n",
              "      <td>dgcuf8</td>\n",
              "      <td>https://i.redd.it/flsim843wvr31.jpg</td>\n",
              "      <td>138513</td>\n",
              "      <td>['What\\\\'s\\\\ the\\\\ difference\\\\ between\\\\ 1\\\\ ...</td>\n",
              "    </tr>\n",
              "    <tr>\n",
              "      <th>4</th>\n",
              "      <td>4</td>\n",
              "      <td>dplvla</td>\n",
              "      <td>https://i.redd.it/4j8thq1lyuv31.jpg</td>\n",
              "      <td>35836</td>\n",
              "      <td>['F', '\\\\⠀\\\\⠀\\\\⢀\\\\⡤\\\\⢶\\\\⣶\\\\⣶\\\\⡄\\\\⠀\\\\⠀\\\\⠀\\\\⠀\\\\⠀...</td>\n",
              "    </tr>\n",
              "  </tbody>\n",
              "</table>\n",
              "</div>"
            ],
            "text/plain": [
              "   id  postid  ... upvotes                                        top comment\n",
              "0   0  dpoppg  ...  125639  ['Ah\\\\ yes\\\\ the\\\\ I\\\\̓\\\\̉\\\\̓\\\\̆\\\\͗\\\\̭\\\\͇\\\\͙\\\\...\n",
              "1   1  dikhsj  ...  105442  ['As\\\\ an\\\\ Italian\\\\,\\\\ I\\\\ 100\\\\%\\\\ relate',...\n",
              "2   2  ds0ttz  ...      65  ['That\\\\'s\\\\ my\\\\ master\\\\ plan', 'OP\\\\ really...\n",
              "3   3  dgcuf8  ...  138513  ['What\\\\'s\\\\ the\\\\ difference\\\\ between\\\\ 1\\\\ ...\n",
              "4   4  dplvla  ...   35836  ['F', '\\\\⠀\\\\⠀\\\\⢀\\\\⡤\\\\⢶\\\\⣶\\\\⣶\\\\⡄\\\\⠀\\\\⠀\\\\⠀\\\\⠀\\\\⠀...\n",
              "\n",
              "[5 rows x 5 columns]"
            ]
          },
          "metadata": {
            "tags": []
          },
          "execution_count": 2
        }
      ]
    },
    {
      "cell_type": "markdown",
      "metadata": {
        "id": "O6niZZdrqOMc",
        "colab_type": "text"
      },
      "source": [
        "## Extracting information from image\n",
        "We use a VGG16 model pretrained with ImageNet data. We don't use the last softmax layer, but reuse the other ones."
      ]
    },
    {
      "cell_type": "code",
      "metadata": {
        "id": "FnTuAcMPTyJg",
        "colab_type": "code",
        "outputId": "aa0584e2-12b4-441a-d667-7c9b7003689e",
        "colab": {
          "base_uri": "https://localhost:8080/",
          "height": 901
        }
      },
      "source": [
        "modelvgg = VGG16(include_top=True,weights='imagenet')\n",
        "\n",
        "modelvgg.layers.pop()\n",
        "modelvgg = Model(inputs=modelvgg.inputs, outputs=modelvgg.layers[-2].output)\n",
        "\n",
        "modelvgg.summary()"
      ],
      "execution_count": 65,
      "outputs": [
        {
          "output_type": "stream",
          "text": [
            "Model: \"model_2\"\n",
            "_________________________________________________________________\n",
            "Layer (type)                 Output Shape              Param #   \n",
            "=================================================================\n",
            "input_3 (InputLayer)         [(None, 224, 224, 3)]     0         \n",
            "_________________________________________________________________\n",
            "block1_conv1 (Conv2D)        (None, 224, 224, 64)      1792      \n",
            "_________________________________________________________________\n",
            "block1_conv2 (Conv2D)        (None, 224, 224, 64)      36928     \n",
            "_________________________________________________________________\n",
            "block1_pool (MaxPooling2D)   (None, 112, 112, 64)      0         \n",
            "_________________________________________________________________\n",
            "block2_conv1 (Conv2D)        (None, 112, 112, 128)     73856     \n",
            "_________________________________________________________________\n",
            "block2_conv2 (Conv2D)        (None, 112, 112, 128)     147584    \n",
            "_________________________________________________________________\n",
            "block2_pool (MaxPooling2D)   (None, 56, 56, 128)       0         \n",
            "_________________________________________________________________\n",
            "block3_conv1 (Conv2D)        (None, 56, 56, 256)       295168    \n",
            "_________________________________________________________________\n",
            "block3_conv2 (Conv2D)        (None, 56, 56, 256)       590080    \n",
            "_________________________________________________________________\n",
            "block3_conv3 (Conv2D)        (None, 56, 56, 256)       590080    \n",
            "_________________________________________________________________\n",
            "block3_pool (MaxPooling2D)   (None, 28, 28, 256)       0         \n",
            "_________________________________________________________________\n",
            "block4_conv1 (Conv2D)        (None, 28, 28, 512)       1180160   \n",
            "_________________________________________________________________\n",
            "block4_conv2 (Conv2D)        (None, 28, 28, 512)       2359808   \n",
            "_________________________________________________________________\n",
            "block4_conv3 (Conv2D)        (None, 28, 28, 512)       2359808   \n",
            "_________________________________________________________________\n",
            "block4_pool (MaxPooling2D)   (None, 14, 14, 512)       0         \n",
            "_________________________________________________________________\n",
            "block5_conv1 (Conv2D)        (None, 14, 14, 512)       2359808   \n",
            "_________________________________________________________________\n",
            "block5_conv2 (Conv2D)        (None, 14, 14, 512)       2359808   \n",
            "_________________________________________________________________\n",
            "block5_conv3 (Conv2D)        (None, 14, 14, 512)       2359808   \n",
            "_________________________________________________________________\n",
            "block5_pool (MaxPooling2D)   (None, 7, 7, 512)         0         \n",
            "_________________________________________________________________\n",
            "flatten (Flatten)            (None, 25088)             0         \n",
            "_________________________________________________________________\n",
            "fc1 (Dense)                  (None, 4096)              102764544 \n",
            "_________________________________________________________________\n",
            "fc2 (Dense)                  (None, 4096)              16781312  \n",
            "=================================================================\n",
            "Total params: 134,260,544\n",
            "Trainable params: 134,260,544\n",
            "Non-trainable params: 0\n",
            "_________________________________________________________________\n"
          ],
          "name": "stdout"
        }
      ]
    },
    {
      "cell_type": "markdown",
      "metadata": {
        "id": "gFRXL4CtqpmE",
        "colab_type": "text"
      },
      "source": [
        "## Extracting data from each image"
      ]
    },
    {
      "cell_type": "code",
      "metadata": {
        "id": "hJoZv17yg7Y8",
        "colab_type": "code",
        "outputId": "23b494eb-36f6-4449-873f-818a46d80e6e",
        "colab": {
          "base_uri": "https://localhost:8080/",
          "height": 1000
        }
      },
      "source": [
        "import urllib\n",
        "from io import BytesIO\n",
        "import requests\n",
        "\n",
        "npix = 224\n",
        "target_size = (npix,npix,3)\n",
        "\n",
        "images = {}\n",
        "for idx, row in df.iterrows():\n",
        "    print(idx)\n",
        "    postid = row['postid']\n",
        "    imageUrl = row['url']\n",
        "    # postid, imageUrl = row['postid'], row['imageUrl']\n",
        "    # print(idx)\n",
        "    try:\n",
        "        with urllib.request.urlopen(imageUrl) as url:\n",
        "            img = image.load_img(BytesIO(url.read()), target_size=target_size)\n",
        "    except:\n",
        "        continue\n",
        "    # Convert PIL image to numpy array of 3-dimensions\n",
        "    x = image.img_to_array(img)\n",
        "    nimage = preprocess_input(x)\n",
        "    \n",
        "    y_pred = modelvgg.predict(nimage.reshape( (1,) + nimage.shape[:3]))\n",
        "    images[postid] = y_pred.flatten()\n",
        "    print('ok')"
      ],
      "execution_count": 66,
      "outputs": [
        {
          "output_type": "stream",
          "text": [
            "0\n",
            "ok\n",
            "1\n",
            "ok\n",
            "2\n",
            "ok\n",
            "3\n",
            "4\n",
            "ok\n",
            "5\n",
            "ok\n",
            "7\n",
            "ok\n",
            "8\n",
            "ok\n",
            "9\n",
            "ok\n",
            "11\n",
            "ok\n",
            "12\n",
            "ok\n",
            "13\n",
            "ok\n",
            "15\n",
            "ok\n",
            "16\n",
            "ok\n",
            "17\n",
            "20\n",
            "ok\n",
            "22\n",
            "ok\n",
            "23\n",
            "ok\n",
            "26\n",
            "ok\n",
            "28\n",
            "ok\n",
            "30\n",
            "ok\n",
            "32\n",
            "ok\n",
            "33\n",
            "ok\n",
            "34\n",
            "ok\n",
            "35\n",
            "ok\n",
            "36\n",
            "ok\n",
            "37\n",
            "ok\n",
            "38\n",
            "ok\n",
            "40\n",
            "ok\n",
            "42\n",
            "ok\n",
            "43\n",
            "ok\n",
            "44\n",
            "ok\n",
            "45\n",
            "ok\n",
            "46\n",
            "ok\n",
            "49\n",
            "ok\n",
            "50\n",
            "ok\n",
            "51\n",
            "ok\n",
            "52\n",
            "ok\n",
            "54\n",
            "ok\n",
            "55\n",
            "ok\n",
            "60\n",
            "ok\n",
            "65\n",
            "ok\n",
            "66\n",
            "ok\n",
            "67\n",
            "ok\n",
            "69\n",
            "ok\n",
            "72\n",
            "ok\n",
            "73\n",
            "ok\n",
            "75\n",
            "ok\n",
            "79\n",
            "ok\n",
            "80\n",
            "ok\n",
            "82\n",
            "ok\n",
            "83\n",
            "ok\n",
            "84\n",
            "ok\n",
            "86\n",
            "ok\n",
            "87\n",
            "ok\n",
            "88\n",
            "ok\n",
            "89\n",
            "ok\n",
            "91\n",
            "ok\n",
            "93\n",
            "ok\n",
            "94\n",
            "ok\n",
            "95\n",
            "ok\n",
            "96\n",
            "ok\n",
            "98\n",
            "ok\n",
            "99\n",
            "ok\n",
            "100\n",
            "ok\n",
            "101\n",
            "ok\n",
            "102\n",
            "ok\n",
            "103\n",
            "ok\n",
            "104\n",
            "ok\n",
            "105\n",
            "ok\n",
            "106\n",
            "ok\n",
            "107\n",
            "ok\n",
            "108\n",
            "ok\n",
            "109\n",
            "ok\n",
            "111\n",
            "ok\n",
            "112\n",
            "ok\n",
            "113\n",
            "ok\n",
            "115\n",
            "ok\n",
            "116\n",
            "ok\n",
            "119\n",
            "ok\n",
            "120\n",
            "ok\n",
            "122\n",
            "ok\n",
            "125\n",
            "ok\n",
            "126\n",
            "ok\n",
            "127\n",
            "ok\n",
            "129\n",
            "ok\n",
            "130\n",
            "ok\n",
            "132\n",
            "ok\n",
            "133\n",
            "ok\n",
            "134\n",
            "ok\n",
            "136\n",
            "ok\n",
            "137\n",
            "ok\n",
            "140\n",
            "ok\n",
            "142\n",
            "ok\n",
            "144\n",
            "ok\n",
            "146\n",
            "ok\n",
            "149\n",
            "ok\n",
            "151\n",
            "ok\n",
            "153\n",
            "ok\n",
            "154\n",
            "ok\n",
            "157\n",
            "ok\n",
            "159\n",
            "ok\n",
            "160\n",
            "ok\n",
            "161\n",
            "ok\n",
            "163\n",
            "ok\n",
            "164\n",
            "ok\n",
            "166\n",
            "ok\n",
            "167\n",
            "ok\n",
            "168\n",
            "ok\n",
            "171\n",
            "ok\n",
            "173\n",
            "ok\n",
            "175\n",
            "ok\n",
            "176\n",
            "ok\n",
            "178\n",
            "ok\n",
            "180\n",
            "ok\n",
            "183\n",
            "ok\n",
            "184\n",
            "ok\n",
            "185\n",
            "ok\n",
            "187\n",
            "ok\n",
            "188\n",
            "ok\n",
            "189\n",
            "ok\n",
            "190\n",
            "ok\n",
            "192\n",
            "ok\n",
            "193\n",
            "ok\n",
            "194\n",
            "ok\n",
            "195\n",
            "ok\n",
            "196\n",
            "ok\n",
            "198\n",
            "ok\n",
            "199\n",
            "ok\n",
            "200\n",
            "ok\n",
            "202\n",
            "ok\n",
            "203\n",
            "ok\n",
            "204\n",
            "ok\n",
            "205\n",
            "ok\n",
            "206\n",
            "ok\n",
            "207\n",
            "208\n",
            "ok\n",
            "210\n",
            "ok\n",
            "212\n",
            "ok\n",
            "213\n",
            "ok\n",
            "214\n",
            "ok\n",
            "216\n",
            "ok\n",
            "218\n",
            "ok\n",
            "220\n",
            "ok\n",
            "222\n",
            "ok\n",
            "223\n",
            "ok\n",
            "224\n",
            "ok\n",
            "225\n",
            "ok\n",
            "226\n",
            "ok\n",
            "227\n",
            "ok\n",
            "229\n",
            "ok\n",
            "230\n",
            "ok\n",
            "231\n",
            "ok\n",
            "232\n",
            "ok\n",
            "234\n",
            "ok\n",
            "237\n",
            "ok\n",
            "238\n",
            "ok\n",
            "245\n",
            "ok\n",
            "247\n",
            "ok\n",
            "248\n",
            "ok\n",
            "249\n",
            "ok\n",
            "251\n",
            "ok\n",
            "252\n",
            "ok\n",
            "254\n",
            "ok\n",
            "256\n",
            "ok\n",
            "257\n",
            "ok\n",
            "259\n",
            "ok\n",
            "261\n",
            "ok\n",
            "262\n",
            "ok\n",
            "265\n",
            "ok\n",
            "267\n",
            "ok\n",
            "268\n",
            "ok\n",
            "271\n",
            "ok\n",
            "272\n",
            "ok\n",
            "273\n",
            "ok\n",
            "274\n",
            "ok\n",
            "276\n",
            "ok\n",
            "277\n",
            "ok\n",
            "279\n",
            "ok\n",
            "281\n",
            "ok\n",
            "283\n",
            "ok\n",
            "284\n",
            "ok\n",
            "286\n",
            "ok\n",
            "287\n",
            "ok\n",
            "289\n",
            "ok\n",
            "290\n",
            "ok\n",
            "291\n",
            "ok\n",
            "292\n",
            "ok\n",
            "293\n",
            "ok\n",
            "300\n",
            "ok\n",
            "301\n",
            "ok\n",
            "304\n",
            "ok\n",
            "306\n",
            "ok\n",
            "307\n",
            "ok\n",
            "311\n",
            "ok\n",
            "312\n",
            "ok\n",
            "313\n",
            "ok\n",
            "314\n",
            "ok\n",
            "317\n",
            "ok\n",
            "318\n",
            "ok\n",
            "319\n",
            "ok\n",
            "320\n",
            "ok\n",
            "322\n",
            "ok\n",
            "323\n",
            "ok\n",
            "325\n",
            "ok\n",
            "327\n",
            "ok\n",
            "328\n",
            "ok\n",
            "330\n",
            "ok\n",
            "332\n",
            "ok\n",
            "334\n",
            "ok\n",
            "335\n",
            "ok\n",
            "336\n",
            "ok\n",
            "337\n",
            "ok\n",
            "338\n",
            "ok\n",
            "339\n",
            "ok\n",
            "341\n",
            "ok\n",
            "342\n",
            "ok\n",
            "343\n",
            "ok\n",
            "344\n",
            "ok\n",
            "346\n",
            "ok\n",
            "350\n",
            "ok\n",
            "352\n",
            "ok\n",
            "353\n",
            "ok\n",
            "356\n",
            "ok\n",
            "359\n",
            "ok\n",
            "360\n",
            "ok\n",
            "362\n",
            "ok\n",
            "363\n",
            "ok\n",
            "366\n",
            "ok\n",
            "368\n",
            "ok\n",
            "369\n",
            "ok\n",
            "370\n",
            "ok\n",
            "371\n",
            "ok\n",
            "372\n",
            "ok\n",
            "373\n",
            "ok\n",
            "374\n",
            "ok\n",
            "377\n",
            "ok\n",
            "379\n",
            "ok\n",
            "380\n",
            "ok\n",
            "381\n",
            "ok\n",
            "382\n",
            "ok\n",
            "384\n",
            "ok\n",
            "385\n",
            "ok\n",
            "388\n",
            "ok\n",
            "390\n",
            "ok\n",
            "391\n",
            "ok\n",
            "392\n",
            "ok\n",
            "396\n",
            "ok\n",
            "397\n",
            "ok\n",
            "400\n",
            "ok\n",
            "401\n",
            "ok\n",
            "404\n",
            "ok\n",
            "407\n",
            "ok\n",
            "408\n",
            "ok\n",
            "409\n",
            "ok\n",
            "410\n",
            "ok\n",
            "411\n",
            "ok\n",
            "415\n",
            "ok\n",
            "417\n",
            "ok\n",
            "418\n",
            "ok\n",
            "422\n",
            "ok\n",
            "423\n",
            "ok\n",
            "427\n",
            "ok\n",
            "428\n",
            "ok\n",
            "429\n",
            "ok\n",
            "430\n",
            "ok\n",
            "431\n",
            "ok\n",
            "432\n",
            "ok\n",
            "433\n",
            "ok\n",
            "434\n",
            "ok\n",
            "435\n",
            "ok\n",
            "439\n",
            "ok\n",
            "441\n",
            "ok\n",
            "443\n",
            "ok\n",
            "445\n",
            "ok\n",
            "448\n",
            "ok\n",
            "450\n",
            "ok\n",
            "453\n",
            "ok\n",
            "454\n",
            "ok\n",
            "455\n",
            "ok\n",
            "456\n",
            "ok\n",
            "458\n",
            "ok\n",
            "459\n",
            "ok\n",
            "461\n",
            "ok\n",
            "463\n",
            "ok\n",
            "465\n",
            "ok\n",
            "469\n",
            "ok\n",
            "470\n",
            "ok\n",
            "471\n",
            "ok\n",
            "472\n",
            "ok\n",
            "474\n",
            "ok\n",
            "476\n",
            "ok\n",
            "477\n",
            "ok\n",
            "478\n",
            "ok\n",
            "480\n",
            "ok\n",
            "483\n",
            "ok\n"
          ],
          "name": "stdout"
        }
      ]
    },
    {
      "cell_type": "code",
      "metadata": {
        "id": "WtE4qhJHQJSt",
        "colab_type": "code",
        "colab": {}
      },
      "source": [
        "import pickle\n",
        "with open('images.pik', 'wb') as f:\n",
        "    pickle.dump(images, f)"
      ],
      "execution_count": 0,
      "outputs": []
    },
    {
      "cell_type": "code",
      "metadata": {
        "id": "GOAQRq9ySVao",
        "colab_type": "code",
        "colab": {}
      },
      "source": [
        "# Reading a file with the image metadata\n",
        "import pickle\n",
        "with open('images.pik', 'rb') as f:\n",
        "    images = pickle.load(f)"
      ],
      "execution_count": 0,
      "outputs": []
    },
    {
      "cell_type": "markdown",
      "metadata": {
        "id": "2m0ApnJMqwe9",
        "colab_type": "text"
      },
      "source": [
        "## Text cleaning and preprocessing\n"
      ]
    },
    {
      "cell_type": "code",
      "metadata": {
        "id": "J8Hdph0Nq2eN",
        "colab_type": "code",
        "outputId": "39f943df-7c3a-413a-eb8c-5d85f15bfc98",
        "colab": {
          "base_uri": "https://localhost:8080/",
          "height": 51
        }
      },
      "source": [
        "import string\n",
        "import nltk\n",
        "nltk.download('stopwords')\n",
        "from nltk.corpus import stopwords\n",
        "st_words = set(stopwords.words('english'))\n",
        "\n",
        "def cleanWords(text):\n",
        "    # prepare translation table for removing punctuation\n",
        "    table = str.maketrans('', '', string.punctuation)\n",
        "    # Convert to lowercase\n",
        "    text = [word.lower() for word in text]\n",
        "    # remove punctuation from each token\n",
        "    text = [word.translate(table) for word in text]\n",
        "    # remove hanging 's' and 'a'\n",
        "    text = [word for word in text if len(word)>1 or word in ['i', 'u']]\n",
        "    # remove tokens with numbers in them\n",
        "    text = [word for word in text if not word.isnumeric()]\n",
        "    # remove stopwords\n",
        "    # text = [word for word in text if not word in st_words]\n",
        "    # remove forbidden words\n",
        "    forbidden_words = ['doot']\n",
        "    text = [word for word in text if word not in forbidden_words]\n",
        "    return text\n",
        "\n",
        "def cleanComment(text):\n",
        "    text = text.split(' ')\n",
        "    text = cleanWords(text)\n",
        "    return text\n",
        "\n",
        "def addStartEndSeq(words):\n",
        "    return ['startseq'] + words + ['endseq']"
      ],
      "execution_count": 5,
      "outputs": [
        {
          "output_type": "stream",
          "text": [
            "[nltk_data] Downloading package stopwords to /root/nltk_data...\n",
            "[nltk_data]   Unzipping corpora/stopwords.zip.\n"
          ],
          "name": "stdout"
        }
      ]
    },
    {
      "cell_type": "code",
      "metadata": {
        "id": "WTZLKf8SuPUT",
        "colab_type": "code",
        "colab": {}
      },
      "source": [
        "df['clean_comment'] = df.apply(lambda x : cleanComment(x['top comment']), axis=1)\n",
        "\n",
        "df['clean_comment'] = df.apply(lambda x : addStartEndSeq(x['clean_comment']), axis=1)\n",
        "\n",
        "max_comment_length = max(len(x) for x in df['clean_comment'])\n",
        "max_comment_length = 30\n",
        "\n",
        "df_copy = df\n",
        "df = df[df['clean_comment'].apply(lambda x : len(x) >= 3)]\n",
        "df = df[df['clean_comment'].apply(lambda x : len(x) <= max_comment_length)]\n",
        "\n",
        "all_text = []\n",
        "for text in df['clean_comment']:\n",
        "    all_text += text\n",
        "\n",
        "from collections import Counter\n",
        "counter = Counter(all_text)\n",
        "word_freq = list(counter.items())\n",
        "word_freq.sort(key = (lambda x : -x[1]))\n",
        "word_freq = ['PAD'] + word_freq\n",
        "\n",
        "# To check where are word frequencies change\n",
        "# for idx, elem in enumerate(word_freq):\n",
        "#     if elem[1] == 2:\n",
        "#         print(idx)\n",
        "#         break"
      ],
      "execution_count": 0,
      "outputs": []
    },
    {
      "cell_type": "code",
      "metadata": {
        "id": "5WwJZ76kmGzd",
        "colab_type": "code",
        "outputId": "ed034ad5-28a1-4bd2-b021-17993f7057e7",
        "colab": {
          "base_uri": "https://localhost:8080/",
          "height": 316
        }
      },
      "source": [
        "import matplotlib.pyplot as plt\n",
        "sizes = [len(x) for x in df['clean_comment']]\n",
        "plt.hist(sizes, range=(0,35))"
      ],
      "execution_count": 0,
      "outputs": [
        {
          "output_type": "execute_result",
          "data": {
            "text/plain": [
              "(array([ 0., 12., 40., 45., 56., 39., 48., 32., 23.,  0.]),\n",
              " array([ 0. ,  3.5,  7. , 10.5, 14. , 17.5, 21. , 24.5, 28. , 31.5, 35. ]),\n",
              " <a list of 10 Patch objects>)"
            ]
          },
          "metadata": {
            "tags": []
          },
          "execution_count": 60
        },
        {
          "output_type": "display_data",
          "data": {
            "image/png": "[encoded data removed]",
            "text/plain": [
              "<Figure size 432x288 with 1 Axes>"
            ]
          },
          "metadata": {
            "tags": []
          }
        }
      ]
    },
    {
      "cell_type": "code",
      "metadata": {
        "id": "d67cDjKV0e8Q",
        "colab_type": "code",
        "outputId": "2846c15d-ec29-4558-bc9b-b18bf5772016",
        "colab": {
          "base_uri": "https://localhost:8080/",
          "height": 54
        }
      },
      "source": [
        "print(word_freq)"
      ],
      "execution_count": 0,
      "outputs": [
        {
          "output_type": "stream",
          "text": [
            "['PAD', ('the', 661), ('startseq', 480), ('endseq', 480), ('i', 391), ('to', 346), ('you', 315), ('and', 310), ('that', 271), ('is', 270), ('of', 254), ('it', 241), ('in', 147), ('not', 136), ('for', 136), ('this', 127), ('but', 120), ('just', 117), ('are', 114), ('my', 113), ('on', 111), ('with', 106), ('have', 104), ('they', 102), ('its', 99), ('was', 99), ('like', 94), ('so', 92), ('what', 90), ('if', 90), ('no', 90), ('me', 80), ('your', 79), ('be', 72), ('can', 71), ('we', 68), ('do', 68), ('or', 67), ('im', 61), ('one', 60), ('he', 60), ('all', 60), ('people', 59), ('about', 57), ('as', 56), ('more', 54), ('at', 53), ('when', 52), ('because', 51), ('dont', 50), ('from', 48), ('only', 47), ('know', 47), ('think', 47), ('would', 45), ('who', 44), ('how', 44), ('up', 42), ('then', 41), ('ok', 40), ('an', 39), ('get', 39), ('say', 38), ('even', 38), ('thats', 37), ('good', 37), ('out', 37), ('here', 37), ('were', 37), ('will', 37), ('now', 35), ('than', 34), ('there', 33), ('their', 33), ('fuck', 33), ('way', 32), ('it’s', 32), ('i’m', 31), ('did', 31), ('some', 31), ('right', 30), ('why', 30), ('meme', 30), ('them', 30), ('really', 29), ('well', 29), ('by', 29), ('has', 29), ('got', 28), ('being', 28), ('youre', 28), ('boomer', 28), ('yes', 27), ('mean', 27), ('game', 27), ('other', 26), ('too', 26), ('us', 26), ('go', 26), ('see', 25), ('someone', 25), ('actually', 25), ('been', 25), ('yeah', 24), ('going', 23), ('better', 23), ('said', 23), ('had', 23), ('don’t', 23), ('off', 22), ('also', 22), ('oh', 22), ('any', 22), ('same', 21), ('fortnite', 21), ('could', 21), ('most', 21), ('shit', 21), ('need', 21), ('never', 20), ('lol', 20), ('want', 20), ('funny', 20), ('day', 20), ('nice', 19), ('before', 19), ('much', 19), ('where', 19), ('point', 19), ('dick', 18), ('still', 18), ('back', 18), ('time', 18), ('him', 17), ('thing', 17), ('fucking', 17), ('saying', 17), ('down', 17), ('joke', 17), ('thanks', 17), ('she', 17), ('minecraft', 17), ('big', 17), ('these', 17), ('should', 16), ('post', 16), ('am', 16), ('does', 16), ('gay', 16), ('seen', 16), ('wrong', 16), ('man', 16), ('eat', 16), ('cant', 16), ('make', 16), ('his', 16), ('hes', 16), ('different', 15), ('very', 15), ('school', 15), ('into', 15), ('years', 15), ('our', 15), ('her', 15), ('joe', 15), ('use', 15), ('those', 15), ('comment', 14), ('reddit', 14), ('best', 14), ('pretty', 14), ('over', 14), ('play', 14), ('great', 14), ('though', 14), ('everyone', 14), ('let', 14), ('tell', 13), ('change', 13), ('you’re', 13), ('made', 13), ('that’s', 13), ('happy', 13), ('thought', 13), ('find', 13), ('reason', 13), ('anything', 13), ('after', 13), ('mods', 12), ('sure', 12), ('person', 12), ('days', 12), ('old', 12), ('thank', 12), ('put', 12), ('year', 12), ('first', 12), ('dank', 12), ('every', 12), ('new', 12), ('memes', 12), ('isnt', 12), ('remember', 12), ('give', 12), ('kids', 12), ('sorry', 11), ('look', 11), ('again', 11), ('which', 11), ('doesnt', 11), ('video', 11), ('already', 11), ('used', 11), ('u', 11), ('getting', 11), ('lmao', 11), ('hate', 11), ('bruh', 11), ('try', 11), ('work', 11), ('maybe', 11), ('generation', 11), ('real', 11), ('worth', 11), ('ive', 11), ('scary', 11), ('while', 10), ('haha', 10), ('cool', 10), ('enough', 10), ('makes', 10), ('something', 10), ('games', 10), ('come', 10), ('take', 10), ('times', 10), ('went', 10), ('life', 10), ('understand', 10), ('dude', 10), ('since', 10), ('guy', 10), ('came', 10), ('whats', 9), ('between', 9), ('little', 9), ('number', 9), ('bad', 9), ('doesn’t', 9), ('idk', 9), ('guys', 9), ('things', 9), ('few', 9), ('lot', 9), ('true', 9), ('internet', 9), ('didn’t', 9), ('around', 9), ('agree', 9), ('money', 9), ('cake', 9), ('stop', 9), ('damn', 9), ('love', 9), ('started', 9), ('long', 9), ('woman', 9), ('movie', 9), ('country', 9), ('difference', 8), ('they’re', 8), ('guess', 8), ('can’t', 8), ('apple', 8), ('anyone', 8), ('means', 8), ('theyre', 8), ('problem', 8), ('nah', 8), ('fact', 8), ('yea', 8), ('world', 8), ('own', 8), ('next', 8), ('die', 8), ('playing', 8), ('having', 8), ('girl', 8), ('part', 8), ('power', 8), ('meat', 8), ('probably', 8), ('actual', 8), ('nothing', 8), ('trees', 8), ('okay', 8), ('nature', 8), ('played', 8), ('home', 8), ('trying', 8), ('didnt', 8), ('animals', 8), ('gen', 8), ('free', 7), ('looks', 7), ('kid', 7), ('upvotes', 7), ('show', 7), ('question', 7), ('almost', 7), ('idea', 7), ('might', 7), ('either', 7), ('opinion', 7), ('says', 7), ('bro', 7), ('app', 7), ('gave', 7), ('during', 7), ('dad', 7), ('later', 7), ('literally', 7), ('red', 7), ('many', 7), ('mama', 7), ('face', 7), ('feel', 7), ('everything', 7), ('single', 7), ('hell', 7), ('black', 7), ('ago', 7), ('god', 7), ('late', 7), ('aren’t', 7), ('doing', 7), ('start', 7), ('works', 7), ('talking', 7), ('happened', 6), ('society', 6), ('earth', 6), ('imagine', 6), ('making', 6), ('english', 6), ('uncommon', 6), ('sense', 6), ('believe', 6), ('history', 6), ('exactly', 6), ('completely', 6), ('another', 6), ('high', 6), ('saw', 6), ('assume', 6), ('wasn’t', 6), ('sounds', 6), ('course', 6), ('instead', 6), ('gonna', 6), ('meant', 6), ('whole', 6), ('boomers', 6), ('feels', 6), ('fun', 6), ('left', 6), ('name', 6), ('found', 6), ('hear', 6), ('under', 6), ('seem', 6), ('plants', 6), ('nobody', 6), ('theres', 6), ('less', 6), ('yourself', 6), ('de', 6), ('always', 6), ('fix', 6), ('together', 6), ('words', 6), ('cause', 6), ('place', 6), ('thinking', 6), ('heard', 6), ('favorite', 6), ('pay', 6), ('culture', 6), ('help', 6), ('war', 6), ('kinda', 6), ('please', 6), ('such', 6), ('upvote', 6), ('least', 6), ('posts', 6), ('kind', 6), ('ah', 5), ('mom', 5), ('away', 5), ('line', 5), ('picture', 5), ('company', 5), ('xd', 5), ('market', 5), ('hey', 5), ('definitely', 5), ('complete', 5), ('lower', 5), ('goes', 5), ('lost', 5), ('although', 5), ('hard', 5), ('past', 5), ('fine', 5), ('teacher', 5), ('through', 5), ('class', 5), ('anyway', 5), ('hot', 5), ('lazy', 5), ('wait', 5), ('humans', 5), ('coming', 5), ('each', 5), ('reference', 5), ('extra', 5), ('shut', 5), ('sucking', 5), ('submission', 5), ('featured', 5), ('rmodsgay', 5), ('others', 5), ('he’s', 5), ('government', 5), ('cat', 5), ('happen', 5), ('end', 5), ('without', 5), ('infected', 5), ('posted', 5), ('told', 5), ('template', 5), ('confused', 5), ('two', 5), ('body', 5), ('finger', 5), ('stuff', 5), ('image', 5), ('born', 5), ('la', 5), ('friends', 5), ('looked', 5), ('android', 5), ('phone', 5), ('tbh', 5), ('trash', 5), ('beer', 5), ('id', 5), ('quality', 5), ('realize', 5), ('themselves', 5), ('song', 5), ('today', 5), ('order', 5), ('fucked', 5), ('isn’t', 5), ('reply', 5), ('link', 5), ('called', 5), ('climate', 5), ('human', 5), ('millennial', 5), ('done', 5), ('mind', 5), ('bit', 5), ('amazing', 5), ('console', 5), ('read', 5), ('airpods', 5), ('prison', 5), ('white', 5), ('spooky', 5), ('dumb', 5), ('ever', 5), ('dead', 5), ('story', 5), ('death', 5), ('cats', 5), ('killed', 5), ('en', 5), ('last', 5), ('normie', 5), ('op', 4), ('gang', 4), ('water', 4), ('both', 4), ('crime', 4), ('laugh', 4), ('exist', 4), ('keanu', 4), ('taking', 4), ('smart', 4), ('suck', 4), ('happening', 4), ('acting', 4), ('tv', 4), ('men', 4), ('women', 4), ('looking', 4), ('chance', 4), ('further', 4), ('evidence', 4), ('bois', 4), ('opinions', 4), ('respect', 4), ('took', 4), ('comes', 4), ('job', 4), ('mode', 4), ('case', 4), ('nope', 4), ('zoomer', 4), ('issues', 4), ('word', 4), ('until', 4), ('head', 4), ('except', 4), ('store', 4), ('bought', 4), ('sucked', 4), ('songs', 4), ('parents', 4), ('vegan', 4), ('woah', 4), ('period', 4), ('balls', 4), ('mouth', 4), ('ass', 4), ('fit', 4), ('significantly', 4), ('mars', 4), ('youd', 4), ('ni', 4), ('wont', 4), ('calories', 4), ('majority', 4), ('matter', 4), ('fewer', 4), ('type', 4), ('chinese', 4), ('against', 4), ('age', 4), ('especially', 4), ('ask', 4), ('live', 4), ('character', 4), ('far', 4), ('land', 4), ('offensive', 4), ('watch', 4), ('jokes', 4), ('there’s', 4), ('weeks', 4), ('ligma', 4), ('half', 4), ('milk', 4), ('net', 4), ('police', 4), ('buy', 4), ('episode', 4), ('sentence', 4), ('may', 4), ('yours', 4), ('needed', 4), ('fans', 4), ('sonic', 4), ('design', 4), ('silly', 4), ('google', 4), ('tried', 4), ('able', 4), ('shitty', 4), ('certain', 4), ('affect', 4), ('thread', 4), ('intensifies', 4), ('lack', 4), ('argue', 4), ('retarded', 4), ('died', 4), ('top', 4), ('boy', 4), ('criminal', 4), ('eventually', 4), ('sucks', 4), ('leave', 4), ('samsung', 4), ('brain', 4), ('ari', 4), ('sub', 4), ('week', 4), ('mostly', 4), ('female', 4), ('main', 4), ('media', 4), ('win', 4), ('fair', 4), ('telling', 4), ('scared', 4), ('important', 4), ('enjoy', 4), ('basically', 4), ('outside', 4), ('definition', 4), ('music', 4), ('hours', 4), ('roads', 4), ('wanna', 4), ('liked', 4), ('popular', 4), ('venice', 4), ('italian', 3), ('relate', 3), ('pissed', 3), ('kong', 3), ('related', 3), ('update', 3), ('wrote', 3), ('article', 3), ('screen', 3), ('we’re', 3), ('sex', 3), ('named', 3), ('rich', 3), ('dollars', 3), ('meet', 3), ('contains', 3), ('millions', 3), ('clearly', 3), ('putting', 3), ('epic', 3), ('bitch', 3), ('disagree', 3), ('sexual', 3), ('purpose', 3), ('sake', 3), ('honestly', 3), ('false', 3), ('major', 3), ('longer', 3), ('expected', 3), ('insecure', 3), ('disrespectful', 3), ('fake', 3), ('american', 3), ('learn', 3), ('indeed', 3), ('updates', 3), ('check', 3), ('pepe', 3), ('hail', 3), ('agreed', 3), ('however', 3), ('btw', 3), ('knowledge', 3), ('aint', 3), ('cheese', 3), ('throat', 3), ('swiggity', 3), ('swooty', 3), ('comin', 3), ('bootay', 3), ('nnn', 3), ('house', 3), ('script', 3), ('seriously', 3), ('wasnt', 3), ('joking', 3), ('overrated', 3), ('reactionary', 3), ('invented', 3), ('christmas', 3), ('silver', 3), ('pisses', 3), ('pvz', 3), ('added', 3), ('whos', 3), ('sugma', 3), ('dragon', 3), ('hit', 3), ('arent', 3), ('ideas', 3), ('excuse', 3), ('decided', 3), ('activities', 3), ('gotten', 3), ('daily', 3), ('stopping', 3), ('eating', 3), ('vast', 3), ('losing', 3), ('facts', 3), ('convince', 3), ('burn', 3), ('everybody', 3), ('shes', 3), ('whenever', 3), ('youve', 3), ('mario', 3), ('likely', 3), ('train', 3), ('gym', 3), ('avoid', 3), ('̶̷̷̷̶̵̶̶̧̧̛̛̛̩̬̣̮̦̣̪̗̙̺̞̱͙̰͉͍͚͉͖̙͎̠̬̻̤͖͍̤̼̯͇̜̯̳̥͇̤̗͇̪͚̘̖̰͇̭͙̩̟̭̟̳̺̳̩͍̥ͤ̀͋͗̿ͭ̐ͯ͑̊͆͗̾̂͋͌ͮͥ̎̍̓͑̋͌ͧ̋͊̿͛̃̍ͮͥ̇̎ͥ̐ͫͧ͆̽̍̅̈͗́̅ͤ̓ͯ̍ͪ̀̑̓̐̓̿ͮ̈́̓̆ͨ̎́ͬ̓ͯͣͪ̄̿̐ͬ́͑͘̕͘͢͢͢͝͝ͅ͏̶̸̶̵̵̡̨̢̧̛̛̛̛̪̫̺̹̗͉͓̠̳̯͓̻͖̳̰̟͉̠̯̤͇͈͍̹̥̣͉̖̬̹̟͍̰̯͖̯̳̗͉̭̹̠̩͕̦̫͔͚̤͈̠̩͈͚̼̬͇͎̗̱̖̗͔͙̹̗̻̯̺͔̥̩̅ͨͯ̐́̓̌͊ͬ̋͛̍͒͛̂ͨ̐͑̌ͦͫͯ͋ͬͦ̄͒̀ͭ͋̈̐ͫ̃̀̽ͣ̆̓ͯͬͪ̽́̿ͫͫ̉ͨ̈́̈̉ͨ͌̽̄ͯͭ̿͌̌͂̓̇̈́ͦ̚̚͘͢͟͟͡͠͞͡ͅ͏̶̸̧̬̬͉̫̣̘̥̝̟̝̯̮̝͇̣̣̦̱͙̦̯̱̬̲͓̘̀ͬ͗̏́̌͆̆̅ͩ̉̒͗ͭ̔ͥͦ̓̉̐̏̔̒̐̂ͭ̔͘͢͝͏̸̶̸̵̨̡̛̛̖̞̝̗̩̜̮̩̰͚̲̱̦̺̦͉̳̟̭͇͍̖͎̲̦̘͎͖͈͍͕͇̦̹̰͇̠̬̠̟͎͔͖̹̞̯̗̣̮̼̖͕̺̝̞̯̞̬͑̌̒͊̀̆͑́̌̄ͣ̒́̀́ͪ͋̋̓̊ͬ̽ͮͧ͂̾̐̀͋̂̎ͫ̔̈̀̈́̊͗ͩ̃́͌ͤ̃ͮ̏ͦͩ̕̚͜͟͟͞͝͡͞͝ͅͅ҉̵̵̷̵̶̷̵̶̶̷̴̵̷̸̢̢̧̢̡̡̡̧̛̖̱̻̱̫͙̮͍͚̯̪̬͙̭̲̻͚̣̭̻͎͔͇͈̫̳̯̖̺̟̖̝̭̙͙͎̝͈̤̥̪̮̖̹͈͇̩̟͕̟̖͕͎͎͍̠͓̙͈̺̪͖̦̮̠̥͇̩̙͔̹̠̙̻̥̤͚̦̠̯͓̲̙͚͙̯̹͕̝͖̮͔̤̬͕̭͚͙̠̼͍̞̹͙̫̞͈̤̫̹͔͎̟̞̗̻̫̳̯̣̣̻̫̺͇͖̘̯̺̝̖̘̻̭̓͒̒ͯ̓̍͐ͣͪ͛͑ͦ̇̐ͥ̃͊͌̓͗̽ͣͭͮͧ͌̓̉̂̈́͐ͦ͐̅ͤͣ̇̓͋̒̅̏͛͊̂̀ͭ͋̆͗̐̊ͮͧ͒̄̾̉̑̄ͬͣ̽̏ͤͩ̈ͩ̇͐ͩ͒̉̓́̌̽͒͂͌ͣͣ͗ͦ̎ͫͬ̽ͭ̂͌̾̀̀̓̐̿̃́͛̌ͫ͆̄̃͛ͨ̿̓́̀̔ͩ̒́̑̀̏̋͋ͫ̄̒̈̔͌̇̆͐͆͂ͧͧ͒̀̀̾ͬ̒̐ͣ̍̂͒̊͒̏ͮ͛ͧͫͣ͑ͦ͊̐ͥ̍̚̚͘̚͘͘͘̕̕͢͟͟͜͠͡͞͡͝͝͡͠͠͠͝ͅͅͅͅ͏̷̶̴̵̷̸̸̶̨̡̡̢̡̡̛̛̭̜̖͉̠̹͉̙͓͕̝̮̞̰̩̫̤̮̝̺͈̯̼̼̟͓̫̗͈̻͖̜̘̭̖̼͓͎̲̯̻͕̘̪̟͓̺̰̘̖̼̺̠̰͕̰̦͍̪̣̰͚̖̫̜͉̭̟͚͍̞̜̺̲̆ͬ̾ͩ̊̓̅̀̒ͪ̏̂̿ͤ̃́͑ͭ̈́͋̄̿̋̆ͬͧ͗͑͋́̒̾͆͌ͪ̀̃ͮ͐̋ͭ͐ͭ̔ͭͦ̓̀͋ͫ̊̉̅̅̾̽̏̑̂̒̏̍ͨ̈͌̎͋̋̇͊̑̈́͗́̎̐͋̀̒ͯ̀́̋ͤ͋̽ͪͮ͒̓̀̀ͩ̋̍͑ͣ̏̈̚̕̕̚̚̚͢͜͡͞͞͞͝ͅͅ҉̵̤͙̦͉͇̮̪͔̲̩̱̳̥̹͇̤͍͚̗̮̟̩̲ͭ̐̄͋̃̈́͋́ͪͯ͒̋̇̾ͫͮͭ̔̐̀ͮͪ͌̃ͦ̏͂͗͠͠͏̶̵̴̛̫͍͎̦̞͈̥̖̼̭͔͎̖̟͖͖̞̣̺̠̝͓̀̃͊ͤ͐̀ͮ̆ͩ̈́͆̇̈͑͂͐͌́̚͢͢͜͡͠҉̢̥̼̙̗̘̭͚̯̫̎ͥ̒ͣ̍̒̉ͤ͝͏̴͖͓̹̳̗̙͖͎̲̼͈͖̘̰͍ͣ̑̏̒̓̀ͬ̔ͪͭ̒̑̽̌̽͊̈́̾͋ͦ̂͘͞͏̸̶̴̧̛̺̫̩͚̫͈̰͕̯͎̞͕̺͕̭̘̠͓͎͉͙͎̤͍̜̹̠̩̪͕̪͙́̓͑̎͌̂̏̔̇͊͊̈̎̽̍ͧͫ̓̋̓̀͗̓̀ͫ̌̄̉́ͤͮ͌͌ͥ͐̀ͦ͗̐̽ͧ̚̕͠͠͞ͅͅ҉̸̠̲̖̪̝̹̮̹̟͉͎̥͓̘̪̩̮͈̮̞̙̭͎̟͎͓͓̽͂ͮ̔ͧ̃̍̓̉͐̈̍ͨ̽ͧ͛ͤ̑͌͐̄ͤͪ̕͝ͅ҉̵̛̬̮͈͚̱̉̎ͮ̅͜͝͏̵̴̸̨̛̭̰̰͔͇̩̪̦̟̹̞͕̲̟̤͙̹̠͈͓̳̞͔̯̦͇͖̞͍̳̤͈̝͇͎͎̩̙̤͈̈́́ͩ̀̏̒̐ͯ̓͊̋ͩ̒ͯ͆ͨ̐ͯ͌͒͌͌͌͆ͤͮͯ̾̚͟͜͞ͅ͏̴͜҉̢̛̜͈̲̻̭̱͔̤͈͍͙̱̤̫̼̞̞̞̳̙ͥ͒̍̾̓ͭ͗̉̈́ͨͤ̏̌͌̓̈ͬͯͧ̐ͣ͛́ͤ̃ͩ̇̊̀͟͟͞͠͏͏̭̜̬̤ͮ͛ͯ̂ͫͧ̂́͊̂͋͂ͦ̄̕҉̷̶̶̷̡̧̡̧̨̨̡͍͎̦͉̣̘̟͍̼̜͍̮̝̯̯͔̣͔̲͈͔̟͖̻̫̮̗̘͖̙̬̝͕̳̪̲͉̮̦̫̠̟̘͇̙͇̱̹́̇͂͗ͥ̇͊́͑̂͊ͨ͋ͣ̀ͦ̅̓ͯ̿̊̾ͯ̇̒̆̍̈̓́͒̓̉̽̽̐̓̎̓ͪ̈̓̎̄̏̄̓͊̓ͧͨ̾̈́̈́ͯ͆ͪ͐̅̂́̌͛͑ͩ̎̍̍̅ͥ̿̃̌̔̏ͮͮͤͩ̈́̉ͣͯ̏̇̆ͯ̽̃͗̄͆ͫ̚͘̕̚̚͜͏̴̧̢̛̖̣̭̗̮̖͓̪͈͔̱̱̜̣̮̼̦̱͈͔̹̖̻͈̲͚̤̑̈ͫ́͛ͣ̀̀̓̒̿́͋ͣ̿͋͛͒͗̈̎ͣ̇ͧ̽̒̄̂̃̈́͐̽̚̚͢͝͡ͅ͏͢͏̷̴̧̨̮͍̗̰̫̟̰̼͇͚̭̠̜̪̜̭̜̙͓̤͎̦͖̥̦̤̜̲̣͙̠̱̗̱̤̜̗͉̺̥̘̙̲̤̣͒̍̌ͣ͊ͩ̾̃͒́ͤ̾̒͛̃ͨ̀ͬ̔̂ͧ̈́ͣ̎͆̂ͩͬͬ̾ͮ̽̓̕̚͘͟͜͜͠͡͏̶̴̵̡̛͙̞̜͍͎͕̯̜̙̘̣̰̞̳̫̥̮̭̤͎̰̗͕̮̗̥̦̱̖̩͖̹̼̮̜͓̪͕̬͓̫͚̩̝̰͓ͯͪͭ̇́͑̀͒͒̓̍̀ͫ͗͊ͤ̾̏̎̉ͤͩ͊̒ͨ̍̋̎̋̿ͯ̍̊̒ͥ͂̎̀̕͡͠͏̶̧͙͙͉̹̮̖̭̮̠̭̬̻͙͎̮̗̼̭̳̗͚͈̜͕̜̄̎͊̉̽͆͛ͪ̾̆̓̾̾̃ͥ́̒̌ͦͥ̅̊͛ͫ̕͝͏̵̨͖̰̳̖̜͎̙͓͎̣͓̞͎̀͐̈̓̀̂̂̂̂̍̊̀ͭ̾ͣ̀̿͛̌͛̅͆̀͆ͧ̕̚҉̶̸̷̢̛̖̳̥̦͍̹̖̫̻̜͇͙̜͍̲̳̥̎̍͋̒ͬͨ̿͒̎̈́ͪ̔ͣͤ́̋ͧ̋̀̈́̔̒̓̂̒ͪͨ͟͠ͅ͏̵̴̴̷̸̨̧̡̢̢̡̭͇̩̗̠͖͎̪̺̲͕̗͓̬̼̙͉̝̲͇̟̱̘̗͖͙̝͎͓̠̦̜͔̬̠̣͇̫̙̰̘̞͔͎̦͚̬̹͓̠̙̙͕̣̗̫͚̯̘̥̩̱͖̙̞͚͙̖͙̗͓̘͈̱͔̲̠͕̠̟̩͖͖̺̦̬͓̭͚͓̳̏ͤ̌̏͗ͦ̄͒ͯ̓̍̈́̍̐̀ͫͧ͌̽ͨ̓̃͋ͮ̓̒͌ͬ̔́̌ͤ̊̊͐͑̍́̿̑ͮ́ͫͣͦ̑ͤ̿̏̀̒̒̄̓͊ͮ̇ͮ̓ͭ̑̉̓ͮͦ̽͑̊ͣͧ̽ͣ̔̍̿̽̍̅̄̿ͦͯ̑̄̂̓͗͊̔̆ͨͧ̓̊ͫͣ̃ͧ̑̍̎̈́̉̏̍͑̓̈́͐̎͋͛̕̕̕̕̚̚̕̕͜͜͜͢͢͡͞͝͝͡͠ͅͅͅͅͅ', 3), ('yuri', 3), ('hope', 3), ('hundred', 3), ('ton', 3), ('heavy', 3), ('watched', 3), ('movies', 3), ('nor', 3), ('baby', 3), ('proud', 3), ('sneak', 3), ('ones', 3), ('common', 3), ('comments', 3), ('blue', 3), ('deserve', 3), ('belong', 3), ('legit', 3), ('child', 3), ('obama', 3), ('somewhere', 3), ('omg', 3), ('tax', 3), ('refund', 3), ('form', 3), ('months', 3), ('personally', 3), ('listen', 3), ('ignore', 3), ('recent', 3), ('largest', 3), ('response', 3), ('sick', 3), ('kill', 3), ('jack', 3), ('law', 3), ('november', 3), ('faster', 3), ('cut', 3), ('worst', 3), ('deal', 3), ('wow', 3), ('shot', 3), ('huge', 3), ('users', 3), ('starts', 3), ('i’ve', 3), ('respond', 3), ('willing', 3), ('plot', 3), ('silent', 3), ('gun', 3), ('dog', 3), ('boys', 3), ('repost', 3), ('yet', 3), ('probation', 3), ('keep', 3), ('europe', 3), ('shivers', 3), ('bags', 3), ('slowly', 3), ('break', 3), ('ways', 3), ('yall', 3), ('education', 3), ('currently', 3), ('cancer', 3), ('current', 3), ('sad', 3), ('missed', 3), ('saving', 3), ('pizza', 3), ('else', 3), ('young', 3), ('tired', 3), ('close', 3), ('likes', 3), ('noticed', 3), ('ur', 3), ('mobile', 3), ('stereotypes', 3), ('spelled', 3), ('superior', 3), ('second', 3), ('audible', 3), ('punch', 3), ('color', 3), ('bigger', 3), ('individual', 3), ('nni', 3), ('cares', 3), ('step', 3), ('plastic', 3), ('touch', 3), ('ya', 3), ('steps', 3), ('sell', 3), ('wtf', 3), ('guns', 3), ('title', 3), ('stupid', 3), ('thx', 3), ('happens', 3), ('lead', 3), ('gives', 3), ('tho', 3), ('feeling', 3), ('“ok', 3), ('boomer”', 3), ('perfect', 3), ('spotify', 3), ('vietnam', 3), ('original', 3), ('talk', 3), ('gets', 3), ('become', 3), ('ntake', 3), ('america', 3), ('el', 3), ('que', 3), ('seconds', 3), ('forces', 3), ('allow', 3), ('cube', 3), ('children', 3), ('feeding', 3), ('changed', 3), ('earbuds', 3), ('guarantee', 3), ('act', 3), ('shaming', 3), ('sound', 3), ('spritz', 3), ('iconic', 3), ('family', 3), ('videos', 3), ('perverted', 3), ('netflix', 3), ('factors', 3), ('crazy', 3), ('nervous', 3), ('barely', 3), ('gg', 3), ('ez', 3), ('team', 3), ('hugs', 2), ('master', 2), ('plan', 2), ('broke', 2), ('hong', 2), ('forever', 2), ('distance', 2), ('ti', 2), ('flow', 2), ('answer', 2), ('blizzard', 2), ('musk', 2), ('confirm', 2), ('brian', 2), ('learned', 2), ('foreign', 2), ('behind', 2), ('vs', 2), ('unheard', 2), ('pool', 2), ('sneaky', 2), ('objectified', 2), ('film', 2), ('worse', 2), ('equal', 2), ('pretending', 2), ('numbers', 2), ('jesus', 2), ('mention', 2), ('growing', 2), ('amount', 2), ('discovering', 2), ('christian', 2), ('patrick', 2), ('commenting', 2), ('aspect', 2), ('condemning', 2), ('speech', 2), ('perfectly', 2), ('das', 2), ('failed', 2), ('wear', 2), ('hood', 2), ('desires', 2), ('changing', 2), ('force', 2), ('prepare', 2), ('chemistry', 2), ('thousand', 2), ('special', 2), ('loud', 2), ('browser', 2), ('computers', 2), ('delete', 2), ('hand', 2), ('donated', 2), ('yay', 2), ('europeans', 2), ('iq', 2), ('save', 2), ('light', 2), ('iphone', 2), ('chain', 2), ('support', 2), ('low', 2), ('ea', 2), ('organ', 2), ('animal', 2), ('touching', 2), ('irony', 2), ('deep', 2), ('parts', 2), ('coins', 2), ('released', 2), ('nae', 2), ('bamba', 2), ('ladies', 2), ('area', 2), ('minutes', 2), ('grandpa', 2), ('finished', 2), ('bold', 2), ('disgusting', 2), ('ngl', 2), ('green', 2), ('fan', 2), ('loves', 2), ('dying', 2), ('source', 2), ('information', 2), ('buying', 2), ('account', 2), ('oof', 2), ('hi', 2), ('jerk', 2), ('reaction', 2), ('invading', 2), ('space', 2), ('david', 2), ('afraid', 2), ('global', 2), ('technically', 2), ('sauce', 2), ('pointless', 2), ('peta', 2), ('eyes', 2), ('annoying', 2), ('peashooter', 2), ('swear', 2), ('levels', 2), ('near', 2), ('beat', 2), ('virgin', 2), ('bofa', 2), ('deez', 2), ('nuts', 2), ('bals', 2), ('across', 2), ('bend', 2), ('yuretarded', 2), ('door', 2), ('surprised', 2), ('figured', 2), ('da', 2), ('rules', 2), ('infection', 2), ('meaning', 2), ('spectrum', 2), ('similar', 2), ('regular', 2), ('metabolism', 2), ('running', 2), ('conversion', 2), ('training', 2), ('protein', 2), ('maintenance', 2), ('knowing', 2), ('weight', 2), ('pretend', 2), ('considered', 2), ('dating', 2), ('confirmed', 2), ('press', 2), ('feelings', 2), ('muscles', 2), ('itll', 2), ('bernie', 2), ('sanders', 2), ('decent', 2), ('cock', 2), ('nearly', 2), ('awards', 2), ('millenials', 2), ('babies', 2), ('mid', 2), ('2010s', 2), ('superhero', 2), ('edgy', 2), ('whose', 2), ('awesome', 2), ('shame', 2), ('non', 2), ('zoomers', 2), ('aware', 2), ('towards', 2), ('mr', 2), ('speaking', 2), ('penis', 2), ('congrats', 2), ('piece', 2), ('hour', 2), ('boi', 2), ('cringe', 2), ('russian', 2), ('skipped', 2), ('nioce', 2), ('national', 2), ('early', 2), ('medieval', 2), ('feed', 2), ('czech', 2), ('fuckin', 2), ('watching', 2), ('holy', 2), ('room', 2), ('jojos', 2), ('undertale', 2), ('updoots', 2), ('shall', 2), ('intense', 2), ('familiar', 2), ('dark', 2), ('theme', 2), ('using', 2), ('taxes', 2), ('extremely', 2), ('donating', 2), ('deduction', 2), ('reasons', 2), ('terms', 2), ('nnthe', 2), ('incentive', 2), ('companies', 2), ('move', 2), ('franchise', 2), ('memory', 2), ('decision', 2), ('actions', 2), ('begin', 2), ('thighs', 2), ('triple', 2), ('request', 2), ('comradenni', 2), ('mentions', 2), ('koolaid', 2), ('event', 2), ('itself', 2), ('thered', 2), ('exchange', 2), ('crying', 2), ('upvoted', 2), ('continue', 2), ('scientists', 2), ('action', 2), ('emissions', 2), ('positive', 2), ('simple', 2), ('ourselves', 2), ('system', 2), ('anywhere', 2), ('socialism', 2), ('hasnt', 2), ('laid', 2), ('fail', 2), ('homie', 2), ('weve', 2), ('seems', 2), ('environment', 2), ('burned', 2), ('circle', 2), ('footprint', 2), ('bloom', 2), ('weapons', 2), ('crap', 2), ('rpgs', 2), ('month', 2), ('conversation', 2), ('ten', 2), ('block', 2), ('owner', 2), ('xbox', 2), ('pc', 2), ('grew', 2), ('mains', 2), ('wheelchair', 2), ('gamers', 2), ('theories', 2), ('material', 2), ('haven’t', 2), ('chess', 2), ('halo', 2), ('pointer', 2), ('thumb', 2), ('adult', 2), ('honest', 2), ('yo', 2), ('yare', 2), ('anime', 2), ('irl', 2), ('stress', 2), ('wheres', 2), ('sheep', 2), ('whatever', 2), ('lied', 2), ('therefore', 2), ('nose', 2), ('clean', 2), ('truth', 2), ('anger', 2), ('random', 2), ('skeletonsnsend', 2), ('spinenshrieking', 2), ('skulls', 2), ('shock', 2), ('soulnseal', 2), ('doom', 2), ('tonightnspooky', 2), ('skeletonsnspeak', 2), ('screechnyoull', 2), ('shake', 2), ('shudder', 2), ('surprisenwhen', 2), ('zombies', 2), ('shrieknwere', 2), ('skeletonsnyoure', 2), ('misunderstoodnyou', 2), ('socializenbut', 2), ('shouldncause', 2), ('skeletonsnshout', 2), ('startling', 2), ('shrilly', 2), ('screamsntheyll', 2), ('sarcophagusnand', 2), ('benspirits', 2), ('supernaturalnare', 2), ('shy', 2), ('fussnbut', 2), ('bones', 2), ('unsafenits', 2), ('semiseriousnspooky', 2), ('skeletonsnare', 2), ('samentheyll', 2), ('smile', 2), ('scrabble', 2), ('bynand', 2), ('drive', 2), ('insanensticks', 2), ('stones', 2), ('bonesnthey', 2), ('seldom', 2), ('snoozenspooky', 2), ('skeletonsnwill', 2), ('wake', 2), ('boo', 2), ('background', 2), ('unable', 2), ('weak', 2), ('user', 2), ('button', 2), ('features', 2), ('waste', 2), ('elaborate', 2), ('dry', 2), ('wouldnt', 2), ('paint', 2), ('becouse', 2), ('dump', 2), ('pete', 2), ('immigrants', 2), ('banned', 2), ('santa', 2), ('food', 2), ('became', 2), ('king', 2), ('cured', 2), ('longest', 2), ('moment', 2), ('what’s', 2), ('wants', 2), ('battle', 2), ('otherwise', 2), ('subreddit', 2), ('stands', 2), ('interesting', 2), ('worked', 2), ('difficult', 2), ('figure', 2), ('older', 2), ('chrome', 2), ('edit', 2), ('2nd', 2), ('grade', 2), ('friend', 2), ('forgot', 2), ('australia', 2), ('sooo', 2), ('absolute', 2), ('wii', 2), ('cries', 2), ('correct', 2), ('glass', 2), ('situation', 2), ('bars', 2), ('highly', 2), ('page', 2), ('trillion', 2), ('bring', 2), ('nut', 2), ('scene', 2), ('laughs', 2), ('let’s', 2), ('china', 2), ('noo', 2), ('obvious', 2), ('message', 2), ('grow', 2), ('cropped', 2), ('gut', 2), ('self', 2), ('sort', 2), ('updoot', 2), ('ain’t', 2), ('lovely', 2), ('lyrics', 2), ('shootings', 2), ('laws', 2), ('business', 2), ('apps', 2), ('throw', 2), ('alone', 2), ('models', 2), ('protecting', 2), ('needs', 2), ('control', 2), ('depending', 2), ('add', 2), ('nnand', 2), ('salty', 2), ('headphone', 2), ('asshole', 2), ('paying', 2), ('according', 2), ('diet', 2), ('hands', 2), ('lives', 2), ('described', 2), ('creating', 2), ('irons', 2), ('chat', 2), ('plague', 2), ('doubt', 2), ('run', 2), ('adults', 2), ('grown', 2), ('cousin', 2), ('unionists', 2), ('taken', 2), ('roc', 2), ('prc', 2), ('shrek', 2), ('copy', 2), ('threatening', 2), ('somebody', 2), ('characters', 2), ('protagonists', 2), ('gender', 2), ('wonder', 2), ('strong', 2), ('series', 2), ('desperately', 2), ('uncle', 2), ('nigga', 2), ('pic', 2), ('degree', 2), ('enjoyed', 2), ('september', 2), ('myself', 2), ('poster', 2), ('must', 2), ('costs', 2), ('giving', 2), ('oggy', 2), ('playlist', 2), ('relevant', 2), ('shuffle', 2), ('genres', 2), ('weird', 2), ('artists', 2), ('justin', 2), ('cash', 2), ('ahead', 2), ('savannah', 2), ('pets', 2), ('dream', 2), ('test', 2), ('everywhere', 2), ('absolutely', 2), ('entire', 2), ('requiem', 2), ('tragic', 2), ('century', 2), ('supposed', 2), ('once', 2), ('lesbian', 2), ('straight', 2), ('¯ツ¯', 2), ('ugly', 2), ('toilet', 2), ('yesterday', 2), ('nto', 2), ('nwest', 2), ('virginia', 2), ('mountain', 2), ('gold', 2), ('doctor', 2), ('credit', 2), ('state', 2), ('un', 2), ('political', 2), ('referendum', 2), ('pp', 2), ('correctly', 2), ('sports', 2), ('season', 2), ('himself', 2), ('arguing', 2), ('lots', 2), ('luck', 2), ('expecting', 2), ('dogs', 2), ('carnivore', 2), ('pet', 2), ('evolve', 2), ('fantastical', 2), ('example', 2), ('changes', 2), ('chameleon', 2), ('short', 2), ('takes', 2), ('rise', 2), ('product', 2), ('caught', 2), ('killing', 2), ('searched', 2), ('aight', 2), ('anyways', 2), ('mindset', 2), ('muslims', 2), ('roll', 2), ('products', 2), ('için', 2), ('jake', 2), ('ik', 2), ('normal', 2), ('debatable', 2), ('thicc', 2), ('af', 2), ('version', 2), ('math', 2), ('brought', 2), ('couple', 2), ('french', 2), ('ight', 2), ('miss', 2), ('dankmemes', 2), ('alpha', 2), ('edition', 2), ('mee', 2), ('gone', 2), ('heres', 2), ('blood', 2), ('send', 2), ('frickin', 2), ('nerd', 2), ('dammit', 2), ('alright', 2), ('screw', 2), ('autistic', 2), ('deadass', 2), ('paris', 2), ('venezia', 2), ('italy', 2), ('aperol', 2), ('several', 2), ('depends', 2), ('areas', 2), ('kermit', 2), ('adrian', 2), ('mi', 2), ('iems', 2), ('email', 2), ('fight', 2), ('won', 2), ('tom', 2), ('studying', 2), ('insane', 2), ('defense', 2), ('laughing', 2), ('meds', 2), ('stand', 2), ('nervousscared', 2), ('murray', 2), ('admits', 2), ('audience', 2), ('ipad', 2), ('breast', 2), ('͡°', 2), ('plus', 2), ('nowhere', 2), ('sexy', 2), ('assuming', 2), ('lovers', 2), ('situations', 2), ('youll', 2), ('singleplayer', 2), ('bullying', 2), ('bill', 2), ('bison', 2), ('deer', 2), ('į̶̴̭͇͙̘̤̗̹̣̞̙̝͖̗̮̮͓̗͙̝͔̓̉̓̆͗̀̀͘͜͠͝͠͠͡n̴͛̔ͨ͊̌ͯ̔̏̈̊͌̌͢͏̵́́͜͝f̵̨̛͈̠̤͑̈́̐̎̀̽̅͑̒̋̅ͬ͐̂̍̍̏̈́̎ͪ̕͜͡͞͞ę̵̷̸̡͓͇̮̥̠̬̣̲͔̜̩̼͚̩̲͎̱̭̜̉̌ͣ̔̑͊͊ͨͣ̌̅ͩ̅́́͟͞c̵̸̲̙͇̖͒̆ͯ̒̋̒͢͟͜͞t̵̸̢̧̩͍͍̮̹̘̼͇ͨ͂̑̌͌̎̆͛̓͒̉ͦ͘͝͞͏̵̴̡̀͞͏ḭ̵̢̧̣̦̱̦͕̟̣̝̟ͤ̅͝͠ơ̵̸̶̶̸̢̡͉̖̘̝͍̝͔͍͔̖ͦ̐ͭ͛ͨ͋̎ͪ̃͋́̀̕͟͜͞͝n̵̸̵̸̡̧̢̳͓̬͎̮̻̬͓̫̭̦̞̬̮̠͓̭̓̎́̀̀͟͜͢͡͞ͅͅͅ', 1), ('į̵̙̜̗̻͙̘̟́̓͠n̴̞͎̗̯͚̄̈́́͐̎̒́͌̋̔͑̈̒ͅf̵̗̳̩͉͎̭̼̜̒̀͘é̸̢̡̝̬̦͉͔̬̥͈͚͎̼̮̠̊͐̄̾̆͗̈́͌̇̆̈́̾̕c̴̳͖̱̖̺͈̉͑̄̆͑͝͝t̶̛̹̳͍̓͐̆͑͐̏̀̈́̀͗̔̆', 1), ('inclusive', 1), ('language', 1), ('mx', 1), ('motx', 1), ('alpinx', 1), ('derrapantx', 1), ('site', 1), ('deng', 1), ('xiaoping', 1), ('⠀⠀⢀⡤⢶⣶⣶⡄⠀⠀⠀⠀⠀⠀⠀⠀⠀⠀⠀', 1), ('nn⠀⠀⢀⣠⣤⣤⣤⣿⣧⣀⣀⣀⣀⣀⣀⣀⣀⣤⡄⠀', 1), ('nn⢠⣾⡟⠋⠁⠀⠀⣸⠇⠈⣿⣿⡟⠉⠉⠉⠙⠻⣿⡀', 1), ('nn⢺⣿⡀⠀⠀⢀⡴⠋⠀⠀⣿⣿⡇⠀⠀⠀⠀⠀⠙⠇', 1), ('nn⠈⠛⠿⠶⠚⠋⣀⣤⣤⣤⣿⣿⣇⣀⣀⣴⡆⠀⠀⠀', 1), ('nn⠀⠀⠀⠀⠠⡞⠋⠀⠀⠀⣿⣿⡏⠉⠛⠻⣿⡀⠀⠀', 1), ('nn⠀⠀⠀⠀⠀⠀⠀⠀⠀⠀⣿⣿⡇⠀⠀⠀⠈⠁⠀⠀', 1), ('nn⠀⠀⣠⣶⣶⣶⣶⡄⠀⠀⣿⣿⡇⠀⠀⠀⠀⠀⠀⠀', 1), ('nn⠀⢰⣿⠟⠉⠙⢿⡟⠀⠀⣿⣿⡇⠀⠀⠀⠀⠀⠀⠀nn', 1), ('⠀⢸⡟⠀⠀⠀⠘⠀⠀⠀⣿⣿⠃⠀⠀⠀⠀⠀⠀⠀nn', 1), ('⠀⠈⢿⡄⠀⠀⠀⠀⠀⣼⣿⠏⠀⠀⠀⠀⠀⠀⠀⠀', 1), ('nn⠀⠀⠀⠙⠷⠶⠶⠶⠿⠟⠉⠀⠀⠀⠀⠀⠀⠀⠀⠀', 1), ('whoever', 1), ('kept', 1), ('swipe', 1), ('measure', 1), ('hm', 1), ('coastline', 1), ('visible', 1), ('slight', 1), ('esrever', 1), ('dna', 1), ('pilf', 1), ('nwod', 1), ('gniht', 1), ('ym', 1), ('tup', 1), ('partners', 1), ('billionaire', 1), ('minekrafet', 1), ('good11111', 1), ('emojis', 1), ('header', 1), ('inhales', 1), ('yuritarded', 1), ('insulting', 1), ('funn', 1), ('destroyer', 1), ('hahaha', 1), ('destroyed', 1), ('ahhahha', 1), ('treelon', 1), ('reavs', 1), ('hahah', 1), ('hero', 1), ('breath', 1), ('hah', 1), ('hcjds', 1), ('processors', 1), ('alrighty', 1), ('hmu', 1), ('4inch', 1), ('mcspagette', 1), ('louis', 1), ('vuitton', 1), ('fridge', 1), ('plzzz', 1), ('rapper', 1), ('service', 1), ('institute', 1), ('caused', 1), ('mutiny', 1), ('chose', 1), ('forded', 1), ('calling', 1), ('roadhouse', 1), ('lgbt', 1), ('disingenuous', 1), ('redheads', 1), ('nonexistent', 1), ('interchangeable', 1), ('dumbnnand', 1), ('large', 1), ('consumer', 1), ('peoplennthe', 1), ('ifunny', 1), ('stream', 1), ('monopoly', 1), ('controlling', 1), ('comp', 1), ('bamboozling', 1), ('trap', 1), ('soldier', 1), ('helen', 1), ('mirren', 1), ('totally', 1), ('onscreen', 1), ('mulveys', 1), ('gaze', 1), ('objectification', 1), ('wayyyyyyyy', 1), ('lame', 1), ('meninist', 1), ('entertainment', 1), ('statistically', 1), ('ridiculously', 1), ('deliberately', 1), ('placed', 1), ('push', 1), ('technology', 1), ('idiotic', 1), ('creationism', 1), ('ignoring', 1), ('existed', 1), ('claims', 1), ('catastrophical', 1), ('flood', 1), ('raised', 1), ('base', 1), ('imperfect', 1), ('reconstruction', 1), ('call', 1), ('hehehehennhello', 1), ('umakedecisionnni', 1), ('nobody’s', 1), ('jah', 1), ('hardbass', 1), ('bier', 1), ('fucl', 1), ('fffffuuuuuu', 1), ('refuses', 1), ('infeccccc', 1), ('hoodie', 1), ('sees', 1), ('scream', 1), ('appease', 1), ('rake', 1), ('mental', 1), ('student', 1), ('college', 1), ('biology', 1), ('calculus', 1), ('“oh', 1), ('paid', 1), ('attention”', 1), ('retired', 1), ('cycled', 1), ('teachers', 1), ('“special', 1), ('ed”', 1), ('ed', 1), ('rooms', 1), ('invariably', 1), ('click', 1), ('available', 1), ('explorer', 1), ('accounts', 1), ('stonks', 1), ('elon', 1), ('wealth', 1), ('premise', 1), ('kilometer', 1), ('miles', 1), ('fatass', 1), ('høñk', 1), ('reached', 1), ('opened', 1), ('5s', 1), ('receives', 1), ('frequent', 1), ('parallel', 1), ('hells', 1), ('frognall', 1), ('doge', 1), ('kiddo', 1), ('empire', 1), ('theater', 1), ('dropped', 1), ('lackluster', 1), ('traffic', 1), ('aroena', 1), ('gōøb', 1), ('ogre', 1), ('boome4', 1), ('pulled', 1), ('ñíçé', 1), ('“coco', 1), ('donor', 1), ('korean', 1), ('“umadbro”', 1), ('hopefully', 1), ('deeper', 1), ('facing', 1), ('solutions', 1), ('complaining', 1), ('layers', 1), ('australian', 1), ('wuss', 1), ('ewww', 1), ('offended', 1), ('quarters', 1), ('exquisite', 1), ('walmart', 1), ('unfortunately', 1), ('olny', 1), ('quarter', 1), ('rash', 1), ('lips', 1), ('shield', 1), ('northern', 1), ('irelandnni', 1), ('mint', 1), ('specific', 1), ('celebrate', 1), ('regional', 1), ('cultural', 1), ('eventslandmarks', 1), ('papercut', 1), ('molto', 1), ('grande', 1), ('cazzo', 1), ('gentlemen', 1), ('sobbingnni', 1), ('understood', 1), ('curvy', 1), ('pieces', 1), ('driftwood', 1), ('wdym', 1), ('partial', 1), ('differential', 1), ('equations', 1), ('hed', 1), ('fornnyears', 1), ('90s', 1), ('hole', 1), ('ozone', 1), ('layer', 1), ('highschool', 1), ('stronger', 1), ('grandma', 1), ('cancel', 1), ('goblin', 1), ('jacked', 1), ('rounds', 1), ('sing', 1), ('japan', 1), ('drugies', 1), ('reeeeee', 1), ('lua', 1), ('“neutral”', 1), ('nnelif', 1), ('“different”nn', 1), ('print“ok', 1), ('boomer”nnelif', 1), ('“good”nn', 1), ('print“meme”', 1), ('research', 1), ('purposes', 1), ('verify', 1), ('validity', 1), ('supplied', 1), ('laughed', 1), ('guerilla', 1), ('begone', 1), ('infect', 1), ('writer', 1), ('hl3', 1), ('blog', 1), ('set', 1), ('bank', 1), ('access', 1), ('thrown', 1), ('thanos', 1), ('lacking', 1), ('trans', 1), ('supporters', 1), ('nthey', 1), ('knee', 1), ('defend', 1), ('sexually', 1), ('harassing', 1), ('wanting', 1), ('nanything', 1), ('defending', 1), ('predator', 1), ('abusing', 1), ('terfs', 1), ('correcting', 1), ('hume', 1), ('outconsume', 1), ('drink', 1), ('table', 1), ('stenks', 1), ('warming', 1), ('“white', 1), ('christmas”', 1), ('1st', 1), ('december', 1), ('gimme', 1), ('‘community’', 1), ('hates', 1), ('vegans', 1), ('allnnlike', 1), ('‘anything', 1), ('good’', 1), ('‘lets', 1), ('spray', 1), ('chemicals', 1), ('rabbit’s', 1), ('happens’', 1), ('activists', 1), ('purchases', 1), ('impossible', 1), ('premium', 1), ('jave', 1), ('og', 1), ('record', 1), ('hated', 1), ('oi', 1), ('tetris', 1), ('ems', 1), ('pickaxe', 1), ('swinging', 1), ('reeves', 1), ('oke', 1), ('hax', 1), ('nit', 1), ('translates', 1), ('tonni’m', 1), ('advantage', 1), ('commento', 1), ('woke', 1), ('yeetus', 1), ('fetus', 1), ('spirit', 1), ('bar', 1), ('extremes', 1), ('metabolic', 1), ('lesser', 1), ('joes', 1), ('street', 1), ('disorders', 1), ('hypothyroidism', 1), ('510lbs', 1), ('weightnncant', 1), ('muh', 1), ('slower', 1), ('function', 1), ('heavyimpact', 1), ('endurance', 1), ('25lbs', 1), ('15ish', 1), ('estimating', 1), ('lbs', 1), ('precise', 1), ('106kg', 1), ('goal', 1), ('powerliftingoriented', 1), ('jointsligamentstendonsetc', 1), ('curse', 1), ('accounted', 1), ('tdee', 1), ('upped', 1), ('intake', 1), ('restricted', 1), ('carbfat', 1), ('600ish', 1), ('cals', 1), ('below', 1), ('easy', 1), ('lying', 1), ('idiot', 1), ('remotely', 1), ('atn', 1), ('nthe', 1), ('excuses', 1), ('exercise', 1), ('willpower', 1), ('cramming', 1), ('fatty', 1), ('delusion', 1), ('flat', 1), ('itnnsources', 1), ('nhttpswwwtheguardiancomsociety2016sep20obesitygeneweightlossgainstudydietcmptwtgu', 1), ('nhttpswwwhsphharvardeduobesitypreventionsourceobesitycausesgenesandobesity', 1), ('nhttpwwwthyroidorgpatientthyroidinformationwhatarethyroidproblemsqandathyroidandweight', 1), ('nhttpswwwncbinlmnihgovpmcarticlespmc4535334', 1), ('unhealthy', 1), ('obese', 1), ('inst', 1), ('thick', 1), ('naturally', 1), ('quicker', 1), ('pace', 1), ('garbage', 1), ('constantly', 1), ('skinny', 1), ('bodies', 1), ('cara', 1), ('gato', 1), ('gozaimasu', 1), ('shat', 1), ('hao', 1), ('content', 1), ('boohoo', 1), ('smallest', 1), ('keyboard', 1), ('sweeping', 1), ('blanket', 1), ('statements', 1), ('politics', 1), ('hurt', 1), ('redacted', 1), ('spin', 1), ('jumping', 1), ('pounds', 1), ('surgeon', 1), ('muscle', 1), ('appointments', 1), ('physiotherapy', 1), ('chiropractor', 1), ('thisnnalso', 1), ('excercises', 1), ('weigh', 1), ('lifting', 1), ('machines', 1), ('muscular', 1), ('dysbalance', 1), ('helped', 1), ('̶̷̷̷̶̵̶̶̧̧̛̛̛̩̬̣̮̦̣̪̗̙̺̞̱͙̰͉͍͚͉͖̙͎̠̬̻̤͖͍̤̼̯͇̜̯̳̥͇̤̗͇̪͚̘̖̰͇̭͙̩̟̭̟̳̺̳̩͍̥ͤ̀͋͗̿ͭ̐ͯ͑̊͆͗̾̂͋͌ͮͥ̎̍̓͑̋͌ͧ̋͊̿͛̃̍ͮͥ̇̎ͥ̐ͫͧ͆̽̍̅̈͗́̅ͤ̓ͯ̍ͪ̀̑̓̐̓̿ͮ̈́̓̆ͨ̎́ͬ̓ͯͣͪ̄̿̐ͬ́͑͘̕͘͢͢͢͝͝ͅ͏̶̸̶̵̵̡̨̢̧̛̛̛̛̪̫̺̹̗͉͓̠̳̯͓̻͖̳̰̟͉̠̯̤͇͈͍̹̥̣͉̖̬̹̟͍̰̯͖̯̳̗͉̭̹̠̩͕̦̫͔͚̤͈̠̩͈͚̼̬͇͎̗̱̖̗͔͙̹̗̻̯̺͔̥̩̅ͨͯ̐́̓̌͊ͬ̋͛̍͒͛̂ͨ̐͑̌ͦͫͯ͋ͬͦ̄͒̀ͭ͋̈̐ͫ̃̀̽ͣ̆̓ͯͬͪ̽́̿ͫͫ̉ͨ̈́̈̉ͨ͌̽̄ͯͭ̿͌̌͂̓̇̈́ͦ̚̚͘͢͟͟͡͠͞͡ͅ͏̶̸̧̬̬͉̫̣̘̥̝̟̝̯̮̝͇̣̣̦̱͙̦̯̱̬̲͓̘̀ͬ͗̏́̌͆̆̅ͩ̉̒͗ͭ̔ͥͦ̓̉̐̏̔̒̐̂ͭ̔͘͢͝͏̸̶̸̵̨̡̛̛̖̞̝̗̩̜̮̩̰͚̲̱̦̺̦͉̳̟̭͇͍̖͎̲̦̘͎͖͈͍͕͇̦̹̰͇̠̬̠̟͎͔͖̹̞̯̗̣̮̼̖͕̺̝̞̯̞̬͑̌̒͊̀̆͑́̌̄ͣ̒́̀́ͪ͋̋̓̊ͬ̽ͮͧ͂̾̐̀͋̂̎ͫ̔̈̀̈́̊͗ͩ̃́͌ͤ̃ͮ̏ͦͩ̕̚͜͟͟͞͝͡͞͝ͅͅ҉̵̵̷̵̶̷̵̶̶̷̴̵̷̸̢̢̧̢̡̡̡̧̛̖̱̻̱̫͙̮͍͚̯̪̬͙̭̲̻͚̣̭̻͎͔͇͈̫̳̯̖̺̟̖̝̭̙͙͎̝͈̤̥̪̮̖̹͈͇̩̟͕̟̖͕͎͎͍̠͓̙͈̺̪͖̦̮̠̥͇̩̙͔̹̠̙̻̥̤͚̦̠̯͓̲̙͚͙̯̹͕̝͖̮͔̤̬͕̭͚͙̠̼͍̞̹͙̫̞͈̤̫̹͔͎̟̞̗̻̫̳̯̣̣̻̫̺͇͖̘̯̺̝̖̘̻̭̓͒̒ͯ̓̍͐ͣͪ͛͑ͦ̇̐ͥ̃͊͌̓͗̽ͣͭͮͧ͌̓̉̂̈́͐ͦ͐̅ͤͣ̇̓͋̒̅̏͛͊̂̀ͭ͋̆͗̐̊ͮͧ͒̄̾̉̑̄ͬͣ̽̏ͤͩ̈ͩ̇͐ͩ͒̉̓́̌̽͒͂͌ͣͣ͗ͦ̎ͫͬ̽ͭ̂͌̾̀̀̓̐̿̃́͛̌ͫ͆̄̃͛ͨ̿̓́̀̔ͩ̒́̑̀̏̋͋ͫ̄̒̈̔͌̇̆͐͆͂ͧͧ͒̀̀̾ͬ̒̐ͣ̍̂͒̊͒̏ͮ͛ͧͫͣ͑ͦ͊̐ͥ̍̚̚͘̚͘͘͘̕̕͢͟͟͜͠͡͞͡͝͝͡͠͠͠͝ͅͅͅͅ͏̷̶̴̵̷̸̸̶̨̡̡̢̡̡̛̛̭̜̖͉̠̹͉̙͓͕̝̮̞̰̩̫̤̮̝̺͈̯̼̼̟͓̫̗͈̻͖̜̘̭̖̼͓͎̲̯̻͕̘̪̟͓̺̰̘̖̼̺̠̰͕̰̦͍̪̣̰͚̖̫̜͉̭̟͚͍̞̜̺̲̆ͬ̾ͩ̊̓̅̀̒ͪ̏̂̿ͤ̃́͑ͭ̈́͋̄̿̋̆ͬͧ͗͑͋́̒̾͆͌ͪ̀̃ͮ͐̋ͭ͐ͭ̔ͭͦ̓̀͋ͫ̊̉̅̅̾̽̏̑̂̒̏̍ͨ̈͌̎͋̋̇͊̑̈́͗́̎̐͋̀̒ͯ̀́̋ͤ͋̽ͪͮ͒̓̀̀ͩ̋̍͑ͣ̏̈̚̕̕̚̚̚͢͜͡͞͞͞͝ͅͅ҉̵̤͙̦͉͇̮̪͔̲̩̱̳̥̹͇̤͍͚̗̮̟̩̲ͭ̐̄͋̃̈́͋́ͪͯ͒̋̇̾ͫͮͭ̔̐̀ͮͪ͌̃ͦ̏͂͗͠͠͏̶̵̴̛̫͍͎̦̞͈̥̖̼̭͔͎̖̟͖͖̞̣̺̠̝͓̀̃͊ͤ͐̀ͮ̆ͩ̈́͆̇̈͑͂͐͌́̚͢͢͜͡͠҉̢̥̼̙̗̘̭͚̯̫̎ͥ̒ͣ̍̒̉ͤ͝͏̴͖͓̹̳̗̙͖͎̲̼͈͖̘̰͍ͣ̑̏̒̓̀ͬ̔ͪͭ̒̑̽̌̽͊̈́̾͋ͦ̂͘͞͏̸̶̴̧̛̺̫̩͚̫͈̰͕̯͎̞͕̺͕̭̘̠͓͎͉͙͎̤͍̜̹̠̩̪͕̪͙́̓͑̎͌̂̏̔̇͊͊̈̎̽̍ͧͫ̓̋̓̀͗̓̀ͫ̌̄̉́ͤͮ͌͌ͥ͐̀ͦ͗̐̽ͧ̚̕͠͠͞ͅͅ҉̸̠̲̖̪̝̹̮̹̟͉͎̥͓̘̪̩̮͈̮̞̙̭͎̟͎͓͓̽͂ͮ̔ͧ̃̍̓̉͐̈̍ͨ̽ͧ͛ͤ̑͌͐̄ͤͪ̕͝ͅ҉̵̛̬̮͈͚̱̉̎ͮ̅͜͝͏̵̴̸̨̛̭̰̰͔͇̩̪̦̟̹̞͕̲̟̤͙̹̠͈͓̳̞͔̯̦͇͖̞͍̳̤͈̝͇͎͎̩̙̤͈̈́́ͩ̀̏̒̐ͯ̓͊̋ͩ̒ͯ͆ͨ̐ͯ͌͒͌͌͌͆ͤͮͯ̾̚͟͜͞ͅ͏̴͜҉̢̛̜͈̲̻̭̱͔̤͈͍͙̱̤̫̼̞̞̞̳̙ͥ͒̍̾̓ͭ͗̉̈́ͨͤ̏̌͌̓̈ͬͯͧ̐ͣ͛́ͤ̃ͩ̇̊̀͟͟͞͠͏͏̭̜̬̤ͮ͛ͯ̂ͫͧ̂́͊̂͋͂ͦ̄̕҉̷̶̡̧̡̧̨͍͎̦͉̣̘̟͍̼̜͍̮̝̯̯͔̣͔̲͈͔̟͖̻̫̮̗̘͖̙̬̝͕́̇͂͗ͥ̇͊́͑̂͊ͨ͋ͣ̀ͦ̅̓ͯ̿̊̾ͯ̇̒̆̍̈̓́͒̓̉̽̽̐̓̎̓ͪ̈̓̎̄̏̄̓͊̓ͧͨ̾̈́̈́ͯ͆ͪ͐̅̂́̚͘̕', 1), ('gangbusters', 1), ('companys', 1), ('hr', 1), ('unneccessary', 1), ('lawsuits', 1), ('interviews', 1), ('etc', 1), ('federally', 1), ('protected', 1), ('solved', 1), ('tarded', 1), ('removing', 1), ('scum', 1), ('humanity', 1), ('choke', 1), ('mod', 1), ('spammy', 1), ('unser', 1), ('bitte', 1), ('emes', 1), ('colonization', 1), ('achieved', 1), ('thomas', 1), ('tank', 1), ('engine', 1), ('british', 1), ('accent', 1), ('wash', 1), ('dreams', 1), ('tropesgenresmotifs', 1), ('describedmemed', 1), ('1900s', 1), ('westerns', 1), ('styles', 1), ('filmnnin', 1), ('comedic', 1), ('trope', 1), ('popularized', 1), ('interpreted', 1), ('differently', 1), ('illusion', 1), ('oohh', 1), ('whatd', 1), ('donnwhat', 1), ('dyou', 1), ('sticking', 1), ('channel', 1), ('livin', 1), ('bout', 1), ('kamikaze', 1), ('alcoholic', 1), ('uhh', 1), ('millennials', 1), ('younger', 1), ('cuspers', 1), ('2000s', 1), ('teens', 1), ('zeitgeist', 1), ('leans', 1), ('closer', 1), ('includes', 1), ('‘99', 1), ('beastwait', 1), ('illegal', 1), ('tronks', 1), ('bite', 1), ('ou', 1), ('queue', 1), ('bitenits', 1), ('le', 1), ('weeb', 1), ('geez', 1), ('sequitur', 1), ('hometown', 1), ('tumblr', 1), ('ignorant', 1), ('shiti', 1), ('heading', 1), ('score', 1), ('erratic', 1), ('pacer', 1), ('renember', 1), ('classes', 1), ('easily', 1), ('arrows', 1), ('goodnnothers', 1), ('beta', 1), ('select', 1), ('heheheh', 1), ('69k', 1), ('barack', 1), ('obanomosanacatinaca', 1), ('paddle', 1), ('ball', 1), ('1billion', 1), ('bil', 1), ('amoeba', 1), ('papa', 1), ('escaping', 1), ('chhhuuuu', 1), ('meddle', 1), ('elections', 1), ('russians', 1), ('stinky', 1), ('commie', 1), ('skeletons', 1), ('spooooooooky', 1), ('cakeday', 1), ('fourtyfourth', 1), ('car', 1), ('sry', 1), ('cheap', 1), ('cheaper', 1), ('countries', 1), ('drinkfood', 1), ('drank', 1), ('pilsner', 1), ('urquell', 1), ('favourite', 1), ('crowns', 1), ('czechoslovakia', 1), ('xddd', 1), ('republic', 1), ('mo', 1), ('kolaches', 1), ('ahh', 1), ('juice', 1), ('😅😅🙄', 1), ('😵😱☠️', 1), ('maman', 1), ('updog', 1), ('mix', 1), ('elements', 1), ('ma', 1), ('gusta', 1), ('award', 1), ('bait', 1), ('cuz', 1), ('sike', 1), ('mafuka', 1), ('disrespect', 1), ('labyrinth', 1), ('bizarre', 1), ('adventure', 1), ('oddity', 1), ('bowie', 1), ('youtuber', 1), ('danny', 1), ('gonzalez', 1), ('tip', 1), ('hat', 1), ('queenappreciating', 1), ('gentlesir', 1), ('xi', 1), ('jin', 1), ('pooh', 1), ('relentless', 1), ('groupthink', 1), ('troublesome', 1), ('thawed', 1), ('itd', 1), ('moms', 1), ('basement', 1), ('thingy', 1), ('twitter', 1), ('checked', 1), ('fyi', 1), ('wealthy', 1), ('withhold', 1), ('rest', 1), ('investing', 1), ('taxable', 1), ('withholding', 1), ('liquidating', 1), ('unlikely', 1), ('nn', 1), ('donates', 1), ('time—it', 1), ('april', 1), ('mere', 1), ('mortals', 1), ('nominally', 1), ('rate', 1), ('six', 1), ('donate', 1), ('imo', 1), ('diff', 1), ('nnso', 1), ('reality', 1), ('charity', 1), ('benefits', 1), ('donation—the', 1), ('nominal', 1), ('mrbeast', 1), ('scrub', 1), ('shouldnt', 1), ('appreciate', 1), ('criticize', 1), ('zhe', 1), ('harshly', 1), ('appreciation', 1), ('messing', 1), ('marketing', 1), ('diehard', 1), ('casual', 1), ('screamed', 1), ('unison', 1), ('“um', 1), ('hold', 1), ('up”', 1), ('error', 1), ('bashing', 1), ('quite', 1), ('forward', 1), ('focused', 1), ('consumers', 1), ('“wow', 1), ('pledge', 1), ('undying', 1), ('loyalty', 1), ('ultimately', 1), ('garbage”', 1), ('nnninstead', 1), ('applaud', 1), ('grain', 1), ('salt', 1), ('producers', 1), ('trust', 1), ('mutilate', 1), ('sonic’s', 1), ('internal', 1), ('salutes', 1), ('snake', 1), ('ima', 1), ('‘it’s', 1), ('as’', 1), ('10k', 1), ('הוא', 1), ('קרוב', 1), ('מספיק', 1), ('אני', 1), ('כבר', 1), ('שם', 1), ('umrwaffles', 1), ('bwords', 1), ('hardrsnnsorry', 1), ('uhellsing5959s', 1), ('bwordsnnsorry', 1), ('realizing', 1), ('goose', 1), ('felt', 1), ('yaaaas', 1), ('genitalia', 1), ('therennit', 1), ('juicy', 1), ('secks', 1), ('imgur', 1), ('tanks', 1), ('underrated', 1), ('nobodynngod', 1), ('that´s', 1), ('alot', 1), ('damage', 1), ('bett', 1), ('types', 1), ('pills', 1), ('magic', 1), ('pill', 1), ('sufficient', 1), ('menstruation', 1), ('likennthank', 1), ('justice', 1), ('equivalent', 1), ('fear', 1), ('tomorrow', 1), ('i’ll', 1), ('above', 1), ('govt', 1), ('continuously', 1), ('lobbied', 1), ('opposing', 1), ('legislation', 1), ('oil', 1), ('pollutennmany', 1), ('previous', 1), ('efforts', 1), ('track', 1), ('progression', 1), ('direct', 1), ('clear', 1), ('safest', 1), ('zero', 1), ('negative', 1), ('consequences', 1), ('dimmingnnit’s', 1), ('capitalism', 1), ('economic', 1), ('othersnnshow', 1), ('eggnnnorway', 1), ('practices', 1), ('democratic', 1), ('dealnnsocialism', 1), ('runs', 1), ('contrary', 1), ('destined', 1), ('solve', 1), ('wouldn’t', 1), ('homie’s', 1), ('lil', 1), ('lady', 1), ('date', 1), ('zendaya', 1), ('latest', 1), ('pepperidge', 1), ('farm', 1), ('remembers', 1), ('alabama', 1), ('luckily', 1), ('ambitious', 1), ('economy', 1), ('badly', 1), ('typical', 1), ('underachieving', 1), ('depression', 1), ('um', 1), ('size', 1), ('portugal', 1), ('apologies', 1), ('fellow', 1), ('gaaayyy', 1), ('booooy', 1), ('value', 1), ('blows', 1), ('wet', 1), ('accurate', 1), ('herself', 1), ('smoker', 1), ('crouching', 1), ('helps', 1), ('nullify', 1), ('smgs', 1), ('dictates', 1), ('dps', 1), ('rather', 1), ('mustve', 1), ('quickly', 1), ('interested', 1), ('terarria', 1), ('buddy', 1), ('elsewhere', 1), ('sony', 1), ('ps4', 1), ('plenty', 1), ('switch', 1), ('easier', 1), ('gig', 1), ('playstation', 1), ('slingshot', 1), ('joker', 1), ('upvoting', 1), ('int', 1), ('assholes', 1), ('handed', 1), ('plate', 1), ('boring', 1), ('tshirt', 1), ('rolling', 1), ('emoji', 1), ('created', 1), ('httpscryptoshirtioproductsbitcointeewhitelogo', 1), ('macolovia', 1), ('il', 1), ('vento', 1), ('doro', 1), ('roasting', 1), ('shoots', 1), ('fingernail', 1), ('nutted', 1), ('ddd', 1), ('cornhole', 1), ('jerking', 1), ('analysisnnhere’s', 1), ('challenging', 1), ('arguments', 1), ('rebut', 1), ('points', 1), ('touched', 1), ('deflection', 1), ('refusal', 1), ('indicates', 1), ('rebuttal', 1), ('aka', 1), ('concession', 1), ('defeat', 1), ('nnni', 1), ('fischer', 1), ('cold', 1), ('era', 1), ('exile', 1), ('round', 1), ('marines', 1), ('horror', 1), ('chief', 1), ('shaped', 1), ('discs', 1), ('earphones', 1), ('incanal', 1), ('connected', 1), ('middle', 1), ('pointing', 1), ('nvm', 1), ('daughter', 1), ('workuse', 1), ('andlet', 1), ('wantjust', 1), ('missing', 1), ('di', 1), ('cocaine', 1), ('treat', 1), ('feedback', 1), ('daze', 1), ('twists', 1), ('mattcap', 1), ('noiçe', 1), ('lie', 1), ('spook', 1), ('sekki', 1), ('sheepsekki', 1), ('eee', 1), ('mosquitos', 1), ('trick', 1), ('propose', 1), ('normality', 1), ('recover', 1), ('extinct', 1), ('perspective', 1), ('judge', 1), ('possibly', 1), ('“sentence”', 1), ('falsely', 1), ('accusing', 1), ('charge', 1), ('admitted', 1), ('suspend', 1), ('supervised', 1), ('monitoring', 1), ('arrest', 1), ('allegations', 1), ('suspended', 1), ('discourage', 1), ('encourage', 1), ('accusations', 1), ('absolutey', 1), ('convinced', 1), ('virtual', 1), ('tarted', 1), ('honey', 1), ('storm', 1), ('moin', 1), ('“don’t', 1), ('bro”', 1), ('remeber', 1), ('queen', 1), ('huzzah', 1), ('proved', 1), ('galaxy', 1), ('s9', 1), ('bed', 1), ('wifi', 1), ('alien', 1), ('stier', 1), ('compared', 1), ('incoming', 1), ('notice', 1), ('sun', 1), ('prone', 1), ('effects', 1), ('radiation', 1), ('surviving', 1), ('pure', 1), ('ignorance', 1), ('believing', 1), ('intelligent', 1), ('survive', 1), ('ups', 1), ('ridiculous', 1), ('anyones', 1), ('empty', 1), ('commentary', 1), ('npc', 1), ('educate', 1), ('troglodyte', 1), ('cells', 1), ('mysterious', 1), ('universe', 1), ('wayyy', 1), ('oversimplified', 1), ('headline', 1), ('regurgitator', 1), ('england', 1), ('sily', 1), ('childhood', 1), ('claus', 1), ('reindeers', 1), ('vehicle', 1), ('abuse', 1), ('couldnt', 1), ('raise', 1), ('himher', 1), ('lived', 1), ('homes', 1), ('damaging', 1), ('cowbelly', 1), ('vid', 1), ('exception', 1), ('sleep', 1), ('pilgrimage', 1), ('pray', 1), ('thee', 1), ('crimson', 1), ('photoshop', 1), ('cc', 1), ('crackeeeeeeers', 1), ('arrivederci', 1), ('unzips', 1), ('dicknnari', 1), ('hoping', 1), ('misdiagnosis', 1), ('phenomena', 1), ('occasionally', 1), ('becoming', 1), ('lucid', 1), ('alzheimers', 1), ('testing', 1), ('deemed', 1), ('terminal', 1), ('method', 1), ('methods', 1), ('אוקיי', 1), ('גם', 1), ('לך', 1), ('infectedu0001f9e0', 1), ('litteraly', 1), ('austin', 1), ('biggest', 1), ('uno', 1), ('reverse', 1), ('moved', 1), ('walknnits', 1), ('clue', 1), ('dong', 1), ('dot', 1), ('forehead', 1), ('slapping', 1), ('scout', 1), ('nwa', 1), ('vb', 1), ('bone', 1), ('fabled', 1), ('fortold', 1), ('hehehehe', 1), ('boycotting', 1), ('ben', 1), ('keine', 1), ('schwäche', 1), ('zeigen', 1), ('wondered', 1), ('holding', 1), ('worries', 1), ('sections', 1), ('animators', 1), ('remake', 1), ('theyve', 1), ('recreating', 1), ('animation', 1), ('borg', 1), ('huh', 1), ('stfu', 1), ('aww', 1), ('ending', 1), ('wanted', 1), ('atnncheers', 1), ('shitting', 1), ('actor', 1), ('director', 1), ('expressing', 1), ('quiet', 1), ('panzerkampfwagon', 1), ('spending', 1), ('luxury', 1), ('cleaning', 1), ('painfully', 1), ('unfunny', 1), ('pointed', 1), ('originally', 1), ('among', 1), ('legitimate', 1), ('debate', 1), ('strategy', 1), ('nnregardless', 1), ('nnimo', 1), ('correlation', 1), ('generational', 1), ('differences', 1), ('attitude', 1), ('remain', 1), ('minded', 1), ('blame', 1), ('posting', 1), ('inspect', 1), ('tool', 1), ('code', 1), ('lambominoes', 1), ('cry', 1), ('project', 1), ('r34', 1), ('hidden', 1), ('finland', 1), ('fish', 1), ('fins', 1), ('hush', 1), ('arbitary', 1), ('practically', 1), ('usa', 1), ('freedom', 1), ('index', 1), ('hahaahah', 1), ('numbernnnstfu', 1), ('birdeaters', 1), ('venezualan', 1), ('third', 1), ('uk', 1), ('ios', 1), ('dumbo', 1), ('website', 1), ('autocap', 1), ('hk', 1), ('tradition', 1), ('hide', 1), ('snow', 1), ('golden', 1), ('brudda', 1), ('grammatically', 1), ('optifine', 1), ('lines', 1), ('inbetween', 1), ('emperor', 1), ('manknd', 1), ('fuckn', 1), ('john', 1), ('wick', 1), ('envy', 1), ('lumberjack', 1), ('sleeps', 1), ('night', 1), ('daynnhe', 1), ('puts', 1), ('womens', 1), ('clothing', 1), ('hangs', 1), ('discoverd', 1), ('gb', 1), ('max', 1), ('pro', 1), ('developers', 1), ('dance', 1), ('continously', 1), ('releasing', 1), ('kai', 1), ('satan', 1), ('sliiiide', 1), ('turn', 1), ('three', 1), ('ninety', 1), ('fourrrr', 1), ('twice', 1), ('turkish', 1), ('liras', 1), ('dongs', 1), ('waiter', 1), ('speak', 1), ('racist', 1), ('baguette', 1), ('prostate', 1), ('upon', 1), ('cursed', 1), ('clingy', 1), ('full', 1), ('beard', 1), ('anymore', 1), ('disrespected', 1), ('pulls', 1), ('ak47nnthis', 1), ('decide', 1), ('christ', 1), ('dicks', 1), ('pull', 1), ('highhorse', 1), ('calm', 1), ('tits', 1), ('considering', 1), ('291k', 1), ('arthur', 1), ('midget', 1), ('rightfully', 1), ('hilarious', 1), ('numbah', 1), ('four', 1), ('dat', 1), ('exact', 1), ('wording', 1), ('sendnnthey', 1), ('armpit', 1), ('hair', 1), ('uwu', 1), ('hol', 1), ('winter', 1), ('russia', 1), ('finlandnand', 1), ('atleetik', 1), ('ruikul', 1), ('kange', 1), ('sinep', 1), ('urho', 1), ('kekkonen', 1), ('images', 1), ('edited', 1), ('text', 1), ('sole', 1), ('particular', 1), ('caption', 1), ('disappointed', 1), ('explain', 1), ('normally', 1), ('hashtag', 1), ('applies', 1), ('effect', 1), ('gary', 1), ('outback', 1), ('wildlife', 1), ('ns', 1), ('travesty', 1), ('eminemnni', 1), ('nwordnni', 1), ('chainnnfuck', 1), ('younnnow', 1), ('“modern”', 1), ('rap', 1), ('dmx', 1), ('complement', 1), ('endorsing', 1), ('thoughts', 1), ('root', 1), ('societal', 1), ('problems', 1), ('booing', 1), ('complied', 1), ('allowed', 1), ('choice', 1), ('revenue', 1), ('protestors', 1), ('veterans', 1), ('havent', 1), ('upvotesn', 1), ('criticising', 1), ('orange', 1), ('crusade', 1), ('bloodshed', 1), ('4chan', 1), ('orks', 1), ('built', 1), ('dominate', 1), ('physical', 1), ('realm', 1), ('minds', 1), ('pol', 1), ('yup', 1), ('performance', 1), ('experience', 1), ('preference', 1), ('iphones', 1), ('ui', 1), ('consistent', 1), ('streamlined', 1), ('intuitive', 1), ('privacy', 1), ('meets', 1), ('curated', 1), ('dangerous', 1), ('junk', 1), ('nnpeople', 1), ('personal', 1), ('customization', 1), ('prefer', 1), ('options', 1), ('invested', 1), ('phones', 1), ('refreshing', 1), ('disagrees', 1), ('breakdown', 1), ('editor', 1), ('6090hz', 1), ('commend', 1), ('digits', 1), ('profits', 1), ('resolution', 1), ('tend', 1), ('atleast', 1), ('sigh', 1), ('energy', 1), ('plantsnncheckmate', 1), ('joseph', 1), ('poore', 1), ('return', 1), ('plantbased', 1), ('animalbased', 1), ('nnncheckmate', 1), ('cooked', 1), ('greatly', 1), ('accentuates', 1), ('c02', 1), ('carbon', 1), ('environmentalists', 1), ('flair', 1), ('checks', 1), ('recently', 1), ('aids', 1), ('zombie', 1), ('memer', 1), ('nnani', 1), ('makin', 1), ('front', 1), ('sign', 1), ('insecurity', 1), ('rising', 1), ('unattractive', 1), ('attractive', 1), ('wha', 1), ('rubbing', 1), ('settings', 1), ('worldcrusher312', 1), ('peoples’', 1), ('concern', 1), ('discounted', 1), ('belittled', 1), ('“people', 1), ('downtown', 1), ('apartments', 1), ('owns', 1), ('cars', 1), ('fun”', 1), ('certainly', 1), ('✌️', 1), ('result', 1), ('forced', 1), ('jobs', 1), ('loss', 1), ('indirectly', 1), ('insert', 1), ('herennnothing', 1), ('stops', 1), ('customer', 1), ('allways', 1), ('straw', 1), ('thingnnthe', 1), ('responds', 1), ('eficiently', 1), ('governament', 1), ('qthoomer', 1), ('surgery', 1), ('neuroendoscopy', 1), ('prism', 1), ('weren’t', 1), ('simply', 1), ('“bought', 1), ('shows”', 1), ('measures', 1), ('disarming', 1), ('citizens', 1), ('legal', 1), ('rights', 1), ('bear', 1), ('arms', 1), ('criminals', 1), ('granted', 1), ('subscriber', 1), ('cuck', 1), ('informing', 1), ('1960s', 1), ('70s', 1), ('40s', 1), ('60s', 1), ('vinyl', 1), ('release', 1), ('beadt', 1), ('initially', 1), ('iron', 1), ('maiden', 1), ('fs', 1), ('rats', 1), ('grandfather', 1), ('turned', 1), ('hyperbolic', 1), ('cleaner', 1), ('antibiotics', 1), ('antibiotic', 1), ('resistance', 1), ('issue', 1), ('ninja’s', 1), ('mccully', 1), ('culkined', 1), ('flute', 1), ('fifty', 1), ('pence', 1), ('tune', 1), ('playnwas', 1), ('cunts', 1), ('ira', 1), ('hadnt', 1), ('deciding', 1), ('fucks', 1), ('finenni', 1), ('taiwan', 1), ('straightforward', 1), ('belief', 1), ('perhaps', 1), ('therenni', 1), ('policies', 1), ('held', 1), ('sway', 1), ('concentration', 1), ('camps', 1), ('xinjiang', 1), ('subs', 1), ('higher', 1), ('40k', 1), ('hcd', 1), ('count', 1), ('motherfucker', 1), ('stan', 1), ('lee', 1), ('bob', 1), ('ross', 1), ('torn', 1), ('sequel', 1), ('fragment', 1), ('pasted', 1), ('gratias', 1), ('healthcare', 1), ('condition', 1), ('equipped', 1), ('flattered', 1), ('laughable', 1), ('corporations', 1), ('fuckton', 1), ('dodgers', 1), ('legally', 1), ('required', 1), ('amountnnwhat', 1), ('suggesting', 1), ('governments', 1), ('capable', 1), ('monopolous', 1), ('organisation', 1), ('livid', 1), ('soul', 1), ('toys', 1), ('ahhhh', 1), ('sehr', 1), ('ich', 1), ('liebeeeeeee', 1), ('neuine', 1), ('bali', 1), ('suicidal', 1), ('surprise', 1), ('wats', 1), ('successful', 1), ('male', 1), ('flop', 1), ('praised', 1), ('females', 1), ('complaint', 1), ('“best”', 1), ('films', 1), ('protagonist', 1), ('elseincluding', 1), ('sexuality', 1), ('window', 1), ('dressing', 1), ('homosexuals', 1), ('alitabattle', 1), ('angle', 1), ('excellent', 1), ('batwoman', 1), ('terribly', 1), ('acog', 1), ('jäger', 1), ('reach', 1), ('tastes', 1), ('pleasure', 1), ('surprising', 1), ('lowering', 1), ('humor', 1), ('lööps', 1), ('buffoon', 1), ('poop', 1), ('butts', 1), ('wantto', 1), ('we’ve', 1), ('judged', 1), ('bday', 1), ('facepalm', 1), ('mate', 1), ('11th', 1), ('driver', 1), ('looser', 1), ('isle', 1), ('rhodes', 1), ('idrk', 1), ('visited', 1), ('greece', 1), ('spring', 1), ('“being', 1), ('person”', 1), ('leads', 1), ('silenced', 1), ('frustrated', 1), ('generalizing', 1), ('hello', 1), ('regardless', 1), ('fundamentally', 1), ('misunderstanding', 1), ('phrase', 1), ('vaccinations', 1), ('she’s', 1), ('arse', 1), ('🗿😳🗿', 1), ('books', 1), ('tbf', 1), ('invent', 1), ('gunpowder', 1), ('powerful', 1), ('mathematicians', 1), ('defining', 1), ('designation', 1), ('concept', 1), ('ayayayaya', 1), ('hinge', 1), ('ss', 1), ('flustered', 1), ('loser', 1), ('wondering', 1), ('newton', 1), ('leeroy', 1), ('jenkins', 1), ('references', 1), ('ph', 1), ('purged', 1), ('fast', 1), ('reflexes', 1), ('hits', 1), ('“i’m', 1), ('lover', 1), ('fighter”', 1), ('femist', 1), ('cartoon', 1), ('cockroaches', 1), ('tech', 1), ('boss', 1), ('five', 1), ('acdc', 1), ('albums', 1), ('insanely', 1), ('unlike', 1), ('mixes', 1), ('artist', 1), ('partly', 1), ('switched', 1), ('behavior', 1), ('shuffling', 1), ('playlists', 1), ('spanning', 1), ('dozens', 1), ('hundreds', 1), ('bieber', 1), ('guilty', 1), ('shelter', 1), ('f1', 1), ('f2', 1), ('expect', 1), ('abandoning', 1), ('leaving', 1), ('shelters', 1), ('haters', 1), ('🐆🐅', 1), ('void', 1), ('test3', 1), ('duuuuuuuuumb', 1), ('dieee', 1), ('cynic', 1), ('til', 1), ('bitching', 1), ('wasting', 1), ('bet', 1), ('brilliant', 1), ('unlimited', 1), ('stock', 1), ('crash', 1), ('rip', 1), ('publicity', 1), ('whomever', 1), ('giorno', 1), ('giovanna', 1), ('kono', 1), ('ga', 1), ('goddamn', 1), ('100k', 1), ('motw', 1), ('guaranteed', 1), ('yah', 1), ('smash', 1), ('bros', 1), ('pre', 1), ('mash', 1), ('buttons', 1), ('knock', 1), ('platform', 1), ('immersive', 1), ('storynneach', 1), ('along', 1), ('setting', 1), ('president', 1), ('policy', 1), ('arguably', 1), ('divided', 1), ('conflicts', 1), ('escalated', 1), ('rapidly', 1), ('bull', 1), ('moose', 1), ('party', 1), ('showed', 1), ('finish', 1), ('punchline', 1), ('dolan', 1), ('digging', 1), ('grave', 1), ('key', 1), ('generations', 1), ('beyond', 1), ('based', 1), ('eventsnnlost', 1), ('ww1nngreatest', 1), ('ww2nnsilent', 1), ('dustnnboomers', 1), ('koreanngen', 1), ('desert', 1), ('stormnngen', 1), ('announced', 1), ('social', 1), ('masterpiece', 1), ('lmaoo', 1), ('austrian', 1), ('cyborg', 1), ('hunting', 1), ('universal', 1), ('⣰⣾⣿⣿⣿⠿⠿⢿⣿⣿⣿⣿⣿⣿⣿⣿⣿⣿⣿⣿⣿⣿⣿⣿⣷⣆', 1), ('⣿⣿⣿⡿⠋⠄⡀⣿⣿⣿⣿⣿⣿⣿⣿⠿⠛⠋⣉⣉⣉⡉⠙⠻⣿⣿', 1), ('⣿⣿⣿⣇⠔⠈⣿⣿⣿⣿⣿⡿⠛⢉⣤⣶⣾⣿⣿⣿⣿⣿⣿⣦⡀⠹', 1), ('⣿⣿⠃⠄⢠⣾⣿⣿⣿⠟⢁⣠⣾⣿⣿⣿⣿⣿⣿⣿⣿⣿⣿⣿⣿⡄', 1), ('⣿⣿⣿⣿⣿⣿⣿⠟⢁⣴⣿⣿⣿⣿⣿⣿⣿⣿⣿⣿⣿⣿⣿⣿⣿⣷', 1), ('⣿⣿⣿⣿⣿⡟⠁⣴⣿⣿⣿⣿⣿⣿⣿⣿⣿⣿⣿⣿⣿⣿⣿⣿⣿⣿', 1), ('⣿⣿⣿⣿⠋⢠⣾⣿⣿⣿⣿⣿⣿⡿⠿⠿⠿⠿⣿⣿⣿⣿⣿⣿⣿⣿', 1), ('⣿⣿⡿⠁⣰⣿⣿⣿⣿⣿⣿⣿⣿⠗⠄⠄⠄⠄⣿⣿⣿⣿⣿⣿⣿⡟', 1), ('⣿⡿⠁⣼⣿⣿⣿⣿⣿⣿⡿⠋⠄⠄⠄⣠⣄⢰⣿⣿⣿⣿⣿⣿⣿⠃', 1), ('⡿⠁⣼⣿⣿⣿⣿⣿⣿⣿⡇⠄⢀⡴⠚⢿⣿⣿⣿⣿⣿⣿⣿⣿⡏⢠', 1), ('⠃⢰⣿⣿⣿⣿⣿⣿⡿⣿⣿⠴⠋⠄⠄⢸⣿⣿⣿⣿⣿⣿⣿⡟⢀⣾', 1), ('⢀⣿⣿⣿⣿⣿⣿⣿⠃⠈⠁⠄⠄⢀⣴⣿⣿⣿⣿⣿⣿⣿⡟⢀⣾⣿', 1), ('⢸⣿⣿⣿⣿⣿⣿⣿⠄⠄⠄⠄⢶⣿⣿⣿⣿⣿⣿⣿⣿⠏⢀⣾⣿⣿', 1), ('⣿⣿⣿⣿⣿⣿⣿⣷⣶⣶⣶⣶⣶⣿⣿⣿⣿⣿⣿⣿⠋⣠⣿⣿⣿⣿', 1), ('⣿⣿⣿⣿⣿⣿⣿⣿⣿⣿⣿⣿⣿⣿⣿⣿⣿⣿⠟⢁⣼⣿⣿⣿⣿⣿', 1), ('⢻⣿⣿⣿⣿⣿⣿⣿⣿⣿⣿⣿⣿⣿⣿⣿⠟⢁⣴⣿⣿⣿⣿⣿⣿⣿', 1), ('⠈⢿⣿⣿⣿⣿⣿⣿⣿⣿⣿⣿⣿⡿⠟⢁⣴⣿⣿⣿⣿⠗⠄⠄⣿⣿', 1), ('⣆⠈⠻⢿⣿⣿⣿⣿⣿⣿⠿⠛⣉⣤⣾⣿⣿⣿⣿⣿⣇⠠⠺⣷⣿⣿', 1), ('⣿⣿⣦⣄⣈⣉⣉⣉⣡⣤⣶⣿⣿⣿⣿⣿⣿⣿⣿⠉⠁⣀⣼⣿⣿⣿', 1), ('⠻⢿⣿⣿⣿⣿⣿⣿⣿⣿⣿⣿⣿⣿⣿⣿⣿⣿⣿⣶⣶⣾⣿⣿⡿⠟', 1), ('flash', 1), ('backs', 1), ('lord', 1), ('flies', 1), ('qualified', 1), ('answers', 1), ('questions', 1), ('they’ve', 1), ('median', 1), ('salaray', 1), ('whether', 1), ('dudes', 1), ('bissexual', 1), ('bisexual', 1), ('nicki', 1), ('minaj', 1), ('cardi', 1), ('trashy', 1), ('crushed', 1), ('shoe', 1), ('patient', 1), ('basic', 1), ('hygiene', 1), ('medicine', 1), ('nowadays', 1), ('edge', 1), ('seat', 1), ('warm', 1), ('neptune', 1), ('photons', 1), ('sweet', 1), ('wonderwall', 1), ('misty', 1), ('taste', 1), ('moonshine', 1), ('ill', 1), ('pick', 1), ('offnnand', 1), ('driving', 1), ('road', 1), ('nthat', 1), ('yesterdaynncountry', 1), ('roadsnncountry', 1), ('roadsnntake', 1), ('peepee', 1), ('asap', 1), ('standing', 1), ('pissing', 1), ('walks', 1), ('fountain', 1), ('obviously', 1), ('appropriate', 1), ('pee', 1), ('urinals', 1), ('gorl', 1), ('hav', 1), ('depreshion', 1), ('gamer', 1), ('depreshon', 1), ('hsook', 1), ('nwell', 1), ('secondary', 1), ('rivals', 1), ('moments', 1), ('web', 1), ('conjecture', 1), ('intend', 1), ('audibal', 1), ('aural', 1), ('optical', 1), ('hawkeye', 1), ('arrow', 1), ('cinnamon', 1), ('singapore', 1), ('harder', 1), ('pansexual', 1), ('asumo', 1), ('mandato', 1), ('del', 1), ('pueblo', 1), ('cataluña', 1), ('se', 1), ('convierta', 1), ('estado', 1), ('independiente', 1), ('forma', 1), ('república', 1), ('npropongo', 1), ('parlamento', 1), ('catalan', 1), ('suspenda', 1), ('los', 1), ('efectos', 1), ('declaración', 1), ('independencia', 1), ('para', 1), ('las', 1), ('próximas', 1), ('semanas', 1), ('emprendamos', 1), ('diálogo', 1), ('catalán', 1), ('eleccions', 1), ('independentista', 1), ('pact', 1), ('independence', 1), ('majorities', 1), ('junts', 1), ('pel', 1), ('sí', 1), ('asked', 1), ('spain', 1), ('claim', 1), ('path', 1), ('voters', 1), ('promise', 1), ('electionsnimo', 1), ('catalans', 1), ('independent', 1), ('solution', 1), ('alexandria', 1), ('goto', 1), ('turning', 1), ('gentleman', 1), ('fell', 1), ('sins', 1), ('fetish', 1), ('deviantart', 1), ('fudged', 1), ('shape', 1), ('gat', 1), ('football', 1), ('compare', 1), ('hypocrisy', 1), ('alec', 1), ('charlie', 1), ('seph', 1), ('stalin', 1), ('gf', 1), ('yu', 1), ('dudis', 1), ('tu', 1), ('mii', 1), ('nvery', 1), ('happy’nt', 1), ('nbut', 1), ('somewhat', 1), ('happynu0001f96c', 1), ('cabij', 1), ('military', 1), ('accidentally', 1), ('wipe', 1), ('mentioning', 1), ('pain', 1), ('stays', 1), ('statement', 1), ('correctness', 1), ('realising', 1), ('obey', 1), ('disagreeing', 1), ('accepting', 1), ('tough', 1), ('firm', 1), ('parentchild', 1), ('dynamic', 1), ('surely', 1), ('eithershes', 1), ('stove', 1), ('electronics', 1), ('biblle', 1), ('“prostitution”', 1), ('summoned', 1), ('san', 1), ('andreas', 1), ('modpack', 1), ('redditors', 1), ('sacrifice', 1), ('salute', 1), ('arm', 1), ('pathetic', 1), ('agrees', 1), ('aesthetics', 1), ('removeban', 1), ('shrexas', 1), ('mňam', 1), ('píči', 1), ('nobel', 1), ('prize', 1), ('cardio', 1), ('blongs', 1), ('level', 1), ('cunning', 1), ('baldrick', 1), ('muffin', 1), ('uprizezepir', 1), ('reading', 1), ('essay', 1), ('lolol', 1), ('upper', 1), ('watermarking', 1), ('shid', 1), ('backup', 1), ('noooooo', 1), ('onnnyou', 1), ('thisnnyou', 1), ('itnnall', 1), ('yell', 1), ('“great', 1), ('days”nncome', 1), ('onnni’ll', 1), ('tomorrownnok', 1), ('daynni', 1), ('itnncome', 1), ('onnnnnnok', 1), ('painful', 1), ('httpsyoutubervr7njnmkic', 1), ('tagging', 1), ('spot', 1), ('healthy', 1), ('veganvegetarien', 1), ('comfortable', 1), ('eaten', 1), ('worthless', 1), ('chameleons', 1), ('scales', 1), ('limited', 1), ('patterns', 1), ('survival', 1), ('hardly', 1), ('match', 1), ('invisibility', 1), ('automate', 1), ('focus', 1), ('grant', 1), ('advantages', 1), ('truly', 1), ('creaturennx200bnnin', 1), ('lama', 1), ('thrust', 1), ('rejected', 1), ('gayke', 1), ('optimized', 1), ('extensions', 1), ('personalization', 1), ('nondata', 1), ('collecting', 1), ('ram', 1), ('doesnnif', 1), ('jojo', 1), ('laundry', 1), ('mangle', 1), ('ellen', 1), ('clock', 1), ('rob', 1), ('theyll', 1), ('knife', 1), ('wallet', 1), ('sending', 1), ('jail', 1), ('prisoner', 1), ('rot', 1), ('articlepost', 1), ('jusr', 1), ('cactuses', 1), ('differnt', 1), ('due', 1), ('rabbits', 1), ('cruley', 1), ('experimented', 1), ('cow', 1), ('shitnni', 1), ('nono', 1), ('server', 1), ('zayne', 1), ('oops', 1), ('blasting', 1), ('flex', 1), ('tape', 1), ('1000000000000000000000000000000000000000000000000000000000000000000000000000000000000000000000000000000000000000000000000000000000000000000000000000000000000000000000000000000000000000000000000000000000000000000000000000000000000000000000000000000000000000000000000000000000000000000000000000000000000000000000000000000000000000000000000000000000000000000000000000000000000000000000000000000000000000000000000000000000000000000000000000000000000000000000000000000000000000000000000000000000000000000000000000000000000000000000000000000000000000000000000000000000000000000000000000000000000000000000000000000000000000000000000000000000000000000000000000000000000000000000000000000000000000000000000000000000000000000000000000000000000000000000000000000000000000000000000000000000000000000000000000000000000000000000000000000000000000000000000000000000000000000000000000000000000000000000000000000000000000000000000000000000000000000000000000000000000000000000000000000000000000000000000000000000000000000000000000000000000000000000000000000000000000000000000000000000000000000000000000000000000000000000000000000000000000000000000000000000000000000000000000000000000000000000000000000000000000000000000000000000000000000000000000000000000000000000000000000000000000000000000000000000000000000000000000000000000000000000000000000000000000000000000000000000000000000000000000000000000000000000000000000000000000000000000000000000000000000000000000000000000000000000000000000000000000000000000000000000000000000000000000000000000000000000000000000000000000000000000000000000000000000000000000000000000000000000000000000000000000000000000000000000000000000000000000000000000000000000000000000000000000000000000000000000000000000000000000000000000000000000000000000000000000000000000000000000000000000000000000000000000000000000000000000000000000000000000000000000000000000000000000000000000000000000000000000000000000000000000000000000000000000000000000000000000000000000000000000000000000000000000000000000000000000000000000000000000000000000000000000000000000000000000000000000000000000000000000000000000000000000000000000000000000000000000000000000000000000000x', 1), ('yikes', 1), ('feelsbadman', 1), ('maximizing', 1), ('hmm', 1), ('nis', 1), ('wellnusually', 1), ('laptops', 1), ('option', 1), ('integrated', 1), ('graphics', 1), ('brupvote', 1), ('bruteforcing', 1), ('budget', 1), ('denying', 1), ('stated', 1), ('fahrenheit', 1), ('celsius', 1), ('confusing', 1), ('learning', 1), ('condemned', 1), ('repeat', 1), ('rid', 1), ('holiday', 1), ('guise', 1), ('“scary', 1), ('stuff”', 1), ('sensitivity', 1), ('slow', 1), ('ure', 1), ('dickhead', 1), ('mexican', 1), ('bimbo', 1), ('bread', 1), ('brand', 1), ('negrito', 1), ('nito', 1), ('began', 1), ('exporting', 1), ('bilişsel', 1), ('gücün', 1), ('sadece', 1), ('küfür', 1), ('ile', 1), ('iletişim', 1), ('kurmana', 1), ('izin', 1), ('verdiği', 1), ('senin', 1), ('üzülüyorum', 1), ('dare', 1), ('listing', 1), ('shroomer', 1), ('whoops', 1), ('ops', 1), ('forgive', 1), ('poser', 1), ('upussyslayer', 1), ('potential', 1), ('earlier', 1), ('hen', 1), ('chicken', 1), ('mcdonald’s', 1), ('catching', 1), ('u0001f970u0001f970u0001f970u0001f970❤️❤️💗', 1), ('historians', 1), ('introduce', 1), ('monkey', 1), ('sum', 1), ('tonight', 1), ('rolls', 1), ('gloves', 1), ('socks', 1), ('alphabet', 1), ('soup', 1), ('east', 1), ('fractions', 1), ('sweden', 1), ('spoiled', 1), ('wasnnthats', 1), ('public', 1), ('bathrooms', 1), ('shielding', 1), ('funnies', 1), ('erika', 1), ('removed', 1), ('broooooo', 1), ('yaaaaay', 1), ('legs', 1), ('scenes', 1), ('voice', 1), ('actors', 1), ('ðąńk', 1), ('lmfao', 1), ('counter', 1), ('symbol', 1), ('capital', 1), ('profile', 1), ('beaten', 1), ('nyc', 1), ('happendnnhi', 1), ('sherlock', 1), ('holmes', 1), ('pleased', 1), ('wallace', 1), ('feminist', 1), ('incel', 1), ('forgotten', 1), ('grandchildren', 1), ('implying', 1), ('natural', 1), ('200kg', 1), ('whale', 1), ('personality', 1), ('bullshit', 1), ('improve', 1), ('expert', 1), ('hopes', 1), ('rage', 1), ('normiennit', 1), ('jerked', 1), ('oblivionnn', 1), ('jerks', 1), ('gamennftfynni', 1), ('popularnnwhoa', 1), ('longtime', 1), ('niche', 1), ('appreciated', 1), ('minority', 1), ('population', 1), ('recognised', 1), ('ye', 1), ('dumbass', 1), ('hurts', 1), ('mw2', 1), ('mates', 1), ('deadbirdoboi', 1), ('sadly', 1), ('couldve', 1), ('shinzouuuu', 1), ('attack', 1), ('titan', 1), ('mum', 1), ('shite', 1), ('raining', 1), ('antidefamation', 1), ('leagues', 1), ('database', 1), ('symbols', 1), ('alongside', 1), ('logos', 1), ('including', 1), ('swastika', 1), ('drop', 1), ('cross', 1), ('ku', 1), ('klux', 1), ('klan', 1), ('smiled', 1), ('sudden', 1), ('realization', 1), ('vanish', 1), ('lad', 1), ('returned', 1), ('seasons', 1), ('stopped', 1), ('purely', 1), ('responses', 1), ('hippy', 1), ('rocks', 1), ('importantlynnis', 1), ('springs', 1), ('incorrect', 1), ('calculation', 1), ('heartwarming', 1), ('teaching', 1), ('fat', 1), ('tactics', 1), ('counterproductive', 1), ('assassinate', 1), ('activism', 1), ('sport', 1), ('welcome', 1), ('hotel', 1), ('california', 1), ('nodankntntnt', 1), ('understandable', 1), ('glad', 1), ('reasonable', 1), ('cunt', 1), ('norway', 1), ('insightful', 1), ('theoretically', 1), ('sterling', 1), ('enginepowered', 1), ('submarine', 1), ('carrier', 1), ('undetectable', 1), ('modern', 1), ('warships', 1), ('suggest', 1), ('engineeringnhttpsyoutubesacdvap5cow', 1), ('elses', 1), ('reposted', 1), ('france', 1), ('pronounced', 1), ('pronounces', 1), ('pronouces', 1), ('merchant', 1), ('kidding', 1), ('bunch', 1), ('dumbasses', 1), ('austria', 1), ('occupied', 1), ('habsburgs', 1), ('austrians', 1), ('spritzwein', 1), ('wine', 1), ('mixed', 1), ('sparkling', 1), ('yassss', 1), ('tongue', 1), ('urethra', 1), ('slither', 1), ('testicles', 1), ('glorofied', 1), ('disapointment', 1), ('immeasurable', 1), ('ruined', 1), ('boomernnthat', 1), ('smells', 1), ('holllly', 1), ('shirt', 1), ('politely', 1), ('asks', 1), ('redditnso', 1), ('chosen', 1), ('revision', 1), ('conservatives', 1), ('duonndemocrats', 1), ('projectionnnstop', 1), ('pestering', 1), ('screeching', 1), ('travelled', 1), ('cus', 1), ('sometimes', 1), ('confidence', 1), ('uncultured', 1), ('swine', 1), ('pokemon', 1), ('cycle', 1), ('meand', 1), ('hitting', 1), ('peak', 1), ('epstein', 1), ('finds', 1), ('constructing', 1), ('tree', 1), ('ended', 1), ('branches', 1), ('final', 1), ('meg', 1), ('everytime', 1), ('arguement', 1), ('spell', 1), ('deku', 1), ('devilartemis', 1), ('cell', 1), ('frog', 1), ('encounters', 1), ('arena', 1), ('ranging', 1), ('ugandan', 1), ('knuckles', 1), ('captain', 1), ('crunch', 1), ('popped', 1), ('choose', 1), ('reminded', 1), ('ono', 1), ('turns', 1), ('hight', 1), ('volume', 1), ('watches', 1), ('louder', 1), ('usually', 1), ('headache', 1), ('unless', 1), ('headphones', 1), ('nso', 1), ('legend', 1), ('arise', 1), ('rough', 1), ('morning', 1), ('waterboard', 1), ('onto', 1), ('estoy', 1), ('bailando', 1), ('restos', 1), ('dia', 1), ('escuela', 1), ('tengo', 1), ('acentos', 1), ('porq', 1), ('es', 1), ('teclado', 1), ('ingles', 1), ('bluetooth', 1), ('spent', 1), ('airpod', 1), ('pairs', 1), ('lucky', 1), ('horrible', 1), ('sounding', 1), ('airpodsnndont', 1), ('props', 1), ('redesigned', 1), ('lemme', 1), ('dm', 1), ('imma', 1), ('fap', 1), ('sexiest', 1), ('ogres', 1), ('spoiler', 1), ('ᚤᛖᛏ', 1), ('argument', 1), ('share', 1), ('crave', 1), ('pixels', 1), ('fuccing', 1), ('nonono', 1), ('infamous', 1), ('xcq', 1), ('nani', 1), ('jamming', 1), ('anal', 1), ('fisting', 1), ('fudge', 1), ('willy', 1), ('😫😫😤😤😤😱u0001f92cu0001f92c', 1), ('indicate', 1), ('aside', 1), ('adrenaline', 1), ('shown', 1), ('killings', 1), ('news', 1), ('documenting', 1), ('deaths', 1), ('shows', 1), ('stretches', 1), ('holds', 1), ('fairly', 1), ('factor', 1), ('refers', 1), ('knows', 1), ('thingni', 1), ('raging', 1), ('neckbeard', 1), ('cutting', 1), ('spite', 1), ('backwards', 1), ('compatibility', 1), ('disc', 1), ('moot', 1), ('selling', 1), ('complain', 1), ('sold', 1), ('lf', 1), ('fault', 1), ('horse', 1), ('whopping', 1), ('براه', 1), ('مومنت', 1), ('המשימה', 1), ('נכשלה', 1), ('נתפוס', 1), ('אותם', 1), ('בפעם', 1), ('הבאה', 1), ('tacos', 1), ('thr', 1), ('chuckle', 1), ('gasp', 1), ('pack', 1), ('george', 1), ('5’75’8', 1), ('jon', 1), ('inch', 1), ('taller', 1), ('niggiology', 1), ('srry', 1), ('alternating', 1), ('capitals', 1), ('symbolizes', 1), ('gotta', 1), ('pillow', 1), ('percent', 1), ('horny', 1), ('teen', 1), ('yearsnnfucking', 1), ('gaynnwhy', 1), ('favour', 1), ('combination', 1), ('httpswwwgooglecommxampsmedicalxpresscomnews201712linkolderbrothersoddshomosexualamp', 1), ('epigenetics', 1), ('genes', 1), ('express', 1), ('girls', 1), ('pirate', 1), ('oc', 1), ('consequence', 1), ('circlejerk', 1), ('commented', 1), ('333nnnn°○°', 1), ('trigger', 1), ('carried', 1), ('scraping', 1), ('csgo', 1), ('immediately', 1), ('spamming', 1), ('documentaries', 1), ('following', 1), ('security', 1), ('cameras', 1), ('complex', 1), ('devices', 1), ('handful', 1), ('funnier', 1), ('tiktoks', 1), ('marsh', 1), ('desire', 1), ('boobies', 1), ('i’d', 1), ('youtube', 1), ('stare', 1), ('woman’s', 1), ('hawk', 1), ('babysitter', 1), ('forget', 1), ('itnn5', 1), ('remembered', 1), ('secual', 1), ('͜ʖ', 1), ('puppies', 1), ('dietcokefountain', 1), ('burning', 1), ('feelis', 1), ('majored', 1), ('engineering', 1), ('trig', 1), ('rhinquist', 1), ('theorem', 1), ('binary', 1), ('awakening', 1), ('licks', 1), ('chemical', 1), ('romance', 1), ('band', 1), ('sarcasm', 1), ('“its', 1), ('culture”', 1), ('nonboomer', 1), ('evolving', 1), ('adolescence', 1), ('werent', 1), ('wonderful', 1), ('tonio', 1), ('trussardi', 1), ('lochescion', 1), ('vorrai', 1), ('dire', 1), ('‘co', 1), ('dio', 1), ('spiace', 1), ('si', 1), ('catalonian', 1), ('protesters', 1), ('write', 1), ('dijite', 1), ('tula', 1), ('often', 1), ('hhhhhhmmmmmmmmmmmmmm', 1), ('neccesary', 1), ('evil', 1), ('families', 1), ('civilians', 1), ('andor', 1), ('demoralizing', 1), ('fits', 1), ('throwing', 1), ('definitions', 1), ('constitutes', 1), ('serious', 1), ('violation', 1), ('responsibility1', 1), ('beastnnhappy', 1), ('replied', 1), ('dictators', 1), ('keeps', 1), ('saved', 1), ('nomination', 1), ('fall', 1), ('cracks', 1), ('viva', 1), ('revolution', 1), ('irrelevant', 1), ('madennim', 1), ('trolling', 1), ('gene', 1), ('therenfuck', 1), ('dancing', 1), ('term', 1), ('✿◠‿◠', 1), ('consider', 1), ('ages', 1), ('tf2', 1), ('rare', 1), ('spycrabs', 1), ('wild', 1), ('str', 1), ('automoderater', 1), ('hive', 1), ('dislike', 1), ('minecraftfortnite', 1), ('goodbad', 1), ('declining', 1), ('guessing', 1), ('saynntwo', 1), ('bland', 1), ('generic', 1), ('grab', 1), ('looongdead', 1), ('banal', 1), ('messages', 1), ('friendship', 1), ('graphically', 1), ('wise', 1), ('middleoftheroad', 1), ('neither', 1), ('sicko', 1), ('ring', 1), ('godzilla', 1), ('dosent', 1), ('encouragement', 1), ('7am', 1), ('pm', 1), ('everyday', 1), ('bright', 1), ('side', 1), ('experiencing', 1), ('strict', 1), ('discipline', 1), ('abusiveextreme', 1), ('challenges', 1), ('throws', 1), ('jump', 1), ('hoops', 1), ('soon', 1), ('you’ll', 1), ('freedoms', 1), ('liberties', 1), ('antialiasing', 1), ('seys', 1), ('clid', 1), ('recovery', 1), ('nnಠಠ', 1), ('̵͇̿̿̿̿', 1), ('cute', 1), ('wannabe', 1), ('skeleton', 1), ('bromance', 1), ('dodgy', 1), ('shop', 1), ('local', 1), ('homeless', 1), ('hang', 1), ('plaza', 1), ('delivery', 1), ('chad', 1), ('digdug', 1), ('refilmed', 1), ('liveaction', 1), ('art', 1), ('kick', 1), ('chefs', 1), ('3d', 1), ('branche', 1), ('unpaid', 1), ('abomination', 1), ('uuwuwizard', 1), ('shisubekinedit', 1), ('kurzgesagt', 1), ('minecrafters', 1), ('urepostsleuthbot', 1), ('lose', 1), ('task', 1), ('successfullynnedit', 1), ('report', 1), ('millenial', 1), ('cartoonish', 1), ('shooter', 1), ('withnna', 1), ('list', 1), ('weaponsnna', 1), ('generalnnlittle', 1), ('variety', 1), ('royale', 1), ('modennno', 1), ('sensennand', 1), ('dev', 1), ('crappy', 1), ('decisions', 1), ('slap', 1), ('price', 1), ('tag', 1), ('fortnites', 1), ('previously', 1), ('freetoplay', 1), ('fcking', 1), ('dollarsnnlittle', 1), ('talked', 1), ('alexa', 1), ('feature', 1), ('allows', 1), ('quiz', 1), ('wish', 1), ('besides', 1), ('mediocre', 1), ('incomplete', 1), ('shoved', 1), ('faces', 1), ('moreexperienced', 1), ('gaming', 1), ('community', 1), ('irritated', 1), ('nnthats', 1), ('players', 1), ('acceptable', 1), ('shove', 1), ('throats', 1), ('worship', 1), ('reduced', 1), ('atoms', 1), ('seeing', 1), ('context', 1), ('extend', 1), ('optional', 1), ('lowincome', 1), ('students', 1), ('participate', 1), ('extracurricular', 1), ('who’re', 1), ('afford', 1), ('care', 1), ('homework', 1), ('hunt', 1), ('untill', 1), ('americas', 1), ('horses', 1), ('fur', 1), ('trade', 1), ('hunted', 1), ('stick', 1), ('chances', 1), ('dinner', 1), ('zone', 1), ('wars', 1), ('tons', 1), ('elders', 1), ('bullied', 1), ('summary', 1), ('super', 1), ('advice', 1)]\n"
          ],
          "name": "stdout"
        }
      ]
    },
    {
      "cell_type": "markdown",
      "metadata": {
        "id": "vWesm6QzS6Zq",
        "colab_type": "text"
      },
      "source": [
        "# Creating the other dictionary\n",
        "using the Flickr 8K database"
      ]
    },
    {
      "cell_type": "code",
      "metadata": {
        "id": "i081W-OZS5kk",
        "colab_type": "code",
        "colab": {
          "base_uri": "https://localhost:8080/",
          "height": 374
        },
        "outputId": "65ed4289-a739-4dfb-ea20-3192e25e3194"
      },
      "source": [
        "!wget https://raw.githubusercontent.com/text-machine-lab/MUTT/master/data/flickr/Flickr8k.token.txt\n",
        "#Finding the captions for each image.\n",
        "file = open('Flickr8k.token.txt','r', encoding='utf8')\n",
        "text = file.read()\n",
        "file.close()\n",
        "\n",
        "\n",
        "datatxt = []\n",
        "for line in text.split('\\n'):\n",
        "    col = line.split('\\t')\n",
        "    if len(col) == 1:\n",
        "        continue\n",
        "    w = col[0].split(\"#\") # Splitting the caption dataset at the required position\n",
        "    datatxt.append(w + [col[1].lower()])\n",
        "\n",
        "df_txt = pd.DataFrame(datatxt,columns=[\"filename\",\"index\",\"caption\"])\n",
        "\n",
        "\n",
        "uni_filenames = np.unique(df_txt.filename.values)\n",
        "print(\"The number of unique file names : {}\".format(len(uni_filenames)))\n",
        "print(\"The distribution of the number of captions for each image:\")\n",
        "Counter(Counter(df_txt.filename.values).values())\n",
        "print(df_txt[:5])\n",
        "# flickr_df = pd.read_csv('https://raw.githubusercontent.com/text-machine-lab/MUTT/master/data/flickr/Flickr8k.token.txt', sep='\\t', header=None)\n",
        "\n",
        "# flickr_df.head()"
      ],
      "execution_count": 18,
      "outputs": [
        {
          "output_type": "stream",
          "text": [
            "--2019-11-17 07:47:42--  https://raw.githubusercontent.com/text-machine-lab/MUTT/master/data/flickr/Flickr8k.token.txt\n",
            "Resolving raw.githubusercontent.com (raw.githubusercontent.com)... 151.101.0.133, 151.101.64.133, 151.101.128.133, ...\n",
            "Connecting to raw.githubusercontent.com (raw.githubusercontent.com)|151.101.0.133|:443... connected.\n",
            "HTTP request sent, awaiting response... 200 OK\n",
            "Length: 3395237 (3.2M) [text/plain]\n",
            "Saving to: ‘Flickr8k.token.txt.10’\n",
            "\n",
            "\rFlickr8k.token.txt.   0%[                    ]       0  --.-KB/s               \rFlickr8k.token.txt. 100%[===================>]   3.24M  --.-KB/s    in 0.1s    \n",
            "\n",
            "2019-11-17 07:47:42 (32.0 MB/s) - ‘Flickr8k.token.txt.10’ saved [3395237/3395237]\n",
            "\n",
            "The number of unique file names : 8092\n",
            "The distribution of the number of captions for each image:\n",
            "                    filename  ...                                            caption\n",
            "0  1000268201_693b08cb0e.jpg  ...  a child in a pink dress is climbing up a set o...\n",
            "1  1000268201_693b08cb0e.jpg  ...              a girl going into a wooden building .\n",
            "2  1000268201_693b08cb0e.jpg  ...   a little girl climbing into a wooden playhouse .\n",
            "3  1000268201_693b08cb0e.jpg  ...  a little girl climbing the stairs to her playh...\n",
            "4  1000268201_693b08cb0e.jpg  ...  a little girl in a pink dress going into a woo...\n",
            "\n",
            "[5 rows x 3 columns]\n"
          ],
          "name": "stdout"
        }
      ]
    },
    {
      "cell_type": "code",
      "metadata": {
        "id": "j26C1N23VZiC",
        "colab_type": "code",
        "colab": {
          "base_uri": "https://localhost:8080/",
          "height": 159
        },
        "outputId": "3dd7f477-3e44-43ea-9824-146523a4c496"
      },
      "source": [
        "\n",
        "# Defining a function to calculate the top 3 words in all the captions available for the images\n",
        "def df_word(df_txt):\n",
        "    vocabulary = []\n",
        "    for txt in df_txt.caption.values:\n",
        "        vocabulary.extend(txt.split())\n",
        "    print('Vocabulary Size: %d' % len(set(vocabulary)))\n",
        "    ct = Counter(vocabulary)\n",
        "    dfword = pd.DataFrame({\"word\":list(ct.keys()),\"count\":list(ct.values())})\n",
        "    dfword = dfword.sort_values(\"count\",ascending=False)\n",
        "    dfword = dfword.reset_index()[[\"word\",\"count\"]]\n",
        "    return(dfword)\n",
        "dfword = df_word(df_txt)\n",
        "dfword.head(3)"
      ],
      "execution_count": 19,
      "outputs": [
        {
          "output_type": "stream",
          "text": [
            "Vocabulary Size: 8918\n"
          ],
          "name": "stdout"
        },
        {
          "output_type": "execute_result",
          "data": {
            "text/html": [
              "<div>\n",
              "<style scoped>\n",
              "    .dataframe tbody tr th:only-of-type {\n",
              "        vertical-align: middle;\n",
              "    }\n",
              "\n",
              "    .dataframe tbody tr th {\n",
              "        vertical-align: top;\n",
              "    }\n",
              "\n",
              "    .dataframe thead th {\n",
              "        text-align: right;\n",
              "    }\n",
              "</style>\n",
              "<table border=\"1\" class=\"dataframe\">\n",
              "  <thead>\n",
              "    <tr style=\"text-align: right;\">\n",
              "      <th></th>\n",
              "      <th>word</th>\n",
              "      <th>count</th>\n",
              "    </tr>\n",
              "  </thead>\n",
              "  <tbody>\n",
              "    <tr>\n",
              "      <th>0</th>\n",
              "      <td>a</td>\n",
              "      <td>62989</td>\n",
              "    </tr>\n",
              "    <tr>\n",
              "      <th>1</th>\n",
              "      <td>.</td>\n",
              "      <td>36581</td>\n",
              "    </tr>\n",
              "    <tr>\n",
              "      <th>2</th>\n",
              "      <td>in</td>\n",
              "      <td>18975</td>\n",
              "    </tr>\n",
              "  </tbody>\n",
              "</table>\n",
              "</div>"
            ],
            "text/plain": [
              "  word  count\n",
              "0    a  62989\n",
              "1    .  36581\n",
              "2   in  18975"
            ]
          },
          "metadata": {
            "tags": []
          },
          "execution_count": 19
        }
      ]
    },
    {
      "cell_type": "code",
      "metadata": {
        "id": "qCvG6o8yVfDT",
        "colab_type": "code",
        "colab": {
          "base_uri": "https://localhost:8080/",
          "height": 459
        },
        "outputId": "05f04c75-9a75-41b6-af31-786e03acb8b6"
      },
      "source": [
        "import string\n",
        "text_original = \"I ate 1000 apples and a banana. I have python v2.7. It's 2:30 pm. Could you buy me iphone7?\"\n",
        "\n",
        "print(text_original)\n",
        "print(\"\\nRemove punctuations..\")\n",
        "def remove_punctuation(text_original):\n",
        "    text_no_punctuation = text_original.translate(str.maketrans('','',string.punctuation))\n",
        "    return(text_no_punctuation)\n",
        "text_no_punctuation = remove_punctuation(text_original)\n",
        "print(text_no_punctuation)\n",
        "\n",
        "\n",
        "print(\"\\nRemove a single character word..\")\n",
        "def remove_single_character(text):\n",
        "    text_len_more_than1 = \"\"\n",
        "    for word in text.split():\n",
        "        if len(word) > 1:\n",
        "            text_len_more_than1 += \" \" + word\n",
        "    return(text_len_more_than1)\n",
        "text_len_more_than1 = remove_single_character(text_no_punctuation)\n",
        "print(text_len_more_than1)\n",
        "\n",
        "print(\"\\nRemove words with numeric values..\")\n",
        "def remove_numeric(text,printTF=False):\n",
        "    text_no_numeric = \"\"\n",
        "    for word in text.split():\n",
        "        isalpha = word.isalpha()\n",
        "        if printTF:\n",
        "            print(\"    {:10} : {:}\".format(word,isalpha))\n",
        "        if isalpha:\n",
        "            text_no_numeric += \" \" + word\n",
        "    return(text_no_numeric)\n",
        "text_no_numeric = remove_numeric(text_len_more_than1,printTF=True)\n",
        "print(text_no_numeric)\n",
        "\n",
        "\n",
        "def text_clean(text_original):\n",
        "    text = remove_punctuation(text_original)\n",
        "    text = remove_single_character(text)\n",
        "    text = remove_numeric(text)\n",
        "    return(text)\n",
        "\n",
        "\n",
        "for i, caption in enumerate(df_txt.caption.values):\n",
        "    newcaption = text_clean(caption)\n",
        "    df_txt[\"caption\"].iloc[i] = newcaption"
      ],
      "execution_count": 21,
      "outputs": [
        {
          "output_type": "stream",
          "text": [
            "I ate 1000 apples and a banana. I have python v2.7. It's 2:30 pm. Could you buy me iphone7?\n",
            "\n",
            "Remove punctuations..\n",
            "I ate 1000 apples and a banana I have python v27 Its 230 pm Could you buy me iphone7\n",
            "\n",
            "Remove a single character word..\n",
            " ate 1000 apples and banana have python v27 Its 230 pm Could you buy me iphone7\n",
            "\n",
            "Remove words with numeric values..\n",
            "    ate        : True\n",
            "    1000       : False\n",
            "    apples     : True\n",
            "    and        : True\n",
            "    banana     : True\n",
            "    have       : True\n",
            "    python     : True\n",
            "    v27        : False\n",
            "    Its        : True\n",
            "    230        : False\n",
            "    pm         : True\n",
            "    Could      : True\n",
            "    you        : True\n",
            "    buy        : True\n",
            "    me         : True\n",
            "    iphone7    : False\n",
            " ate apples and banana have python Its pm Could you buy me\n"
          ],
          "name": "stdout"
        }
      ]
    },
    {
      "cell_type": "markdown",
      "metadata": {
        "id": "Jns4GLsKVoYt",
        "colab_type": "text"
      },
      "source": [
        "## Top 50 words in the dataset"
      ]
    },
    {
      "cell_type": "code",
      "metadata": {
        "id": "BwPC1AjNVrrh",
        "colab_type": "code",
        "colab": {
          "base_uri": "https://localhost:8080/",
          "height": 674
        },
        "outputId": "bb0e15f9-194a-4117-a085-b1caac599408"
      },
      "source": [
        "import matplotlib.pyplot as plt\n",
        "\n",
        "\n",
        "topn = 50\n",
        "\n",
        "def plthist(dfsub, title=\"The top 50 most frequently appearing words\"):\n",
        "    plt.figure(figsize=(20,3))\n",
        "    plt.bar(dfsub.index,dfsub[\"count\"])\n",
        "    plt.yticks(fontsize=20)\n",
        "    plt.xticks(dfsub.index,dfsub[\"word\"],rotation=90,fontsize=20)\n",
        "    plt.title(title,fontsize=20)\n",
        "    plt.show()\n",
        "dfword = df_word(df_txt)\n",
        "plthist(dfword.iloc[:topn,:],\n",
        "        title=\"The top 50 most frequently appearing words\")\n",
        "plthist(dfword.iloc[-topn:,:],\n",
        "        title=\"The least 50 most frequently appearing words\")"
      ],
      "execution_count": 23,
      "outputs": [
        {
          "output_type": "stream",
          "text": [
            "Vocabulary Size: 8763\n"
          ],
          "name": "stdout"
        },
        {
          "output_type": "display_data",
          "data": {
            "image/png": "[encoded data removed]",
            "text/plain": [
              "<Figure size 1440x216 with 1 Axes>"
            ]
          },
          "metadata": {
            "tags": []
          }
        },
        {
          "output_type": "display_data",
          "data": {
            "image/png": "[encoded data removed]",
            "text/plain": [
              "<Figure size 1440x216 with 1 Axes>"
            ]
          },
          "metadata": {
            "tags": []
          }
        }
      ]
    },
    {
      "cell_type": "code",
      "metadata": {
        "id": "ad4KXy6aV6Ag",
        "colab_type": "code",
        "colab": {}
      },
      "source": [
        "from copy import copy\n",
        "def add_start_end_seq_token(captions):\n",
        "    caps = []\n",
        "    for txt in captions:\n",
        "        txt = 'startseq ' + txt + ' endseq'\n",
        "        caps.append(txt)\n",
        "    return(caps)\n",
        "df_txt0 = copy(df_txt)\n",
        "df_txt0[\"caption\"] = add_start_end_seq_token(df_txt[\"caption\"])\n",
        "df_txt0.head(5)\n",
        "del df_txt"
      ],
      "execution_count": 0,
      "outputs": []
    },
    {
      "cell_type": "code",
      "metadata": {
        "id": "B8YMtgjWWXT9",
        "colab_type": "code",
        "colab": {}
      },
      "source": [
        "keepindex = []\n",
        "df_txt0 = df_txt0.loc[df_txt0[\"index\"].values == \"0\",: ]\n",
        "for i, fnm in enumerate(df_txt0.filename):\n",
        "    # if fnm in images.keys():\n",
        "    keepindex.append(i)\n",
        "\n",
        "#fnames are the names of the image files        \n",
        "fnames = df_txt0[\"filename\"].iloc[keepindex].values\n",
        "#dcaptions are the captions of the images \n",
        "dcaptions = df_txt0[\"caption\"].iloc[keepindex].values"
      ],
      "execution_count": 0,
      "outputs": []
    },
    {
      "cell_type": "code",
      "metadata": {
        "id": "7sUhgbHnWFLH",
        "colab_type": "code",
        "colab": {
          "base_uri": "https://localhost:8080/",
          "height": 105
        },
        "outputId": "0727d3e8-f3cd-4386-e7e5-c905e73c3f8a"
      },
      "source": [
        "from keras.preprocessing.text import Tokenizer\n",
        "## the maximum number of words in dictionary\n",
        "nb_words = 6000\n",
        "tokenizer = Tokenizer(nb_words=nb_words)\n",
        "tokenizer.fit_on_texts(dcaptions)\n",
        "vocab_size = len(tokenizer.word_index) + 1\n",
        "print(\"vocabulary size : {}\".format(vocab_size))\n",
        "dtexts = tokenizer.texts_to_sequences(dcaptions)\n",
        "print(dtexts[:5])"
      ],
      "execution_count": 32,
      "outputs": [
        {
          "output_type": "stream",
          "text": [
            "/usr/local/lib/python3.6/dist-packages/keras_preprocessing/text.py:178: UserWarning: The `nb_words` argument in `Tokenizer` has been renamed `num_words`.\n",
            "  warnings.warn('The `nb_words` argument in `Tokenizer` '\n"
          ],
          "name": "stderr"
        },
        {
          "output_type": "stream",
          "text": [
            "vocabulary size : 4476\n",
            "[[1, 38, 3, 66, 144, 7, 124, 52, 406, 9, 367, 3, 24, 2351, 523, 2], [1, 12, 8, 5, 752, 8, 17, 368, 2], [1, 48, 15, 170, 3, 584, 101, 3, 41, 9, 551, 1198, 11, 55, 213, 3, 1076, 2], [1, 10, 621, 6, 150, 27, 23, 8, 101, 46, 112, 2], [1, 10, 3, 24, 82, 96, 1199, 19, 162, 2]]\n"
          ],
          "name": "stdout"
        }
      ]
    },
    {
      "cell_type": "code",
      "metadata": {
        "id": "wwDs0klAYd9q",
        "colab_type": "code",
        "colab": {}
      },
      "source": [
        "word_to_idx = tokenizer.word_index\n",
        "idx_to_word = tokenizer.index_word"
      ],
      "execution_count": 0,
      "outputs": []
    },
    {
      "cell_type": "code",
      "metadata": {
        "id": "QUPtRhReWLle",
        "colab_type": "code",
        "colab": {}
      },
      "source": [
        "prop_test, prop_val = 0.2, 0.2 \n",
        "\n",
        "N = len(dtexts)\n",
        "Ntest, Nval = int(N*prop_test), int(N*prop_val)\n",
        "\n",
        "def split_test_val_train(dtexts,Ntest,Nval):\n",
        "    return(dtexts[:Ntest], \n",
        "           dtexts[Ntest:Ntest+Nval],  \n",
        "           dtexts[Ntest+Nval:])\n",
        "\n",
        "dt_test,  dt_val, dt_train   = split_test_val_train(dtexts,Ntest,Nval)\n",
        "fnm_test,fnm_val, fnm_train  = split_test_val_train(fnames,Ntest,Nval)"
      ],
      "execution_count": 0,
      "outputs": []
    },
    {
      "cell_type": "code",
      "metadata": {
        "id": "TVn1I_-rXL6A",
        "colab_type": "code",
        "colab": {
          "base_uri": "https://localhost:8080/",
          "height": 34
        },
        "outputId": "396407b1-8f04-4ac7-9035-89549f50840d"
      },
      "source": [
        "maxlen = np.max([len(text) for text in dtexts])\n",
        "print(maxlen)"
      ],
      "execution_count": 35,
      "outputs": [
        {
          "output_type": "stream",
          "text": [
            "30\n"
          ],
          "name": "stdout"
        }
      ]
    },
    {
      "cell_type": "markdown",
      "metadata": {
        "id": "sUDEtT1cuJjn",
        "colab_type": "text"
      },
      "source": [
        "## Creating the word encoding\n",
        "We assign a number to each word, and encode them using these numbers. In this way, the sentences will now be of the form [1,4,2,6,2,...] (padded to match the needed size)"
      ]
    },
    {
      "cell_type": "code",
      "metadata": {
        "id": "A2yIPSbNpTsp",
        "colab_type": "code",
        "colab": {}
      },
      "source": [
        "vocab_size = 1024\n",
        "\n",
        "word_to_idx = {}\n",
        "idx_to_word = {}\n",
        "for idx, elem in enumerate(word_freq[:vocab_size]):\n",
        "    word_to_idx[elem[0]] = idx\n",
        "    idx_to_word[idx] = elem[0]"
      ],
      "execution_count": 0,
      "outputs": []
    },
    {
      "cell_type": "code",
      "metadata": {
        "id": "FgW0TlMduIfA",
        "colab_type": "code",
        "outputId": "82cff34c-a823-4e8b-ced9-47a66423fecb",
        "colab": {
          "base_uri": "https://localhost:8080/",
          "height": 204
        }
      },
      "source": [
        "def encodeComment(words):\n",
        "    # encoding = np.zeros(max_comment_length, dtype=int)\n",
        "    encoding = [word_to_idx[word] for word in words if word in word_to_idx]\n",
        "    encoding = np.asarray(encoding)\n",
        "    # encoding = sequence.pad_sequences([encoding], maxlen=max_comment_length, padding='post')\n",
        "    encoding = np.reshape(encoding, (len(encoding),))\n",
        "    # encoding = to_categorical(encoding,num_classes = vocab_size)\n",
        "    return encoding\n",
        "\n",
        "df['encoded_comment'] = df.apply(lambda x : encodeComment(x['clean_comment']), axis=1)\n",
        "df.head()"
      ],
      "execution_count": 48,
      "outputs": [
        {
          "output_type": "execute_result",
          "data": {
            "text/html": [
              "<div>\n",
              "<style scoped>\n",
              "    .dataframe tbody tr th:only-of-type {\n",
              "        vertical-align: middle;\n",
              "    }\n",
              "\n",
              "    .dataframe tbody tr th {\n",
              "        vertical-align: top;\n",
              "    }\n",
              "\n",
              "    .dataframe thead th {\n",
              "        text-align: right;\n",
              "    }\n",
              "</style>\n",
              "<table border=\"1\" class=\"dataframe\">\n",
              "  <thead>\n",
              "    <tr style=\"text-align: right;\">\n",
              "      <th></th>\n",
              "      <th>id</th>\n",
              "      <th>postid</th>\n",
              "      <th>url</th>\n",
              "      <th>upvotes</th>\n",
              "      <th>top comment</th>\n",
              "      <th>clean_comment</th>\n",
              "      <th>encoded_comment</th>\n",
              "    </tr>\n",
              "  </thead>\n",
              "  <tbody>\n",
              "    <tr>\n",
              "      <th>0</th>\n",
              "      <td>0</td>\n",
              "      <td>dpoppg</td>\n",
              "      <td>https://i.redd.it/v91swki75wv31.jpg</td>\n",
              "      <td>125639</td>\n",
              "      <td>['Ah\\\\ yes\\\\ the\\\\ I\\\\̓\\\\̉\\\\̓\\\\̆\\\\͗\\\\̭\\\\͇\\\\͙\\\\...</td>\n",
              "      <td>[startseq, ah, yes, the, i̭͇͙̘̤̗̹̣̞̙̝͖̗̮̮̓̉̓̆͗...</td>\n",
              "      <td>[1, 4, 850, 2]</td>\n",
              "    </tr>\n",
              "    <tr>\n",
              "      <th>1</th>\n",
              "      <td>1</td>\n",
              "      <td>dikhsj</td>\n",
              "      <td>https://i.redd.it/osr5o5ox5us31.jpg</td>\n",
              "      <td>105442</td>\n",
              "      <td>['As\\\\ an\\\\ Italian\\\\,\\\\ I\\\\ 100\\\\%\\\\ relate',...</td>\n",
              "      <td>[startseq, as, an, italian, i, relate, thats, ...</td>\n",
              "      <td>[1, 67, 24, 3330, 1685, 1234, 1369, 2049, 2]</td>\n",
              "    </tr>\n",
              "    <tr>\n",
              "      <th>2</th>\n",
              "      <td>2</td>\n",
              "      <td>ds0ttz</td>\n",
              "      <td>https://i.redd.it/p9a9mskj0ww31.jpg</td>\n",
              "      <td>65</td>\n",
              "      <td>['That\\\\'s\\\\ my\\\\ master\\\\ plan', 'OP\\\\ really...</td>\n",
              "      <td>[startseq, thats, my, master, plan, op, really...</td>\n",
              "      <td>[1, 3327, 81, 4, 1317, 4, 2]</td>\n",
              "    </tr>\n",
              "    <tr>\n",
              "      <th>3</th>\n",
              "      <td>3</td>\n",
              "      <td>dgcuf8</td>\n",
              "      <td>https://i.redd.it/flsim843wvr31.jpg</td>\n",
              "      <td>138513</td>\n",
              "      <td>['What\\\\'s\\\\ the\\\\ difference\\\\ between\\\\ 1\\\\ ...</td>\n",
              "      <td>[startseq, whats, the, difference, between, an...</td>\n",
              "      <td>[1, 4, 327, 5, 1193, 1685, 1799, 1585, 7, 1209...</td>\n",
              "    </tr>\n",
              "    <tr>\n",
              "      <th>4</th>\n",
              "      <td>4</td>\n",
              "      <td>dplvla</td>\n",
              "      <td>https://i.redd.it/4j8thq1lyuv31.jpg</td>\n",
              "      <td>35836</td>\n",
              "      <td>['F', '\\\\⠀\\\\⠀\\\\⢀\\\\⡤\\\\⢶\\\\⣶\\\\⣶\\\\⡄\\\\⠀\\\\⠀\\\\⠀\\\\⠀\\\\⠀...</td>\n",
              "      <td>[startseq, ⠀⠀⢀⡤⢶⣶⣶⡄⠀⠀⠀⠀⠀⠀⠀⠀⠀⠀⠀, nn⠀⠀⢀⣠⣤⣤⣤⣿⣧⣀⣀⣀...</td>\n",
              "      <td>[1, 2]</td>\n",
              "    </tr>\n",
              "  </tbody>\n",
              "</table>\n",
              "</div>"
            ],
            "text/plain": [
              "   id  ...                                    encoded_comment\n",
              "0   0  ...                                     [1, 4, 850, 2]\n",
              "1   1  ...       [1, 67, 24, 3330, 1685, 1234, 1369, 2049, 2]\n",
              "2   2  ...                       [1, 3327, 81, 4, 1317, 4, 2]\n",
              "3   3  ...  [1, 4, 327, 5, 1193, 1685, 1799, 1585, 7, 1209...\n",
              "4   4  ...                                             [1, 2]\n",
              "\n",
              "[5 rows x 7 columns]"
            ]
          },
          "metadata": {
            "tags": []
          },
          "execution_count": 48
        }
      ]
    },
    {
      "cell_type": "markdown",
      "metadata": {
        "id": "Q7r8wtMy2ngR",
        "colab_type": "text"
      },
      "source": [
        "## Preparing the inputs\n",
        "Now that everything is well filtered we can prepare the input for the neural network"
      ]
    },
    {
      "cell_type": "code",
      "metadata": {
        "id": "hjuGUU8m2mzG",
        "colab_type": "code",
        "colab": {}
      },
      "source": [
        "def splitData(data, data_size):\n",
        "    train_division = int(0.6*data_size)\n",
        "    test_division = int(0.8*data_size)\n",
        "\n",
        "    data_train = data[0:train_division]\n",
        "    data_test = data[train_division+1:test_division]\n",
        "    data_val = data[test_division+1:]\n",
        "    return data_train, data_test, data_val\n",
        "\n",
        "df_size = df.shape[0]  # gives number of row count\n",
        "[df_train, df_test, df_val] = splitData(df, df_size)"
      ],
      "execution_count": 0,
      "outputs": []
    },
    {
      "cell_type": "code",
      "metadata": {
        "colab_type": "code",
        "id": "JBWP1QNrAkA7",
        "colab": {}
      },
      "source": [
        "def preprocessing(df, images):\n",
        "    Xtext, Ximage, ytext = [],[],[]\n",
        "    for idx, row in df.iterrows():\n",
        "        if row['postid'] in images:\n",
        "            text = row['encoded_comment']\n",
        "            for i in range(1, len(text)):\n",
        "                in_text, out_text = text[:i], text[i]\n",
        "                in_text = sequence.pad_sequences([in_text],maxlen=max_comment_length, padding='post').flatten()\n",
        "                out_text = to_categorical(out_text,num_classes = vocab_size)\n",
        "                                        \n",
        "                Xtext.append(in_text)\n",
        "                Ximage.append(images[row['postid']])\n",
        "                ytext.append(out_text)\n",
        "\n",
        "    Xtext  = np.array(Xtext)\n",
        "    Ximage = np.array(Ximage)\n",
        "    ytext  = np.array(ytext)\n",
        "\n",
        "    return (Xtext,Ximage,ytext)"
      ],
      "execution_count": 0,
      "outputs": []
    },
    {
      "cell_type": "markdown",
      "metadata": {
        "id": "Ei942nBb7uFT",
        "colab_type": "text"
      },
      "source": [
        "## Defining the model\n",
        "We will use the Keras functional API. We will define a model that recieves the comments and passes them through Embedding and LSTM layers, and also recieves the information from the images and channels it all through some dense layers."
      ]
    },
    {
      "cell_type": "code",
      "metadata": {
        "id": "_pFMhxSE88ha",
        "colab_type": "code",
        "colab": {}
      },
      "source": [
        "# hyperparameters\n",
        "embedding_dim = 256\n",
        "vgg_output_size = 4096\n"
      ],
      "execution_count": 0,
      "outputs": []
    },
    {
      "cell_type": "code",
      "metadata": {
        "id": "HKw94_OZ7tvB",
        "colab_type": "code",
        "colab": {}
      },
      "source": [
        "# image feature extractor model\n",
        "inputs1 = Input(shape=(vgg_output_size,))\n",
        "fe1 = Dropout(0.5)(inputs1)\n",
        "fe2 = Dense(256, activation='relu')(fe1)\n",
        "\n",
        "# partial caption sequence model\n",
        "inputs2 = Input(shape=(max_comment_length,))\n",
        "se1 = Embedding(vocab_size, embedding_dim, mask_zero=True)(inputs2)\n",
        "se2 = Dropout(0.5)(se1)\n",
        "se3 = LSTM(256, return_sequences=True)(se2)\n",
        "se3 = Dropout(0.5)(se3)\n",
        "se3, state_h, state_c = LSTM(256, return_state=True)(se3)\n",
        "encoder_states = [state_h, state_c]\n",
        "\n",
        "\n",
        "# decoder (feed forward) model\n",
        "decoder1 = Add()([fe2, se3])\n",
        "# decoder1 = Embedding(vocab_size, embedding_dim)(decoder1)\n",
        "# decoder1 = LSTM(256)(decoder1)\n",
        "# decoder1 = Concatenate()([fe2, se3])\n",
        "# decoder1 = se3\n",
        "decoder2 = Dense(256, activation='relu')(decoder1)\n",
        "decoder2 = Dense(256, activation='relu')(decoder2)\n",
        "outputs = Dense(vocab_size, activation='softmax')(decoder2)\n",
        "\n",
        "# merge the two input models\n",
        "model = Model(inputs=[inputs1, inputs2], outputs=outputs)"
      ],
      "execution_count": 0,
      "outputs": []
    },
    {
      "cell_type": "code",
      "metadata": {
        "id": "dB9mgTh--eF1",
        "colab_type": "code",
        "colab": {}
      },
      "source": [
        "model.compile(loss='categorical_crossentropy', optimizer='adam')"
      ],
      "execution_count": 0,
      "outputs": []
    },
    {
      "cell_type": "code",
      "metadata": {
        "id": "oUZkU5LmMSE-",
        "colab_type": "code",
        "colab": {}
      },
      "source": [
        "[xtext_train, ximage_train, ytrain] = preprocessing(df_train, images)\n",
        "[xtext_test, ximage_test, ytest] = preprocessing(df_test, images)\n",
        "[xtext_val, ximage_val, yval] = preprocessing(df_val, images)"
      ],
      "execution_count": 0,
      "outputs": []
    },
    {
      "cell_type": "code",
      "metadata": {
        "id": "VzaGbN96-oCa",
        "colab_type": "code",
        "outputId": "5f0df159-4369-4998-e4d3-ad947d384f20",
        "colab": {
          "base_uri": "https://localhost:8080/",
          "height": 68
        }
      },
      "source": [
        "model.fit([ximage_train, xtext_train], ytrain, epochs=1, batch_size=128)"
      ],
      "execution_count": 0,
      "outputs": [
        {
          "output_type": "stream",
          "text": [
            "Train on 8239 samples\n",
            "8239/8239 [==============================] - 85s 10ms/sample - loss: 6.0701\n"
          ],
          "name": "stdout"
        },
        {
          "output_type": "execute_result",
          "data": {
            "text/plain": [
              "<tensorflow.python.keras.callbacks.History at 0x7f10d62c4f60>"
            ]
          },
          "metadata": {
            "tags": []
          },
          "execution_count": 36
        }
      ]
    },
    {
      "cell_type": "code",
      "metadata": {
        "id": "tSZumq2pc2dM",
        "colab_type": "code",
        "colab": {}
      },
      "source": [
        "model.save('model.h5')"
      ],
      "execution_count": 0,
      "outputs": []
    },
    {
      "cell_type": "markdown",
      "metadata": {
        "id": "kf90tlw4VRAQ",
        "colab_type": "text"
      },
      "source": [
        "## Predicting photo captions with the model\n",
        "A so-called 'greedy-search' algorithm feeds the picture and a start sequence to the network. It then takes the output word and feeds it along with the picture to the net again. This goes on until the word limit is achieved or an end sequence is received."
      ]
    },
    {
      "cell_type": "code",
      "metadata": {
        "id": "l1RoC5ioVtPT",
        "colab_type": "code",
        "colab": {}
      },
      "source": [
        "import time\n",
        "\n",
        "def inverseFreq(word_freq):\n",
        "    output = []\n",
        "    for elem in word_freq:\n",
        "        if elem != 'PAD':\n",
        "            output.append(1/elem[1])\n",
        "        else:\n",
        "            output.append(0)\n",
        "    return np.array(output)\n",
        "\n",
        "def greedySearch(photo):\n",
        "    np.random.seed(int(time.time()))\n",
        "    # in_text = idx_to_word[np.random.randint(1, 100, 1)[0]]\n",
        "    in_text = 'startseq'\n",
        "    comment_length = 25\n",
        "    # for i in range(max_comment_length):\n",
        "    for i in range(comment_length):\n",
        "        seq = [word_to_idx[w] for w in in_text.split() if w in word_to_idx]\n",
        "        seq = sequence.pad_sequences([seq], maxlen=max_comment_length, padding='post')\n",
        "        yhat = model.predict([photo, seq])\n",
        "        yhat[0][word_to_idx['endseq']] -= 0.05*max(20-i, 0)\n",
        "        # yhat[0][word_to_idx[in_text.split()[-1]]] -= 1\n",
        "        # yhat = yhat*inverseFreq(word_freq[:vocab_size])*1.3\n",
        "\n",
        "        # for idx, word in enumerate(in_text.split(' ')):\n",
        "        #     yhat[0][word_to_idx[word]] -= max(0.3 - idx*0.01, 0)\n",
        "        \n",
        "        yhat = np.argmax(yhat)\n",
        "        word = idx_to_word[yhat]\n",
        "        in_text += ' ' + word\n",
        "        if word == 'endseq':\n",
        "            break\n",
        "    final = in_text.split()\n",
        "    # final = final[1:-1]\n",
        "    final = ' '.join(final)\n",
        "    return final"
      ],
      "execution_count": 0,
      "outputs": []
    },
    {
      "cell_type": "code",
      "metadata": {
        "id": "WVj9inSifGcT",
        "colab_type": "code",
        "outputId": "0e780471-c362-4432-cab1-85ea0b79fb09",
        "colab": {
          "base_uri": "https://localhost:8080/",
          "height": 34
        }
      },
      "source": [
        "output = greedySearch(np.array([ximage_test[100]]))\n",
        "print(output)"
      ],
      "execution_count": 0,
      "outputs": [
        {
          "output_type": "stream",
          "text": [
            "startseq no the its dont to have is i from endseq\n"
          ],
          "name": "stdout"
        }
      ]
    },
    {
      "cell_type": "code",
      "metadata": {
        "id": "-I1JT9_Tg3IN",
        "colab_type": "code",
        "outputId": "755c6ef8-b8c8-455f-cc16-eb7a5cd58b52",
        "colab": {
          "base_uri": "https://localhost:8080/",
          "height": 632
        }
      },
      "source": [
        "model.summary()"
      ],
      "execution_count": 0,
      "outputs": [
        {
          "output_type": "stream",
          "text": [
            "Model: \"model_3\"\n",
            "__________________________________________________________________________________________________\n",
            "Layer (type)                    Output Shape         Param #     Connected to                     \n",
            "==================================================================================================\n",
            "input_16 (InputLayer)           [(None, 394)]        0                                            \n",
            "__________________________________________________________________________________________________\n",
            "embedding_5 (Embedding)         (None, 394, 256)     262144      input_16[0][0]                   \n",
            "__________________________________________________________________________________________________\n",
            "dropout_1 (Dropout)             (None, 394, 256)     0           embedding_5[0][0]                \n",
            "__________________________________________________________________________________________________\n",
            "input_15 (InputLayer)           [(None, 4096)]       0                                            \n",
            "__________________________________________________________________________________________________\n",
            "lstm_13 (LSTM)                  (None, 394, 256)     525312      dropout_1[0][0]                  \n",
            "__________________________________________________________________________________________________\n",
            "dropout (Dropout)               (None, 4096)         0           input_15[0][0]                   \n",
            "__________________________________________________________________________________________________\n",
            "dropout_2 (Dropout)             (None, 394, 256)     0           lstm_13[0][0]                    \n",
            "__________________________________________________________________________________________________\n",
            "dense_2 (Dense)                 (None, 256)          1048832     dropout[0][0]                    \n",
            "__________________________________________________________________________________________________\n",
            "lstm_14 (LSTM)                  [(None, 256), (None, 525312      dropout_2[0][0]                  \n",
            "__________________________________________________________________________________________________\n",
            "add (Add)                       (None, 256)          0           dense_2[0][0]                    \n",
            "                                                                 lstm_14[0][0]                    \n",
            "__________________________________________________________________________________________________\n",
            "dense_3 (Dense)                 (None, 256)          65792       add[0][0]                        \n",
            "__________________________________________________________________________________________________\n",
            "dense_4 (Dense)                 (None, 256)          65792       dense_3[0][0]                    \n",
            "__________________________________________________________________________________________________\n",
            "dense_5 (Dense)                 (None, 1024)         263168      dense_4[0][0]                    \n",
            "==================================================================================================\n",
            "Total params: 2,756,352\n",
            "Trainable params: 2,756,352\n",
            "Non-trainable params: 0\n",
            "__________________________________________________________________________________________________\n"
          ],
          "name": "stdout"
        }
      ]
    },
    {
      "cell_type": "markdown",
      "metadata": {
        "id": "tn7DjZd4LNvp",
        "colab_type": "text"
      },
      "source": [
        "## Another model"
      ]
    },
    {
      "cell_type": "code",
      "metadata": {
        "id": "WCzgerIYLC0J",
        "colab_type": "code",
        "outputId": "63f3664b-2dea-451b-9757-77a19c765e04",
        "colab": {
          "base_uri": "https://localhost:8080/",
          "height": 510
        }
      },
      "source": [
        "import tensorflow.keras as keras\n",
        "\n",
        "model = keras.models.load_model('Image_Caption_Generator.h5')\n",
        "model.summary()"
      ],
      "execution_count": 130,
      "outputs": [
        {
          "output_type": "stream",
          "text": [
            "Model: \"model_2\"\n",
            "__________________________________________________________________________________________________\n",
            "Layer (type)                    Output Shape         Param #     Connected to                     \n",
            "==================================================================================================\n",
            "input_3 (InputLayer)            [(None, 30)]         0                                            \n",
            "__________________________________________________________________________________________________\n",
            "embedding_1 (Embedding)         (None, 30, 64)       286464      input_3[0][0]                    \n",
            "__________________________________________________________________________________________________\n",
            "CaptionFeature (LSTM)           (None, 30, 256)      328704      embedding_1[0][0]                \n",
            "__________________________________________________________________________________________________\n",
            "dropout_1 (Dropout)             (None, 30, 256)      0           CaptionFeature[0][0]             \n",
            "__________________________________________________________________________________________________\n",
            "input_2 (InputLayer)            [(None, 4096)]       0                                            \n",
            "__________________________________________________________________________________________________\n",
            "CaptionFeature2 (LSTM)          (None, 256)          525312      dropout_1[0][0]                  \n",
            "__________________________________________________________________________________________________\n",
            "ImageFeature (Dense)            (None, 256)          1048832     input_2[0][0]                    \n",
            "__________________________________________________________________________________________________\n",
            "add_1 (Add)                     (None, 256)          0           CaptionFeature2[0][0]            \n",
            "                                                                 ImageFeature[0][0]               \n",
            "__________________________________________________________________________________________________\n",
            "dense_1 (Dense)                 (None, 256)          65792       add_1[0][0]                      \n",
            "__________________________________________________________________________________________________\n",
            "dense_2 (Dense)                 (None, 4476)         1150332     dense_1[0][0]                    \n",
            "==================================================================================================\n",
            "Total params: 3,405,436\n",
            "Trainable params: 3,405,436\n",
            "Non-trainable params: 0\n",
            "__________________________________________________________________________________________________\n"
          ],
          "name": "stdout"
        }
      ]
    },
    {
      "cell_type": "code",
      "metadata": {
        "id": "q0FUavBlR6Xp",
        "colab_type": "code",
        "outputId": "49870d35-9535-4c77-9f13-0832611ca606",
        "colab": {
          "base_uri": "https://localhost:8080/",
          "height": 170
        }
      },
      "source": [
        "for layer in model.layers[:-1]:\n",
        "    layer.trainable = False\n",
        "    print(layer, layer.trainable)\n",
        "\n",
        "model.compile(optimizer='adam', loss='categorical_crossentropy')"
      ],
      "execution_count": 131,
      "outputs": [
        {
          "output_type": "stream",
          "text": [
            "<tensorflow.python.keras.engine.input_layer.InputLayer object at 0x7efc6b397c50> False\n",
            "<tensorflow.python.keras.layers.embeddings.Embedding object at 0x7efc6b397550> False\n",
            "<tensorflow.python.keras.layers.recurrent.LSTM object at 0x7efc6b397b38> False\n",
            "<tensorflow.python.keras.layers.core.Dropout object at 0x7efc6b397d30> False\n",
            "<tensorflow.python.keras.engine.input_layer.InputLayer object at 0x7efc6b3db5c0> False\n",
            "<tensorflow.python.keras.layers.recurrent.LSTM object at 0x7efc6b396f98> False\n",
            "<tensorflow.python.keras.layers.core.Dense object at 0x7efc6b3db198> False\n",
            "<tensorflow.python.keras.layers.merge.Add object at 0x7efc6b3db2b0> False\n",
            "<tensorflow.python.keras.layers.core.Dense object at 0x7efc6b3dbe80> False\n"
          ],
          "name": "stdout"
        }
      ]
    },
    {
      "cell_type": "code",
      "metadata": {
        "id": "NjJSqY6ASWz_",
        "colab_type": "code",
        "colab": {
          "base_uri": "https://localhost:8080/",
          "height": 1000
        },
        "outputId": "5019a68a-b101-4e30-aef1-cc7e1d90c336"
      },
      "source": [
        "model.fit([ximage_train, xtext_train], ytrain, epochs=50, batch_size=32)"
      ],
      "execution_count": 132,
      "outputs": [
        {
          "output_type": "stream",
          "text": [
            "Train on 1518 samples\n",
            "Epoch 1/50\n",
            "1518/1518 [==============================] - 6s 4ms/sample - loss: 10.0472\n",
            "Epoch 2/50\n",
            "1518/1518 [==============================] - 2s 1ms/sample - loss: 9.4450\n",
            "Epoch 3/50\n",
            "1518/1518 [==============================] - 2s 1ms/sample - loss: 8.9297\n",
            "Epoch 4/50\n",
            "1518/1518 [==============================] - 2s 1ms/sample - loss: 8.4808\n",
            "Epoch 5/50\n",
            "1518/1518 [==============================] - 2s 2ms/sample - loss: 8.0730\n",
            "Epoch 6/50\n",
            "1518/1518 [==============================] - 2s 2ms/sample - loss: 7.7069\n",
            "Epoch 7/50\n",
            "1518/1518 [==============================] - 2s 2ms/sample - loss: 7.3692\n",
            "Epoch 8/50\n",
            "1518/1518 [==============================] - 2s 2ms/sample - loss: 7.0728\n",
            "Epoch 9/50\n",
            "1518/1518 [==============================] - 2s 1ms/sample - loss: 6.7970\n",
            "Epoch 10/50\n",
            "1518/1518 [==============================] - 2s 1ms/sample - loss: 6.5607\n",
            "Epoch 11/50\n",
            "1518/1518 [==============================] - 2s 2ms/sample - loss: 6.3265\n",
            "Epoch 12/50\n",
            "1518/1518 [==============================] - 2s 1ms/sample - loss: 6.1297\n",
            "Epoch 13/50\n",
            "1518/1518 [==============================] - 2s 1ms/sample - loss: 5.9359\n",
            "Epoch 14/50\n",
            "1518/1518 [==============================] - 2s 1ms/sample - loss: 5.7681\n",
            "Epoch 15/50\n",
            "1518/1518 [==============================] - 2s 2ms/sample - loss: 5.6148\n",
            "Epoch 16/50\n",
            "1518/1518 [==============================] - 2s 2ms/sample - loss: 5.4713\n",
            "Epoch 17/50\n",
            "1518/1518 [==============================] - 2s 2ms/sample - loss: 5.3419\n",
            "Epoch 18/50\n",
            "1518/1518 [==============================] - 2s 2ms/sample - loss: 5.2177\n",
            "Epoch 19/50\n",
            "1518/1518 [==============================] - 2s 1ms/sample - loss: 5.0997\n",
            "Epoch 20/50\n",
            "1518/1518 [==============================] - 2s 1ms/sample - loss: 4.9850\n",
            "Epoch 21/50\n",
            "1518/1518 [==============================] - 2s 1ms/sample - loss: 4.8864\n",
            "Epoch 22/50\n",
            "1518/1518 [==============================] - 2s 2ms/sample - loss: 4.7821\n",
            "Epoch 23/50\n",
            "1518/1518 [==============================] - 2s 2ms/sample - loss: 4.6971\n",
            "Epoch 24/50\n",
            "1518/1518 [==============================] - 2s 1ms/sample - loss: 4.6092\n",
            "Epoch 25/50\n",
            "1518/1518 [==============================] - 2s 1ms/sample - loss: 4.5257\n",
            "Epoch 26/50\n",
            "1518/1518 [==============================] - 2s 1ms/sample - loss: 4.4573\n",
            "Epoch 27/50\n",
            "1518/1518 [==============================] - 2s 2ms/sample - loss: 4.3839\n",
            "Epoch 28/50\n",
            "1518/1518 [==============================] - 2s 2ms/sample - loss: 4.3164\n",
            "Epoch 29/50\n",
            "1518/1518 [==============================] - 2s 1ms/sample - loss: 4.2381\n",
            "Epoch 30/50\n",
            "1518/1518 [==============================] - 2s 2ms/sample - loss: 4.1775\n",
            "Epoch 31/50\n",
            "1518/1518 [==============================] - 2s 2ms/sample - loss: 4.1217\n",
            "Epoch 32/50\n",
            "1518/1518 [==============================] - 2s 2ms/sample - loss: 4.0603\n",
            "Epoch 33/50\n",
            "1518/1518 [==============================] - 2s 1ms/sample - loss: 4.0032\n",
            "Epoch 34/50\n",
            "1518/1518 [==============================] - 2s 2ms/sample - loss: 3.9582\n",
            "Epoch 35/50\n",
            "1518/1518 [==============================] - 2s 1ms/sample - loss: 3.9003\n",
            "Epoch 36/50\n",
            "1518/1518 [==============================] - 2s 1ms/sample - loss: 3.8503\n",
            "Epoch 37/50\n",
            "1518/1518 [==============================] - 2s 1ms/sample - loss: 3.7977\n",
            "Epoch 38/50\n",
            "1518/1518 [==============================] - 2s 1ms/sample - loss: 3.7477\n",
            "Epoch 39/50\n",
            "1518/1518 [==============================] - 2s 1ms/sample - loss: 3.7056\n",
            "Epoch 40/50\n",
            "1518/1518 [==============================] - 2s 1ms/sample - loss: 3.6555\n",
            "Epoch 41/50\n",
            "1518/1518 [==============================] - 2s 2ms/sample - loss: 3.6152\n",
            "Epoch 42/50\n",
            "1518/1518 [==============================] - 2s 1ms/sample - loss: 3.5740\n",
            "Epoch 43/50\n",
            "1518/1518 [==============================] - 2s 1ms/sample - loss: 3.5331\n",
            "Epoch 44/50\n",
            "1518/1518 [==============================] - 2s 2ms/sample - loss: 3.4906\n",
            "Epoch 45/50\n",
            "1518/1518 [==============================] - 2s 1ms/sample - loss: 3.4547\n",
            "Epoch 46/50\n",
            "1518/1518 [==============================] - 2s 2ms/sample - loss: 3.4223\n",
            "Epoch 47/50\n",
            "1518/1518 [==============================] - 2s 1ms/sample - loss: 3.3842\n",
            "Epoch 48/50\n",
            "1518/1518 [==============================] - 2s 1ms/sample - loss: 3.3499\n",
            "Epoch 49/50\n",
            "1518/1518 [==============================] - 2s 1ms/sample - loss: 3.3161\n",
            "Epoch 50/50\n",
            "1518/1518 [==============================] - 2s 1ms/sample - loss: 3.2805\n"
          ],
          "name": "stdout"
        },
        {
          "output_type": "execute_result",
          "data": {
            "text/plain": [
              "<tensorflow.python.keras.callbacks.History at 0x7efc6b3360f0>"
            ]
          },
          "metadata": {
            "tags": []
          },
          "execution_count": 132
        }
      ]
    },
    {
      "cell_type": "code",
      "metadata": {
        "id": "YON2WTOANMlP",
        "colab_type": "code",
        "outputId": "82da529d-c5ef-4b93-8148-ddd8bf18b6cf",
        "colab": {
          "base_uri": "https://localhost:8080/",
          "height": 51
        }
      },
      "source": [
        "# output = greedySearch(np.array([ximage_test[93]]))\n",
        "idx = 134\n",
        "output = greedySearch(np.array([images[df['postid'][idx]]]))\n",
        "print(output)\n",
        "print(df['url'][idx])\n",
        "\n"
      ],
      "execution_count": 139,
      "outputs": [
        {
          "output_type": "stream",
          "text": [
            "startseq have the new our the how in new but where make language make in the table can ball endseq\n",
            "https://i.redd.it/o0sqcj0o2tw31.jpg\n"
          ],
          "name": "stdout"
        }
      ]
    }
  ]
}